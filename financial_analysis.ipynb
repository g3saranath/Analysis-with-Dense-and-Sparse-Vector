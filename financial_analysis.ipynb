{
 "cells": [
  {
   "attachments": {},
   "cell_type": "markdown",
   "metadata": {},
   "source": [
    "Loading the data from /data directory"
   ]
  },
  {
   "cell_type": "code",
   "execution_count": 2,
   "metadata": {},
   "outputs": [],
   "source": [
    "import pandas as pd\n",
    "import os"
   ]
  },
  {
   "attachments": {},
   "cell_type": "markdown",
   "metadata": {},
   "source": [
    "Stock Price data"
   ]
  },
  {
   "cell_type": "code",
   "execution_count": 4,
   "metadata": {},
   "outputs": [
    {
     "data": {
      "text/html": [
       "<div>\n",
       "<style scoped>\n",
       "    .dataframe tbody tr th:only-of-type {\n",
       "        vertical-align: middle;\n",
       "    }\n",
       "\n",
       "    .dataframe tbody tr th {\n",
       "        vertical-align: top;\n",
       "    }\n",
       "\n",
       "    .dataframe thead th {\n",
       "        text-align: right;\n",
       "    }\n",
       "</style>\n",
       "<table border=\"1\" class=\"dataframe\">\n",
       "  <thead>\n",
       "    <tr style=\"text-align: right;\">\n",
       "      <th></th>\n",
       "      <th>Date</th>\n",
       "      <th>Open</th>\n",
       "      <th>High</th>\n",
       "      <th>Low</th>\n",
       "      <th>Close</th>\n",
       "      <th>Adj Close</th>\n",
       "      <th>Volume</th>\n",
       "      <th>Company</th>\n",
       "    </tr>\n",
       "  </thead>\n",
       "  <tbody>\n",
       "    <tr>\n",
       "      <th>0</th>\n",
       "      <td>2023-01-03</td>\n",
       "      <td>130.279999</td>\n",
       "      <td>130.899994</td>\n",
       "      <td>124.169998</td>\n",
       "      <td>125.070000</td>\n",
       "      <td>123.904617</td>\n",
       "      <td>112117500</td>\n",
       "      <td>Apple</td>\n",
       "    </tr>\n",
       "    <tr>\n",
       "      <th>1</th>\n",
       "      <td>2023-01-04</td>\n",
       "      <td>126.889999</td>\n",
       "      <td>128.660004</td>\n",
       "      <td>125.080002</td>\n",
       "      <td>126.360001</td>\n",
       "      <td>125.182610</td>\n",
       "      <td>89113600</td>\n",
       "      <td>Apple</td>\n",
       "    </tr>\n",
       "    <tr>\n",
       "      <th>2</th>\n",
       "      <td>2023-01-05</td>\n",
       "      <td>127.129997</td>\n",
       "      <td>127.769997</td>\n",
       "      <td>124.760002</td>\n",
       "      <td>125.019997</td>\n",
       "      <td>123.855103</td>\n",
       "      <td>80962700</td>\n",
       "      <td>Apple</td>\n",
       "    </tr>\n",
       "    <tr>\n",
       "      <th>3</th>\n",
       "      <td>2023-01-06</td>\n",
       "      <td>126.010002</td>\n",
       "      <td>130.289993</td>\n",
       "      <td>124.889999</td>\n",
       "      <td>129.619995</td>\n",
       "      <td>128.412231</td>\n",
       "      <td>87754700</td>\n",
       "      <td>Apple</td>\n",
       "    </tr>\n",
       "    <tr>\n",
       "      <th>4</th>\n",
       "      <td>2023-01-09</td>\n",
       "      <td>130.470001</td>\n",
       "      <td>133.410004</td>\n",
       "      <td>129.889999</td>\n",
       "      <td>130.149994</td>\n",
       "      <td>128.937286</td>\n",
       "      <td>70790800</td>\n",
       "      <td>Apple</td>\n",
       "    </tr>\n",
       "  </tbody>\n",
       "</table>\n",
       "</div>"
      ],
      "text/plain": [
       "         Date        Open        High         Low       Close   Adj Close  \\\n",
       "0  2023-01-03  130.279999  130.899994  124.169998  125.070000  123.904617   \n",
       "1  2023-01-04  126.889999  128.660004  125.080002  126.360001  125.182610   \n",
       "2  2023-01-05  127.129997  127.769997  124.760002  125.019997  123.855103   \n",
       "3  2023-01-06  126.010002  130.289993  124.889999  129.619995  128.412231   \n",
       "4  2023-01-09  130.470001  133.410004  129.889999  130.149994  128.937286   \n",
       "\n",
       "      Volume Company  \n",
       "0  112117500   Apple  \n",
       "1   89113600   Apple  \n",
       "2   80962700   Apple  \n",
       "3   87754700   Apple  \n",
       "4   70790800   Apple  "
      ]
     },
     "execution_count": 4,
     "metadata": {},
     "output_type": "execute_result"
    }
   ],
   "source": [
    "apple_stock = pd.read_csv(\"data/apple_stock.csv\")\n",
    "msft_stock = pd.read_csv(\"data/msft_stock.csv\")\n",
    "apple_stock.head()"
   ]
  },
  {
   "cell_type": "code",
   "execution_count": 74,
   "metadata": {},
   "outputs": [
    {
     "name": "stdout",
     "output_type": "stream",
     "text": [
      "Sparse Vectors:\n",
      " (333, 4)\n"
     ]
    }
   ],
   "source": [
    "import numpy as np\n",
    "from copy import deepcopy\n",
    "\n",
    "df = deepcopy(apple_stock)\n",
    "\n",
    "# Simple Moving Average (SMA)\n",
    "df['SMA_20'] = df['Close'].rolling(window=20).mean()\n",
    "\n",
    "# Exponential Moving Average (EMA)\n",
    "df['EMA_12'] = df['Close'].ewm(span=12, adjust=False).mean()\n",
    "df['EMA_26'] = df['Close'].ewm(span=26, adjust=False).mean()\n",
    "\n",
    "# Relative Strength Index (RSI)\n",
    "delta = df['Close'].diff(1)\n",
    "gain = np.where(delta > 0, delta, 0)\n",
    "loss = np.where(delta < 0, -delta, 0)\n",
    "avg_gain = pd.Series(gain).rolling(window=14).mean()\n",
    "avg_loss = pd.Series(loss).rolling(window=14).mean()\n",
    "rs = avg_gain / avg_loss\n",
    "df['RSI'] = 100 - (100 / (1 + rs))\n",
    "\n",
    "# MACD\n",
    "df['MACD'] = df['EMA_12'] - df['EMA_26']\n",
    "df['Signal_Line'] = df['MACD'].ewm(span=9, adjust=False).mean()\n",
    "\n",
    "# Bollinger Bands\n",
    "df['Middle_Band'] = df['Close'].rolling(window=20).mean()\n",
    "df['Upper_Band'] = df['Middle_Band'] + 2*df['Close'].rolling(window=20).std()\n",
    "df['Lower_Band'] = df['Middle_Band'] - 2*df['Close'].rolling(window=20).std()\n",
    "\n",
    "# On-Balance Volume (OBV)\n",
    "df['OBV'] = (np.sign(df['Close'].diff()) * df['Volume']).fillna(0).cumsum()\n",
    "\n",
    "# Volume Moving Average\n",
    "df['Volume_MA'] = df['Volume'].rolling(window=20).mean()\n",
    "# Normalize selected indicators\n",
    "df['SMA_20_norm'] = df['SMA_20'] / df['Close']\n",
    "df['RSI_norm'] = df['RSI'] / 100\n",
    "df['MACD_norm'] = df['MACD'] / df['Close']\n",
    "\n",
    "# Create sparse vectors using selected indicators\n",
    "sparse_vectors = df[['SMA_20_norm', 'RSI_norm', 'MACD_norm', 'OBV']].fillna(0).values\n",
    "\n",
    "print(\"Sparse Vectors:\\n\", sparse_vectors.shape)\n"
   ]
  },
  {
   "cell_type": "code",
   "execution_count": 70,
   "metadata": {},
   "outputs": [
    {
     "data": {
      "text/html": [
       "<div>\n",
       "<style scoped>\n",
       "    .dataframe tbody tr th:only-of-type {\n",
       "        vertical-align: middle;\n",
       "    }\n",
       "\n",
       "    .dataframe tbody tr th {\n",
       "        vertical-align: top;\n",
       "    }\n",
       "\n",
       "    .dataframe thead th {\n",
       "        text-align: right;\n",
       "    }\n",
       "</style>\n",
       "<table border=\"1\" class=\"dataframe\">\n",
       "  <thead>\n",
       "    <tr style=\"text-align: right;\">\n",
       "      <th></th>\n",
       "      <th>SMA_20_norm</th>\n",
       "      <th>RSI_norm</th>\n",
       "      <th>MACD_norm</th>\n",
       "      <th>OBV</th>\n",
       "    </tr>\n",
       "  </thead>\n",
       "  <tbody>\n",
       "    <tr>\n",
       "      <th>0</th>\n",
       "      <td>0.0</td>\n",
       "      <td>0.0</td>\n",
       "      <td>0.000000</td>\n",
       "      <td>0.0</td>\n",
       "    </tr>\n",
       "    <tr>\n",
       "      <th>1</th>\n",
       "      <td>0.0</td>\n",
       "      <td>0.0</td>\n",
       "      <td>0.000814</td>\n",
       "      <td>89113600.0</td>\n",
       "    </tr>\n",
       "    <tr>\n",
       "      <th>2</th>\n",
       "      <td>0.0</td>\n",
       "      <td>0.0</td>\n",
       "      <td>0.000604</td>\n",
       "      <td>8150900.0</td>\n",
       "    </tr>\n",
       "    <tr>\n",
       "      <th>3</th>\n",
       "      <td>0.0</td>\n",
       "      <td>0.0</td>\n",
       "      <td>0.003241</td>\n",
       "      <td>95905600.0</td>\n",
       "    </tr>\n",
       "    <tr>\n",
       "      <th>4</th>\n",
       "      <td>0.0</td>\n",
       "      <td>0.0</td>\n",
       "      <td>0.005590</td>\n",
       "      <td>166696400.0</td>\n",
       "    </tr>\n",
       "  </tbody>\n",
       "</table>\n",
       "</div>"
      ],
      "text/plain": [
       "   SMA_20_norm  RSI_norm  MACD_norm          OBV\n",
       "0          0.0       0.0   0.000000          0.0\n",
       "1          0.0       0.0   0.000814   89113600.0\n",
       "2          0.0       0.0   0.000604    8150900.0\n",
       "3          0.0       0.0   0.003241   95905600.0\n",
       "4          0.0       0.0   0.005590  166696400.0"
      ]
     },
     "execution_count": 70,
     "metadata": {},
     "output_type": "execute_result"
    }
   ],
   "source": [
    "sparse_vectors.head()"
   ]
  },
  {
   "cell_type": "code",
   "execution_count": 67,
   "metadata": {},
   "outputs": [
    {
     "name": "stdout",
     "output_type": "stream",
     "text": [
      "<Compressed Sparse Row sparse matrix of dtype 'float64'\n",
      "\twith 1298 stored elements and shape (333, 4)>\n",
      "  Coords\tValues\n",
      "  (1, 2)\t0.0008143879031532959\n",
      "  (1, 3)\t89113600.0\n",
      "  (2, 2)\t0.0006036061334826799\n",
      "  (2, 3)\t8150900.0\n",
      "  (3, 2)\t0.0032406513258415627\n",
      "  (3, 3)\t95905600.0\n",
      "  (4, 2)\t0.005589885737773478\n",
      "  (4, 3)\t166696400.0\n",
      "  (5, 2)\t0.007698281297126408\n",
      "  (5, 3)\t230592600.0\n",
      "  (6, 2)\t0.010739299080735329\n",
      "  (6, 3)\t300051500.0\n",
      "  (7, 2)\t0.013084215264993454\n",
      "  (7, 3)\t228671900.0\n",
      "  (8, 2)\t0.015418448479918965\n",
      "  (8, 3)\t286481600.0\n",
      "  (9, 2)\t0.017717620003478648\n",
      "  (9, 3)\t350128200.0\n",
      "  (10, 2)\t0.019096084414488183\n",
      "  (10, 3)\t280455400.0\n",
      "  (11, 2)\t0.0199100766718942\n",
      "  (11, 3)\t338735800.0\n",
      "  (12, 2)\t0.021448581702402224\n",
      "  (12, 3)\t418959400.0\n",
      "  (13, 1)\t0.8942968974176718\n",
      "  :\t:\n",
      "  (326, 3)\t542428400.0\n",
      "  (327, 0)\t1.0167046445049432\n",
      "  (327, 1)\t0.45098037082409465\n",
      "  (327, 2)\t-0.012230970254624043\n",
      "  (327, 3)\t591966200.0\n",
      "  (328, 0)\t1.0037480449169194\n",
      "  (328, 1)\t0.5034082629378515\n",
      "  (328, 2)\t-0.010991507458494514\n",
      "  (328, 3)\t640218000.0\n",
      "  (329, 0)\t0.9976013864310574\n",
      "  (329, 1)\t0.5052631142631536\n",
      "  (329, 2)\t-0.009555558685081171\n",
      "  (329, 3)\t690776300.0\n",
      "  (330, 0)\t1.0004341183993684\n",
      "  (330, 1)\t0.5147008992708928\n",
      "  (330, 2)\t-0.008672884547897936\n",
      "  (330, 3)\t645937900.0\n",
      "  (331, 0)\t0.97721613463476\n",
      "  (331, 1)\t0.5600502023260922\n",
      "  (331, 2)\t-0.0057351400904973645\n",
      "  (331, 3)\t714107300.0\n",
      "  (332, 0)\t0.9958404145502894\n",
      "  (332, 1)\t0.5384383960283905\n",
      "  (332, 2)\t-0.005082997576390525\n",
      "  (332, 3)\t648172500.0\n"
     ]
    }
   ],
   "source": [
    "import numpy as np\n",
    "from scipy.sparse import csr_matrix\n",
    "\n",
    "sparse_matrix = csr_matrix(sparse_vectors)\n",
    "\n",
    "# Show sparse matrix\n",
    "print(sparse_matrix)"
   ]
  },
  {
   "attachments": {},
   "cell_type": "markdown",
   "metadata": {},
   "source": [
    "Setup Qdrant for Sparse Vector store"
   ]
  },
  {
   "cell_type": "code",
   "execution_count": 112,
   "metadata": {},
   "outputs": [
    {
     "name": "stderr",
     "output_type": "stream",
     "text": [
      "/var/folders/5q/1kl1q_0d63q22lq9m6yqrwvh0000gn/T/ipykernel_64525/966648567.py:15: DeprecationWarning: `recreate_collection` method is deprecated and will be removed in the future. Use `collection_exists` to check collection existence and `create_collection` instead.\n",
      "  client.recreate_collection(\n"
     ]
    }
   ],
   "source": [
    "import qdrant_client\n",
    "from qdrant_client.models import VectorParams, Distance\n",
    "from qdrant_client.http.models import PointStruct, VectorParams\n",
    "from qdrant_client import QdrantClient\n",
    "from dotenv import load_dotenv\n",
    "load_dotenv()\n",
    "\n",
    "qdrant_api = os.environ[\"QDRANT_API_KEY\"]\n",
    "qdrant_url = os.environ[\"QDRANT_API_URL\"]\n",
    "\n",
    "# Initialize Qdrant client\n",
    "client = QdrantClient(url=\"http://localhost:6333\")#, api_key=qdrant_api)\n",
    "\n",
    "# Create a collection named \"financial_data\"\n",
    "client.recreate_collection(\n",
    "    collection_name=\"financial_data\",\n",
    "    vectors_config=VectorParams(\n",
    "        size=sparse_vectors.shape[1],  # Dimensionality of the vector (SMA_20_norm, RSI_norm, MACD_norm)\n",
    "        distance=Distance.COSINE  # Distance metric (can be COSINE, EUCLID, etc.)\n",
    "    )\n",
    ")\n",
    "\n",
    "for i, vector in enumerate(sparse_vectors):\n",
    "    client.upsert(\n",
    "        collection_name=\"financial_data\",\n",
    "        points=[\n",
    "            {\n",
    "                \"id\": i+1,\n",
    "                \"vector\": vector.tolist(),\n",
    "                \"payload\": {\"date\": df['Date'].iloc[i],\n",
    "                            \"RSI\" : df[\"RSI_norm\"].iloc[i]}\n",
    "            }\n",
    "        ]\n",
    "    )"
   ]
  },
  {
   "attachments": {},
   "cell_type": "markdown",
   "metadata": {},
   "source": [
    "Financial News Data"
   ]
  },
  {
   "cell_type": "code",
   "execution_count": 113,
   "metadata": {},
   "outputs": [
    {
     "data": {
      "text/html": [
       "<div>\n",
       "<style scoped>\n",
       "    .dataframe tbody tr th:only-of-type {\n",
       "        vertical-align: middle;\n",
       "    }\n",
       "\n",
       "    .dataframe tbody tr th {\n",
       "        vertical-align: top;\n",
       "    }\n",
       "\n",
       "    .dataframe thead th {\n",
       "        text-align: right;\n",
       "    }\n",
       "</style>\n",
       "<table border=\"1\" class=\"dataframe\">\n",
       "  <thead>\n",
       "    <tr style=\"text-align: right;\">\n",
       "      <th></th>\n",
       "      <th>title</th>\n",
       "      <th>date</th>\n",
       "      <th>text</th>\n",
       "      <th>source</th>\n",
       "    </tr>\n",
       "  </thead>\n",
       "  <tbody>\n",
       "    <tr>\n",
       "      <th>0</th>\n",
       "      <td>Apple announces new MacBook Air laptops with i...</td>\n",
       "      <td>2024-03-04</td>\n",
       "      <td>Apple on Monday announced new versions of its ...</td>\n",
       "      <td>https://www.cnbc.com/technology/</td>\n",
       "    </tr>\n",
       "    <tr>\n",
       "      <th>1</th>\n",
       "      <td>Here's what Meta CEO Mark Zuckerberg has to sa...</td>\n",
       "      <td>2024-02-14</td>\n",
       "      <td>Meta CEO Mark Zuckerberg demonstrates an Oculu...</td>\n",
       "      <td>https://www.cnbc.com/technology/</td>\n",
       "    </tr>\n",
       "    <tr>\n",
       "      <th>2</th>\n",
       "      <td>Apple's Vision Pro virtual reality headset lau...</td>\n",
       "      <td>2024-02-02</td>\n",
       "      <td>The first customer walks out of the Apple Stor...</td>\n",
       "      <td>https://www.cnbc.com/technology/</td>\n",
       "    </tr>\n",
       "    <tr>\n",
       "      <th>3</th>\n",
       "      <td>Apple Vision Pro review: This is the future of...</td>\n",
       "      <td>2024-01-30</td>\n",
       "      <td>In this article AAPL Follow your favorite stoc...</td>\n",
       "      <td>https://www.cnbc.com/technology/</td>\n",
       "    </tr>\n",
       "    <tr>\n",
       "      <th>4</th>\n",
       "      <td>Apple $3,499 Vision Pro headset now available ...</td>\n",
       "      <td>2024-01-19</td>\n",
       "      <td>Preorders for Apple 's $3,499 Vision Pro heads...</td>\n",
       "      <td>https://www.cnbc.com/technology/</td>\n",
       "    </tr>\n",
       "  </tbody>\n",
       "</table>\n",
       "</div>"
      ],
      "text/plain": [
       "                                               title        date  \\\n",
       "0  Apple announces new MacBook Air laptops with i...  2024-03-04   \n",
       "1  Here's what Meta CEO Mark Zuckerberg has to sa...  2024-02-14   \n",
       "2  Apple's Vision Pro virtual reality headset lau...  2024-02-02   \n",
       "3  Apple Vision Pro review: This is the future of...  2024-01-30   \n",
       "4  Apple $3,499 Vision Pro headset now available ...  2024-01-19   \n",
       "\n",
       "                                                text  \\\n",
       "0  Apple on Monday announced new versions of its ...   \n",
       "1  Meta CEO Mark Zuckerberg demonstrates an Oculu...   \n",
       "2  The first customer walks out of the Apple Stor...   \n",
       "3  In this article AAPL Follow your favorite stoc...   \n",
       "4  Preorders for Apple 's $3,499 Vision Pro heads...   \n",
       "\n",
       "                             source  \n",
       "0  https://www.cnbc.com/technology/  \n",
       "1  https://www.cnbc.com/technology/  \n",
       "2  https://www.cnbc.com/technology/  \n",
       "3  https://www.cnbc.com/technology/  \n",
       "4  https://www.cnbc.com/technology/  "
      ]
     },
     "execution_count": 113,
     "metadata": {},
     "output_type": "execute_result"
    }
   ],
   "source": [
    "microsoft_news = pd.read_csv(\"data/microsoft_financial_news.csv\")\n",
    "apple_news = pd.read_csv(\"data/apple_financial_news.csv\")\n",
    "apple_news.head()\n"
   ]
  },
  {
   "cell_type": "code",
   "execution_count": 114,
   "metadata": {},
   "outputs": [
    {
     "name": "stderr",
     "output_type": "stream",
     "text": [
      "[nltk_data] Downloading package punkt to\n",
      "[nltk_data]     /Users/gayathrisaranathan/nltk_data...\n",
      "[nltk_data]   Package punkt is already up-to-date!\n",
      "[nltk_data] Downloading package stopwords to\n",
      "[nltk_data]     /Users/gayathrisaranathan/nltk_data...\n",
      "[nltk_data]   Package stopwords is already up-to-date!\n",
      "/Users/gayathrisaranathan/miniconda3/envs/fin_ana/lib/python3.12/site-packages/transformers/tokenization_utils_base.py:1601: FutureWarning: `clean_up_tokenization_spaces` was not set. It will be set to `True` by default. This behavior will be depracted in transformers v4.45, and will be then set to `False` by default. For more details check this issue: https://github.com/huggingface/transformers/issues/31884\n",
      "  warnings.warn(\n"
     ]
    },
    {
     "data": {
      "text/plain": [
       "(14, 384)"
      ]
     },
     "execution_count": 114,
     "metadata": {},
     "output_type": "execute_result"
    }
   ],
   "source": [
    "## Creating Dense Vectors for News Articles\n",
    "from sentence_transformers import SentenceTransformer\n",
    "import nltk\n",
    "from nltk.corpus import stopwords\n",
    "from nltk.tokenize import word_tokenize\n",
    "\n",
    "nltk.download('punkt')\n",
    "nltk.download('stopwords')\n",
    "\n",
    "# Load the pre-trained model\n",
    "model = SentenceTransformer('paraphrase-MiniLM-L6-v2')\n",
    "\n",
    "news_articles = list(apple_news.text.values)\n",
    "\n",
    "# Generate dense vectors for each article\n",
    "dense_vectors = model.encode(news_articles)\n",
    "\n",
    "dense_vectors.shape\n"
   ]
  },
  {
   "cell_type": "code",
   "execution_count": 120,
   "metadata": {},
   "outputs": [
    {
     "name": "stderr",
     "output_type": "stream",
     "text": [
      "/var/folders/5q/1kl1q_0d63q22lq9m6yqrwvh0000gn/T/ipykernel_64525/4141697682.py:3: DeprecationWarning: `recreate_collection` method is deprecated and will be removed in the future. Use `collection_exists` to check collection existence and `create_collection` instead.\n",
      "  client.recreate_collection(\n"
     ]
    }
   ],
   "source": [
    "from qdrant_client import QdrantClient\n",
    "# Create a collection named \"financial_data\"\n",
    "client.recreate_collection(\n",
    "    collection_name=\"news_sentiment\",\n",
    "    vectors_config=VectorParams(\n",
    "        size=dense_vectors.shape[1],  # Dimensionality of the vector (SMA_20_norm, RSI_norm, MACD_norm)\n",
    "        distance=Distance.COSINE  # Distance metric (can be COSINE, EUCLID, etc.)\n",
    "    )\n",
    ")\n",
    "\n",
    "for i, vector in enumerate(dense_vectors):\n",
    "    client.upsert(\n",
    "        collection_name=\"news_sentiment\",\n",
    "        points=[\n",
    "            {\n",
    "                \"id\": i+1,\n",
    "                \"vector\": vector.tolist(),\n",
    "                \"payload\":{\"title\":apple_news.title.iloc[i],\n",
    "                           \"date\":apple_news.date.iloc[i]}\n",
    "            }\n",
    "        ]\n",
    "    )"
   ]
  },
  {
   "attachments": {},
   "cell_type": "markdown",
   "metadata": {},
   "source": [
    "You can query the sparse vectors to retrieve real-time market indicators.\n",
    "\n"
   ]
  },
  {
   "cell_type": "code",
   "execution_count": 124,
   "metadata": {},
   "outputs": [
    {
     "name": "stdout",
     "output_type": "stream",
     "text": [
      "Market Indicators Results: [ScoredPoint(id=326, version=325, score=2.0630735e-09, payload={'date': '2024-04-19', 'RSI': 0.4106571959163894}, vector=None, shard_key=None, order_value=None), ScoredPoint(id=20, version=19, score=1.9640336e-09, payload={'date': '2023-01-31', 'RSI': 0.8029493541256731}, vector=None, shard_key=None, order_value=None), ScoredPoint(id=327, version=326, score=1.916854e-09, payload={'date': '2024-04-22', 'RSI': 0.44604314177506993}, vector=None, shard_key=None, order_value=None), ScoredPoint(id=325, version=324, score=1.8119324e-09, payload={'date': '2024-04-18', 'RSI': 0.4194484246240115}, vector=None, shard_key=None, order_value=None)]\n"
     ]
    }
   ],
   "source": [
    "query_vector = np.array([1, 1, 0, 0])\n",
    "results_sparse = client.search(\n",
    "    collection_name=\"financial_data\",\n",
    "    query_vector=query_vector.tolist(),\n",
    "    limit=4,  \n",
    "    \n",
    ")\n",
    "\n",
    "print(\"Market Indicators Results:\", results_sparse)"
   ]
  },
  {
   "attachments": {},
   "cell_type": "markdown",
   "metadata": {},
   "source": [
    "Similarly, dense vectors can be queried to analyze financial news sentiment."
   ]
  },
  {
   "cell_type": "code",
   "execution_count": 125,
   "metadata": {},
   "outputs": [
    {
     "name": "stdout",
     "output_type": "stream",
     "text": [
      "News Sentiment Results: [ScoredPoint(id=1, version=0, score=0.5135529, payload={'title': 'Apple announces new MacBook Air laptops with its latest M3 chip', 'date': '2024-03-04'}, vector=None, shard_key=None, order_value=None), ScoredPoint(id=6, version=5, score=0.4692673, payload={'title': 'Apple reportedly plans big overhaul to iPad family to make it less confusing', 'date': '2023-12-11'}, vector=None, shard_key=None, order_value=None), ScoredPoint(id=8, version=7, score=0.3633366, payload={'title': 'Apple iPhone 14 gets another free year of satellite Emergency SOS', 'date': '2023-11-15'}, vector=None, shard_key=None, order_value=None), ScoredPoint(id=4, version=3, score=0.35279948, payload={'title': 'Apple Vision Pro review: This is the future of computing and entertainment', 'date': '2024-01-30'}, vector=None, shard_key=None, order_value=None)]\n"
     ]
    }
   ],
   "source": [
    "query_vector = model.encode(\"Apple stock rises due to new product launch\")\n",
    "\n",
    "results_dense = client.search(\n",
    "    collection_name=\"news_sentiment\",\n",
    "    query_vector=query_vector.tolist(),\n",
    "    limit=4\n",
    ")\n",
    "\n",
    "print(\"News Sentiment Results:\", results_dense)\n"
   ]
  },
  {
   "cell_type": "code",
   "execution_count": 135,
   "metadata": {},
   "outputs": [],
   "source": [
    "# Combine results based on relevance or score\n",
    "def combine_results(results_sparse,results_dense):\n",
    "    combined_results = {\n",
    "        \"market_indicators\": results_sparse,  # From sparse vector query\n",
    "        \"news_sentiment\": results_dense  # From dense vector query\n",
    "    }\n",
    "\n",
    "    #print(\"Combined Results:\", combined_results)\n",
    "    return combined_results\n",
    "\n",
    "def analyze_combined_results(combined_results):\n",
    "    \"\"\"\n",
    "    Analyzes the combined results from sparse and dense vector queries.\n",
    "\n",
    "    Parameters:\n",
    "        combined_results (dict): Dictionary containing search results from sparse and dense vector queries.\n",
    "                                 Example structure:\n",
    "                                 {\n",
    "                                     \"market_indicators\": [ ... ],\n",
    "                                     \"news_sentiment\": [ ... ]\n",
    "                                 }\n",
    "\n",
    "    Returns:\n",
    "        dict: A summary of the analysis, including key insights.\n",
    "    \"\"\"\n",
    "\n",
    "    # Extract results\n",
    "    market_results = combined_results.get('market_indicators', [])\n",
    "    news_results = combined_results.get('news_sentiment', [])\n",
    "\n",
    "    # Analyze market indicators\n",
    "    market_insights = []\n",
    "    for result in market_results:\n",
    "        market_insights.append({\n",
    "            \"date\": result.payload.get('date',\"N/A\"),\n",
    "            \"score\": result.score,  # Relevance score\n",
    "            \"id\": result.id,\n",
    "            \"indicator_vector\": result.vector,  # The sparse vector itself\n",
    "            \"RSI\": result.payload.get(\"RSI\",\"N/A\")\n",
    "        })\n",
    "\n",
    "    # Analyze news sentiment\n",
    "    news_insights = []\n",
    "    for result in news_results:\n",
    "        news_insights.append({\n",
    "            \"headline\": result.payload.get('title', 'N/A'),\n",
    "            \"score\": result.score,  # Relevance score\n",
    "            \"id\": result.id,\n",
    "            \"date\": result.payload.get('date', 'N/A'),\n",
    "            \"sentiment_vector\": result.vector  # The dense vector itself\n",
    "        })\n",
    "\n",
    "    # Combine insights for a summary\n",
    "    analysis_summary = {\n",
    "        \"market_insights\": market_insights,\n",
    "        \"news_insights\": news_insights,\n",
    "        \"combined_summary\": f\"Top market indicator on {market_insights[0]['date']} with relevance score {market_insights[0]['score']} with an RSI of about {market_insights[0][\"RSI\"]}.\"\n",
    "                            f\" Associated news headline: '{news_insights[0]['headline']}' dated {news_insights[0]['date']} with sentiment score {news_insights[0]['score']}.\"\n",
    "    }\n",
    "\n",
    "    return analysis_summary\n",
    "\n"
   ]
  },
  {
   "attachments": {},
   "cell_type": "markdown",
   "metadata": {},
   "source": [
    "\n",
    "Building a Real-Time Trading Signal Generator Using Qdrant\n",
    "\n",
    "This system can generate real-time trading signals by querying both sparse and dense vectors."
   ]
  },
  {
   "cell_type": "code",
   "execution_count": 137,
   "metadata": {},
   "outputs": [
    {
     "name": "stdout",
     "output_type": "stream",
     "text": [
      "Generated Trading Signal: Top market indicator on 2024-04-19 with relevance score 2.0630735e-09 with an RSI of about 0.4106571959163894. Associated news headline: 'Apple announces new MacBook Air laptops with its latest M3 chip' dated 2024-03-04 with sentiment score 0.5135529.\n"
     ]
    }
   ],
   "source": [
    "# Example function to generate a trading signal\n",
    "def generate_trading_signal(stock_query, sentiment_query):\n",
    "    market_results = client.search(collection_name=\"financial_data\", query_vector=stock_query.tolist(), limit=5)\n",
    "    sentiment_results = client.search(collection_name=\"news_sentiment\", query_vector=sentiment_query.tolist(), limit=5)\n",
    "    \n",
    "    # Combine or analyze results to generate a signal\n",
    "    signal = combine_results(market_results, sentiment_results)\n",
    "    analysis_summary = analyze_combined_results(signal)\n",
    "    return analysis_summary\n",
    "\n",
    "# Example use\n",
    "stock_query = np.array([1, 1, 0, 0])\n",
    "sentiment_query = model.encode(\"Apple stock rises due to new product launch\")\n",
    "\n",
    "signal = generate_trading_signal(stock_query, sentiment_query)\n",
    "print(\"Generated Trading Signal:\", signal.get(\"combined_summary\"))\n"
   ]
  },
  {
   "cell_type": "code",
   "execution_count": 166,
   "metadata": {},
   "outputs": [
    {
     "data": {
      "text/plain": [
       "\"Top market indicator on 2024-04-19 with relevance score 2.0630735e-09 with an RSI of about 0.4106571959163894. Associated news headline: 'Apple announces new MacBook Air laptops with its latest M3 chip' dated 2024-03-04 with sentiment score 0.5135529.\""
      ]
     },
     "execution_count": 166,
     "metadata": {},
     "output_type": "execute_result"
    }
   ],
   "source": [
    "signal.get(\"combined_summary\")"
   ]
  },
  {
   "attachments": {},
   "cell_type": "markdown",
   "metadata": {},
   "source": [
    "Hybrid Search in Financial Analytics\n",
    "Using Qdrant’s Hybrid Search Capabilities\n",
    "Qdrant supports hybrid search, which combines both sparse and dense vectors for nuanced insights."
   ]
  },
  {
   "cell_type": "code",
   "execution_count": 176,
   "metadata": {},
   "outputs": [
    {
     "data": {
      "text/plain": [
       "(         date       RSI\n",
       " 0  2024-04-19  0.410657\n",
       " 1  2023-01-31  0.802949\n",
       " 2  2024-04-22  0.446043\n",
       " 3  2024-04-18  0.419448\n",
       " 4  2024-04-23  0.450980,\n",
       "          date                                              title\n",
       " 0  2023-12-11  Apple reportedly plans big overhaul to iPad fa...\n",
       " 1  2024-03-04  Apple announces new MacBook Air laptops with i...\n",
       " 2  2023-11-15  Apple iPhone 14 gets another free year of sate...\n",
       " 3  2024-01-19  Apple $3,499 Vision Pro headset now available ...\n",
       " 4  2024-01-30  Apple Vision Pro review: This is the future of...)"
      ]
     },
     "execution_count": 176,
     "metadata": {},
     "output_type": "execute_result"
    }
   ],
   "source": [
    "from qdrant_client import QdrantClient\n",
    "\n",
    "\n",
    "class HybridSearcher:\n",
    "    def __init__(self, collection_name):\n",
    "        self.collection_name = collection_name\n",
    "        # initialize Qdrant client\n",
    "        self.qdrant_client = client\n",
    "    def search(self, vector):\n",
    "        if type(self.collection_name) == str:\n",
    "            search_result = client.search(collection_name=self.collection_name, query_vector=vector.tolist(), limit=5)\n",
    "        else:\n",
    "            search_result = client.search(collection_name=self.collection_name[0], query_vector=vector[0].tolist(), limit=5)\n",
    "            search_result2 = client.search(collection_name=self.collection_name[1], query_vector=vector[1].tolist(), limit=5)\n",
    "\n",
    "        # `search_result` contains found vector ids with similarity scores \n",
    "        # along with the stored payload\n",
    "        \n",
    "        # Select and return metadata\n",
    "        if self.collection_name == \"news_sentiment\":\n",
    "            metadata = [hit.score for hit in search_result]\n",
    "        elif self.collection_name == \"financial_data\": \n",
    "            metadata = [hit.score for hit in search_result]\n",
    "        else:\n",
    "            metadata1 = [[hit.payload.get(\"date\"), hit.payload.get(\"RSI\")] for hit in search_result2]\n",
    "            metadata2 = [[hit.payload.get(\"date\"), hit.payload.get(\"title\")] for hit in search_result]\n",
    "\n",
    "            metadata = pd.DataFrame(metadata1,columns=[\"date\",\"RSI\"]),pd.DataFrame(metadata2,columns=[\"date\",\"title\"])\n",
    "        return metadata\n",
    "\n",
    "hybrid_searcher = HybridSearcher(collection_name=[\"news_sentiment\",\"financial_data\"])\n",
    "dense_vector = model.encode(\"Apple is performing well\")\n",
    "sparse_vector = np.array([1,1,0,0])\n",
    "vector = [dense_vector,sparse_vector]\n",
    "metadata = hybrid_searcher.search(vector)\n",
    "metadata"
   ]
  },
  {
   "cell_type": "code",
   "execution_count": 178,
   "metadata": {},
   "outputs": [
    {
     "name": "stdout",
     "output_type": "stream",
     "text": [
      "[0.46237898, 0.45850575, 0.45688617, 0.32975668, 0.32136202]\n",
      "[2.0630735e-09, 1.9640336e-09, 1.916854e-09, 1.8119324e-09, 1.7531575e-09]\n"
     ]
    }
   ],
   "source": [
    "# Dense Query Result\n",
    "hybrid_searcher = HybridSearcher(collection_name=\"news_sentiment\")\n",
    "dense_vector = model.encode(\"Apple is performing well\")\n",
    "dense_results = hybrid_searcher.search(dense_vector)\n",
    "print(dense_results)\n",
    "\n",
    "hybrid_searcher = HybridSearcher(collection_name=\"financial_data\")\n",
    "sparse_vector = np.array([1,1,0,0])\n",
    "sparse_results = hybrid_searcher.search(sparse_vector)\n",
    "print(sparse_results)\n"
   ]
  },
  {
   "attachments": {},
   "cell_type": "markdown",
   "metadata": {},
   "source": [
    "Implement advanced techniques like Reciprocal Rank Fusion (RRF) for combining results:\n",
    "\n"
   ]
  },
  {
   "cell_type": "code",
   "execution_count": 180,
   "metadata": {},
   "outputs": [
    {
     "name": "stdout",
     "output_type": "stream",
     "text": [
      "1.5\n"
     ]
    }
   ],
   "source": [
    "def reciprocal_rank_fusion(results):\n",
    "    combined_rank = 0\n",
    "    for rank, result in enumerate(results, start=1):\n",
    "        combined_rank += 1 / rank\n",
    "    return combined_rank\n",
    "\n",
    "rrf_score = reciprocal_rank_fusion([sparse_results, dense_results])\n",
    "print(rrf_score)"
   ]
  }
 ],
 "metadata": {
  "kernelspec": {
   "display_name": "fin_ana",
   "language": "python",
   "name": "python3"
  },
  "language_info": {
   "codemirror_mode": {
    "name": "ipython",
    "version": 3
   },
   "file_extension": ".py",
   "mimetype": "text/x-python",
   "name": "python",
   "nbconvert_exporter": "python",
   "pygments_lexer": "ipython3",
   "version": "3.12.5"
  },
  "orig_nbformat": 4,
  "vscode": {
   "interpreter": {
    "hash": "e646c1d0f36d352194803eb1b3bd6a8438ff42a362f7da11dd92f9220eb2998e"
   }
  }
 },
 "nbformat": 4,
 "nbformat_minor": 2
}
