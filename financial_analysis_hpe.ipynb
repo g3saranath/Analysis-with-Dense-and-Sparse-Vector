{
 "cells": [
  {
   "attachments": {},
   "cell_type": "markdown",
   "metadata": {},
   "source": [
    "Loading the data from /data directory"
   ]
  },
  {
   "cell_type": "code",
   "execution_count": 2,
   "metadata": {},
   "outputs": [],
   "source": [
    "import pandas as pd\n",
    "import os"
   ]
  },
  {
   "attachments": {},
   "cell_type": "markdown",
   "metadata": {},
   "source": [
    "Stock Price data"
   ]
  },
  {
   "cell_type": "code",
   "execution_count": 3,
   "metadata": {},
   "outputs": [
    {
     "data": {
      "text/html": [
       "<div>\n",
       "<style scoped>\n",
       "    .dataframe tbody tr th:only-of-type {\n",
       "        vertical-align: middle;\n",
       "    }\n",
       "\n",
       "    .dataframe tbody tr th {\n",
       "        vertical-align: top;\n",
       "    }\n",
       "\n",
       "    .dataframe thead th {\n",
       "        text-align: right;\n",
       "    }\n",
       "</style>\n",
       "<table border=\"1\" class=\"dataframe\">\n",
       "  <thead>\n",
       "    <tr style=\"text-align: right;\">\n",
       "      <th></th>\n",
       "      <th>Date</th>\n",
       "      <th>Open</th>\n",
       "      <th>High</th>\n",
       "      <th>Low</th>\n",
       "      <th>Close</th>\n",
       "      <th>Adj Close</th>\n",
       "      <th>Volume</th>\n",
       "      <th>Company</th>\n",
       "    </tr>\n",
       "  </thead>\n",
       "  <tbody>\n",
       "    <tr>\n",
       "      <th>0</th>\n",
       "      <td>2023-01-03</td>\n",
       "      <td>16.090000</td>\n",
       "      <td>16.139999</td>\n",
       "      <td>15.830000</td>\n",
       "      <td>16.059999</td>\n",
       "      <td>15.367215</td>\n",
       "      <td>18233900</td>\n",
       "      <td>Hewlett Packard Enterprise</td>\n",
       "    </tr>\n",
       "    <tr>\n",
       "      <th>1</th>\n",
       "      <td>2023-01-04</td>\n",
       "      <td>16.150000</td>\n",
       "      <td>16.525000</td>\n",
       "      <td>16.120001</td>\n",
       "      <td>16.420000</td>\n",
       "      <td>15.711686</td>\n",
       "      <td>15865500</td>\n",
       "      <td>Hewlett Packard Enterprise</td>\n",
       "    </tr>\n",
       "    <tr>\n",
       "      <th>2</th>\n",
       "      <td>2023-01-05</td>\n",
       "      <td>16.290001</td>\n",
       "      <td>16.495001</td>\n",
       "      <td>16.184999</td>\n",
       "      <td>16.450001</td>\n",
       "      <td>15.740394</td>\n",
       "      <td>13099500</td>\n",
       "      <td>Hewlett Packard Enterprise</td>\n",
       "    </tr>\n",
       "    <tr>\n",
       "      <th>3</th>\n",
       "      <td>2023-01-06</td>\n",
       "      <td>16.680000</td>\n",
       "      <td>17.209999</td>\n",
       "      <td>16.670000</td>\n",
       "      <td>17.110001</td>\n",
       "      <td>16.371922</td>\n",
       "      <td>15242500</td>\n",
       "      <td>Hewlett Packard Enterprise</td>\n",
       "    </tr>\n",
       "    <tr>\n",
       "      <th>4</th>\n",
       "      <td>2023-01-09</td>\n",
       "      <td>17.100000</td>\n",
       "      <td>17.250000</td>\n",
       "      <td>16.889999</td>\n",
       "      <td>16.959999</td>\n",
       "      <td>16.228392</td>\n",
       "      <td>19294700</td>\n",
       "      <td>Hewlett Packard Enterprise</td>\n",
       "    </tr>\n",
       "  </tbody>\n",
       "</table>\n",
       "</div>"
      ],
      "text/plain": [
       "         Date       Open       High        Low      Close  Adj Close  \\\n",
       "0  2023-01-03  16.090000  16.139999  15.830000  16.059999  15.367215   \n",
       "1  2023-01-04  16.150000  16.525000  16.120001  16.420000  15.711686   \n",
       "2  2023-01-05  16.290001  16.495001  16.184999  16.450001  15.740394   \n",
       "3  2023-01-06  16.680000  17.209999  16.670000  17.110001  16.371922   \n",
       "4  2023-01-09  17.100000  17.250000  16.889999  16.959999  16.228392   \n",
       "\n",
       "     Volume                     Company  \n",
       "0  18233900  Hewlett Packard Enterprise  \n",
       "1  15865500  Hewlett Packard Enterprise  \n",
       "2  13099500  Hewlett Packard Enterprise  \n",
       "3  15242500  Hewlett Packard Enterprise  \n",
       "4  19294700  Hewlett Packard Enterprise  "
      ]
     },
     "execution_count": 3,
     "metadata": {},
     "output_type": "execute_result"
    }
   ],
   "source": [
    "hpe_stock = pd.read_csv(\"data/HPE_stock.csv\")\n",
    "hpe_stock.head()"
   ]
  },
  {
   "cell_type": "code",
   "execution_count": 4,
   "metadata": {},
   "outputs": [
    {
     "name": "stdout",
     "output_type": "stream",
     "text": [
      "Sparse Vectors:\n",
      " (333, 4)\n"
     ]
    }
   ],
   "source": [
    "import numpy as np\n",
    "from copy import deepcopy\n",
    "\n",
    "df = deepcopy(hpe_stock)\n",
    "\n",
    "# Simple Moving Average (SMA)\n",
    "df['SMA_20'] = df['Close'].rolling(window=20).mean()\n",
    "\n",
    "# Exponential Moving Average (EMA)\n",
    "df['EMA_12'] = df['Close'].ewm(span=12, adjust=False).mean()\n",
    "df['EMA_26'] = df['Close'].ewm(span=26, adjust=False).mean()\n",
    "\n",
    "# Relative Strength Index (RSI)\n",
    "delta = df['Close'].diff(1)\n",
    "gain = np.where(delta > 0, delta, 0)\n",
    "loss = np.where(delta < 0, -delta, 0)\n",
    "avg_gain = pd.Series(gain).rolling(window=14).mean()\n",
    "avg_loss = pd.Series(loss).rolling(window=14).mean()\n",
    "rs = avg_gain / avg_loss\n",
    "df['RSI'] = 100 - (100 / (1 + rs))\n",
    "\n",
    "# MACD\n",
    "df['MACD'] = df['EMA_12'] - df['EMA_26']\n",
    "df['Signal_Line'] = df['MACD'].ewm(span=9, adjust=False).mean()\n",
    "\n",
    "# Bollinger Bands\n",
    "df['Middle_Band'] = df['Close'].rolling(window=20).mean()\n",
    "df['Upper_Band'] = df['Middle_Band'] + 2*df['Close'].rolling(window=20).std()\n",
    "df['Lower_Band'] = df['Middle_Band'] - 2*df['Close'].rolling(window=20).std()\n",
    "\n",
    "# On-Balance Volume (OBV)\n",
    "df['OBV'] = (np.sign(df['Close'].diff()) * df['Volume']).fillna(0).cumsum()\n",
    "\n",
    "# Volume Moving Average\n",
    "df['Volume_MA'] = df['Volume'].rolling(window=20).mean()\n",
    "# Normalize selected indicators\n",
    "df['SMA_20_norm'] = df['SMA_20'] / df['Close']\n",
    "df['RSI_norm'] = df['RSI'] / 100\n",
    "df['MACD_norm'] = df['MACD'] / df['Close']\n",
    "\n",
    "# Create sparse vectors using selected indicators\n",
    "sparse_vectors = df[['SMA_20_norm', 'RSI_norm', 'MACD_norm', 'OBV']].fillna(0).values\n",
    "\n",
    "print(\"Sparse Vectors:\\n\", sparse_vectors.shape)\n"
   ]
  },
  {
   "cell_type": "code",
   "execution_count": 5,
   "metadata": {},
   "outputs": [
    {
     "data": {
      "text/plain": [
       "(333, 4)"
      ]
     },
     "execution_count": 5,
     "metadata": {},
     "output_type": "execute_result"
    }
   ],
   "source": [
    "sparse_vectors.shape"
   ]
  },
  {
   "cell_type": "code",
   "execution_count": 6,
   "metadata": {},
   "outputs": [
    {
     "name": "stdout",
     "output_type": "stream",
     "text": [
      "<Compressed Sparse Row sparse matrix of dtype 'float64'\n",
      "\twith 1298 stored elements and shape (333, 4)>\n",
      "  Coords\tValues\n",
      "  (1, 2)\t0.0017489645111771653\n",
      "  (1, 3)\t15865500.0\n",
      "  (2, 2)\t0.00323913659553549\n",
      "  (2, 3)\t28965000.0\n",
      "  (3, 2)\t0.007280703900160117\n",
      "  (3, 3)\t44207500.0\n",
      "  (4, 2)\t0.009849088042238139\n",
      "  (4, 3)\t24912800.0\n",
      "  (5, 2)\t0.01209768869051712\n",
      "  (5, 3)\t41690400.0\n",
      "  (6, 2)\t0.013181281356237924\n",
      "  (6, 3)\t25687600.0\n",
      "  (7, 2)\t0.011410792678221388\n",
      "  (7, 3)\t3241800.0\n",
      "  (8, 2)\t0.010075456988319614\n",
      "  (8, 3)\t15633900.0\n",
      "  (9, 2)\t0.008113857584141853\n",
      "  (9, 3)\t1444400.0\n",
      "  (10, 2)\t0.005611536845850715\n",
      "  (10, 3)\t-12185000.0\n",
      "  (11, 2)\t0.002217655343961456\n",
      "  (11, 3)\t-24718300.0\n",
      "  (12, 2)\t0.00016322217039208827\n",
      "  (12, 3)\t-12004600.0\n",
      "  (13, 1)\t0.5173502327022645\n",
      "  :\t:\n",
      "  (326, 3)\t-52407400.0\n",
      "  (327, 0)\t1.043672033724372\n",
      "  (327, 1)\t0.13440780824755522\n",
      "  (327, 2)\t-0.004151766632197229\n",
      "  (327, 3)\t-52407400.0\n",
      "  (328, 0)\t1.035262842325699\n",
      "  (328, 1)\t0.20467780812933525\n",
      "  (328, 2)\t-0.005118413324478753\n",
      "  (328, 3)\t-41551400.0\n",
      "  (329, 0)\t1.0307602183931133\n",
      "  (329, 1)\t0.19526547748703635\n",
      "  (329, 2)\t-0.00563485807016095\n",
      "  (329, 3)\t-33168400.0\n",
      "  (330, 0)\t1.0171228973480966\n",
      "  (330, 1)\t0.22285703697971512\n",
      "  (330, 2)\t-0.004985799058993679\n",
      "  (330, 3)\t-23979000.0\n",
      "  (331, 0)\t1.0143189699695847\n",
      "  (331, 1)\t0.24390229719294\n",
      "  (331, 2)\t-0.004422846110984756\n",
      "  (331, 3)\t-15643300.0\n",
      "  (332, 0)\t1.023000010322122\n",
      "  (332, 1)\t0.22222210448460245\n",
      "  (332, 2)\t-0.00481995461726031\n",
      "  (332, 3)\t-25716300.0\n"
     ]
    }
   ],
   "source": [
    "import numpy as np\n",
    "from scipy.sparse import csr_matrix\n",
    "\n",
    "sparse_matrix = csr_matrix(sparse_vectors)\n",
    "\n",
    "# Show sparse matrix\n",
    "print(sparse_matrix)"
   ]
  },
  {
   "attachments": {},
   "cell_type": "markdown",
   "metadata": {},
   "source": [
    "Setup Qdrant for Sparse Vector store"
   ]
  },
  {
   "cell_type": "code",
   "execution_count": 7,
   "metadata": {},
   "outputs": [
    {
     "name": "stderr",
     "output_type": "stream",
     "text": [
      "/lustre/saranath/miniconda3/envs/fin_ana/lib/python3.12/site-packages/tqdm/auto.py:21: TqdmWarning: IProgress not found. Please update jupyter and ipywidgets. See https://ipywidgets.readthedocs.io/en/stable/user_install.html\n",
      "  from .autonotebook import tqdm as notebook_tqdm\n",
      "/tmp/ipykernel_357628/2959744048.py:12: DeprecationWarning: `recreate_collection` method is deprecated and will be removed in the future. Use `collection_exists` to check collection existence and `create_collection` instead.\n",
      "  client.recreate_collection(\n"
     ]
    }
   ],
   "source": [
    "import qdrant_client\n",
    "from qdrant_client.models import VectorParams, Distance\n",
    "from qdrant_client.http.models import PointStruct, VectorParams\n",
    "from qdrant_client import QdrantClient\n",
    "\n",
    "\n",
    "\n",
    "# Initialize Qdrant client\n",
    "client = QdrantClient(url=\"http://localhost:6333\")#, api_key=qdrant_api)\n",
    "\n",
    "# Create a collection named \"financial_data\"\n",
    "client.recreate_collection(\n",
    "    collection_name=\"financial_data\",\n",
    "    vectors_config=VectorParams(\n",
    "        size=sparse_vectors.shape[1],  # Dimensionality of the vector (SMA_20_norm, RSI_norm, MACD_norm)\n",
    "        distance=Distance.COSINE  # Distance metric (can be COSINE, EUCLID, etc.)\n",
    "    )\n",
    ")\n",
    "\n",
    "for i, vector in enumerate(sparse_vectors):\n",
    "    client.upsert(\n",
    "        collection_name=\"financial_data\",\n",
    "        points=[\n",
    "            {\n",
    "                \"id\": i+1,\n",
    "                \"vector\": vector.tolist(),\n",
    "                \"payload\": {\"date\": df['Date'].iloc[i],\n",
    "                            \"RSI\" : df[\"RSI_norm\"].iloc[i]}\n",
    "            }\n",
    "        ]\n",
    "    )"
   ]
  },
  {
   "attachments": {},
   "cell_type": "markdown",
   "metadata": {},
   "source": [
    "Financial News Data"
   ]
  },
  {
   "cell_type": "code",
   "execution_count": 8,
   "metadata": {},
   "outputs": [
    {
     "data": {
      "text/html": [
       "<div>\n",
       "<style scoped>\n",
       "    .dataframe tbody tr th:only-of-type {\n",
       "        vertical-align: middle;\n",
       "    }\n",
       "\n",
       "    .dataframe tbody tr th {\n",
       "        vertical-align: top;\n",
       "    }\n",
       "\n",
       "    .dataframe thead th {\n",
       "        text-align: right;\n",
       "    }\n",
       "</style>\n",
       "<table border=\"1\" class=\"dataframe\">\n",
       "  <thead>\n",
       "    <tr style=\"text-align: right;\">\n",
       "      <th></th>\n",
       "      <th>title</th>\n",
       "      <th>date</th>\n",
       "      <th>text</th>\n",
       "      <th>source</th>\n",
       "    </tr>\n",
       "  </thead>\n",
       "  <tbody>\n",
       "    <tr>\n",
       "      <th>0</th>\n",
       "      <td>The stock market should be great, not on a kni...</td>\n",
       "      <td>2024-08-11</td>\n",
       "      <td>When I look at Thursday's rally, I am beginnin...</td>\n",
       "      <td>https://www.cnbc.com/technology/</td>\n",
       "    </tr>\n",
       "  </tbody>\n",
       "</table>\n",
       "</div>"
      ],
      "text/plain": [
       "                                               title        date  \\\n",
       "0  The stock market should be great, not on a kni...  2024-08-11   \n",
       "\n",
       "                                                text  \\\n",
       "0  When I look at Thursday's rally, I am beginnin...   \n",
       "\n",
       "                             source  \n",
       "0  https://www.cnbc.com/technology/  "
      ]
     },
     "execution_count": 8,
     "metadata": {},
     "output_type": "execute_result"
    }
   ],
   "source": [
    "hpe_news = pd.read_csv(\"data/hpe_financial_news.csv\")\n",
    "hpe_news.head()\n"
   ]
  },
  {
   "cell_type": "code",
   "execution_count": 9,
   "metadata": {},
   "outputs": [
    {
     "name": "stderr",
     "output_type": "stream",
     "text": [
      "[nltk_data] Downloading package punkt to /home/saranath/nltk_data...\n",
      "[nltk_data]   Package punkt is already up-to-date!\n",
      "[nltk_data] Downloading package stopwords to\n",
      "[nltk_data]     /home/saranath/nltk_data...\n",
      "[nltk_data]   Package stopwords is already up-to-date!\n",
      "/lustre/saranath/miniconda3/envs/fin_ana/lib/python3.12/site-packages/transformers/tokenization_utils_base.py:1601: FutureWarning: `clean_up_tokenization_spaces` was not set. It will be set to `True` by default. This behavior will be depracted in transformers v4.45, and will be then set to `False` by default. For more details check this issue: https://github.com/huggingface/transformers/issues/31884\n",
      "  warnings.warn(\n"
     ]
    },
    {
     "data": {
      "text/plain": [
       "(1, 384)"
      ]
     },
     "execution_count": 9,
     "metadata": {},
     "output_type": "execute_result"
    }
   ],
   "source": [
    "## Creating Dense Vectors for News Articles\n",
    "from sentence_transformers import SentenceTransformer\n",
    "import nltk\n",
    "from nltk.corpus import stopwords\n",
    "from nltk.tokenize import word_tokenize\n",
    "\n",
    "nltk.download('punkt')\n",
    "nltk.download('stopwords')\n",
    "\n",
    "# Load the pre-trained model\n",
    "model = SentenceTransformer('paraphrase-MiniLM-L6-v2')\n",
    "\n",
    "news_articles = list(hpe_news.text.values)\n",
    "\n",
    "# Generate dense vectors for each article\n",
    "dense_vectors = model.encode(news_articles)\n",
    "\n",
    "dense_vectors.shape\n"
   ]
  },
  {
   "cell_type": "code",
   "execution_count": 11,
   "metadata": {},
   "outputs": [
    {
     "name": "stderr",
     "output_type": "stream",
     "text": [
      "/tmp/ipykernel_357628/1819309608.py:3: DeprecationWarning: `recreate_collection` method is deprecated and will be removed in the future. Use `collection_exists` to check collection existence and `create_collection` instead.\n",
      "  client.recreate_collection(\n"
     ]
    }
   ],
   "source": [
    "from qdrant_client import QdrantClient\n",
    "# Create a collection named \"financial_data\"\n",
    "client.recreate_collection(\n",
    "    collection_name=\"news_sentiment\",\n",
    "    vectors_config=VectorParams(\n",
    "        size=dense_vectors.shape[1],  # Dimensionality of the vector (SMA_20_norm, RSI_norm, MACD_norm)\n",
    "        distance=Distance.COSINE  # Distance metric (can be COSINE, EUCLID, etc.)\n",
    "    )\n",
    ")\n",
    "\n",
    "for i, vector in enumerate(dense_vectors):\n",
    "    client.upsert(\n",
    "        collection_name=\"news_sentiment\",\n",
    "        points=[\n",
    "            {\n",
    "                \"id\": i+1,\n",
    "                \"vector\": vector.tolist(),\n",
    "                \"payload\":{\"title\":hpe_news.title.iloc[i],\n",
    "                           \"date\":hpe_news.date.iloc[i]}\n",
    "            }\n",
    "        ]\n",
    "    )"
   ]
  },
  {
   "attachments": {},
   "cell_type": "markdown",
   "metadata": {},
   "source": [
    "You can query the sparse vectors to retrieve real-time market indicators.\n",
    "\n"
   ]
  },
  {
   "cell_type": "code",
   "execution_count": 12,
   "metadata": {},
   "outputs": [
    {
     "data": {
      "text/plain": [
       "(333, 4)"
      ]
     },
     "execution_count": 12,
     "metadata": {},
     "output_type": "execute_result"
    }
   ],
   "source": [
    "sparse_vectors.shape"
   ]
  },
  {
   "cell_type": "code",
   "execution_count": 13,
   "metadata": {},
   "outputs": [
    {
     "name": "stdout",
     "output_type": "stream",
     "text": [
      "Market Indicators Results: [ScoredPoint(id=309, version=308, score=4.977789e-07, payload={'date': '2024-03-26', 'RSI': 0.3532608160449554}, vector=None, shard_key=None, order_value=None), ScoredPoint(id=313, version=312, score=4.7790604e-07, payload={'date': '2024-04-02', 'RSI': 0.448071426550075}, vector=None, shard_key=None, order_value=None), ScoredPoint(id=22, version=21, score=4.209826e-07, payload={'date': '2023-02-02', 'RSI': 0.5235602747783329}, vector=None, shard_key=None, order_value=None), ScoredPoint(id=311, version=310, score=4.1530433e-07, payload={'date': '2024-03-28', 'RSI': 0.4563757659002917}, vector=None, shard_key=None, order_value=None)]\n"
     ]
    }
   ],
   "source": [
    "query_vector = np.array([1, 1, 0, 0])\n",
    "results_sparse = client.search(\n",
    "    collection_name=\"financial_data\",\n",
    "    query_vector=query_vector.tolist(),\n",
    "    limit=4,  \n",
    ")\n",
    "\n",
    "print(\"Market Indicators Results:\", results_sparse)"
   ]
  },
  {
   "attachments": {},
   "cell_type": "markdown",
   "metadata": {},
   "source": [
    "Similarly, dense vectors can be queried to analyze financial news sentiment."
   ]
  },
  {
   "cell_type": "code",
   "execution_count": 14,
   "metadata": {},
   "outputs": [
    {
     "name": "stdout",
     "output_type": "stream",
     "text": [
      "News Sentiment Results: [ScoredPoint(id=1, version=0, score=0.05374437, payload={'title': \"The stock market should be great, not on a knife's edge. But that's the opportunity\", 'date': '2024-08-11'}, vector=None, shard_key=None, order_value=None)]\n"
     ]
    }
   ],
   "source": [
    "query_vector = model.encode(\"HPE performance in Q3\")\n",
    "\n",
    "results_dense = client.search(\n",
    "    collection_name=\"news_sentiment\",\n",
    "    query_vector=query_vector.tolist(),\n",
    "    limit=4\n",
    ")\n",
    "\n",
    "print(\"News Sentiment Results:\", results_dense)\n"
   ]
  },
  {
   "cell_type": "code",
   "execution_count": 15,
   "metadata": {},
   "outputs": [],
   "source": [
    "# Combine results based on relevance or score\n",
    "def combine_results(results_sparse,results_dense):\n",
    "    combined_results = {\n",
    "        \"market_indicators\": results_sparse,  # From sparse vector query\n",
    "        \"news_sentiment\": results_dense  # From dense vector query\n",
    "    }\n",
    "\n",
    "    #print(\"Combined Results:\", combined_results)\n",
    "    return combined_results\n",
    "\n",
    "def analyze_combined_results(combined_results):\n",
    "    \"\"\"\n",
    "    Analyzes the combined results from sparse and dense vector queries.\n",
    "\n",
    "    Parameters:\n",
    "        combined_results (dict): Dictionary containing search results from sparse and dense vector queries.\n",
    "                                 Example structure:\n",
    "                                 {\n",
    "                                     \"market_indicators\": [ ... ],\n",
    "                                     \"news_sentiment\": [ ... ]\n",
    "                                 }\n",
    "\n",
    "    Returns:\n",
    "        dict: A summary of the analysis, including key insights.\n",
    "    \"\"\"\n",
    "\n",
    "    # Extract results\n",
    "    market_results = combined_results.get('market_indicators', [])\n",
    "    news_results = combined_results.get('news_sentiment', [])\n",
    "\n",
    "    # Analyze market indicators\n",
    "    market_insights = []\n",
    "    for result in market_results:\n",
    "        market_insights.append({\n",
    "            \"date\": result.payload.get('date',\"N/A\"),\n",
    "            \"score\": result.score,  # Relevance score\n",
    "            \"id\": result.id,\n",
    "            \"indicator_vector\": result.vector,  # The sparse vector itself\n",
    "            \"RSI\": result.payload.get(\"RSI\",\"N/A\")\n",
    "        })\n",
    "\n",
    "    # Analyze news sentiment\n",
    "    news_insights = []\n",
    "    for result in news_results:\n",
    "        news_insights.append({\n",
    "            \"headline\": result.payload.get('title', 'N/A'),\n",
    "            \"score\": result.score,  # Relevance score\n",
    "            \"id\": result.id,\n",
    "            \"date\": result.payload.get('date', 'N/A'),\n",
    "            \"sentiment_vector\": result.vector  # The dense vector itself\n",
    "        })\n",
    "\n",
    "    # Combine insights for a summary\n",
    "    analysis_summary = {\n",
    "        \"market_insights\": market_insights,\n",
    "        \"news_insights\": news_insights,\n",
    "        \"combined_summary\": f\"Top market indicator on {market_insights[0]['date']} with relevance score {market_insights[0]['score']} with an RSI of about {market_insights[0][\"RSI\"]}.\"\n",
    "                            f\" Associated news headline: '{news_insights[0]['headline']}' dated {news_insights[0]['date']} with sentiment score {news_insights[0]['score']}.\"\n",
    "    }\n",
    "\n",
    "    return analysis_summary\n",
    "\n"
   ]
  },
  {
   "attachments": {},
   "cell_type": "markdown",
   "metadata": {},
   "source": [
    "\n",
    "Building a Real-Time Trading Signal Generator Using Qdrant\n",
    "\n",
    "This system can generate real-time trading signals by querying both sparse and dense vectors."
   ]
  },
  {
   "cell_type": "code",
   "execution_count": 16,
   "metadata": {},
   "outputs": [
    {
     "name": "stdout",
     "output_type": "stream",
     "text": [
      "Generated Trading Signal: Top market indicator on 2024-03-26 with relevance score 4.977789e-07 with an RSI of about 0.3532608160449554. Associated news headline: 'The stock market should be great, not on a knife's edge. But that's the opportunity' dated 2024-08-11 with sentiment score -0.043091506.\n"
     ]
    }
   ],
   "source": [
    "# Example function to generate a trading signal\n",
    "def generate_trading_signal(stock_query, sentiment_query):\n",
    "    market_results = client.search(collection_name=\"financial_data\", query_vector=stock_query.tolist(), limit=5)\n",
    "    sentiment_results = client.search(collection_name=\"news_sentiment\", query_vector=sentiment_query.tolist(), limit=5)\n",
    "    \n",
    "    # Combine or analyze results to generate a signal\n",
    "    signal = combine_results(market_results, sentiment_results)\n",
    "    analysis_summary = analyze_combined_results(signal)\n",
    "    return analysis_summary\n",
    "\n",
    "# Example use\n",
    "stock_query = np.array([1, 1, 0, 0])\n",
    "sentiment_query = model.encode(\"HPE stock rises after Q3\")\n",
    "\n",
    "signal = generate_trading_signal(stock_query, sentiment_query)\n",
    "print(\"Generated Trading Signal:\", signal.get(\"combined_summary\"))\n"
   ]
  },
  {
   "cell_type": "code",
   "execution_count": 17,
   "metadata": {},
   "outputs": [
    {
     "data": {
      "text/plain": [
       "\"Top market indicator on 2024-03-26 with relevance score 4.977789e-07 with an RSI of about 0.3532608160449554. Associated news headline: 'The stock market should be great, not on a knife's edge. But that's the opportunity' dated 2024-08-11 with sentiment score -0.043091506.\""
      ]
     },
     "execution_count": 17,
     "metadata": {},
     "output_type": "execute_result"
    }
   ],
   "source": [
    "signal.get(\"combined_summary\")"
   ]
  },
  {
   "attachments": {},
   "cell_type": "markdown",
   "metadata": {},
   "source": [
    "Hybrid Search in Financial Analytics\n",
    "Using Qdrant’s Hybrid Search Capabilities\n",
    "Qdrant supports hybrid search, which combines both sparse and dense vectors for nuanced insights."
   ]
  },
  {
   "cell_type": "markdown",
   "metadata": {},
   "source": [
    "### Hybrid Search by Combining Sparse and Dense Together through Qdrant"
   ]
  },
  {
   "cell_type": "code",
   "execution_count": 18,
   "metadata": {},
   "outputs": [
    {
     "name": "stderr",
     "output_type": "stream",
     "text": [
      "Fetching 5 files: 100%|██████████| 5/5 [00:00<00:00, 65948.18it/s]"
     ]
    },
    {
     "name": "stderr",
     "output_type": "stream",
     "text": [
      "\n",
      "Fetching 5 files: 100%|██████████| 5/5 [00:00<00:00, 80043.97it/s]\n",
      "Fetching 5 files: 100%|██████████| 5/5 [00:00<00:00, 88115.63it/s]\n",
      "Fetching 5 files: 100%|██████████| 5/5 [00:00<00:00, 51150.05it/s]\n",
      "Fetching 5 files: 100%|██████████| 5/5 [00:00<00:00, 13197.94it/s]\n",
      "Fetching 5 files: 100%|██████████| 5/5 [00:00<00:00, 16045.54it/s]\n",
      "Fetching 5 files: 100%|██████████| 5/5 [00:00<00:00, 16513.01it/s]\n",
      "Fetching 5 files: 100%|██████████| 5/5 [00:00<00:00, 23224.27it/s]\n",
      "Fetching 5 files: 100%|██████████| 5/5 [00:00<00:00, 80350.65it/s]\n",
      "Fetching 5 files: 100%|██████████| 5/5 [00:00<00:00, 78545.02it/s]\n",
      "Fetching 5 files: 100%|██████████| 5/5 [00:00<00:00, 22381.56it/s]\n",
      "Fetching 5 files: 100%|██████████| 5/5 [00:00<00:00, 29959.31it/s]\n",
      "Fetching 5 files: 100%|██████████| 5/5 [00:00<00:00, 36535.75it/s]\n",
      "Fetching 5 files: 100%|██████████| 5/5 [00:00<00:00, 13460.54it/s]\n",
      "Fetching 5 files: 100%|██████████| 5/5 [00:00<00:00, 13824.34it/s]\n",
      "Fetching 5 files: 100%|██████████| 5/5 [00:00<00:00, 17909.07it/s]\n",
      "Fetching 5 files: 100%|██████████| 5/5 [00:00<00:00, 52298.05it/s]\n",
      "Fetching 5 files: 100%|██████████| 5/5 [00:00<00:00, 34435.99it/s]\n",
      "Fetching 5 files: 100%|██████████| 5/5 [00:00<00:00, 20460.02it/s]\n",
      "Fetching 5 files: 100%|██████████| 5/5 [00:00<00:00, 8480.19it/s]\n",
      "Fetching 5 files: 100%|██████████| 5/5 [00:00<00:00, 59241.58it/s]\n",
      "Fetching 5 files: 100%|██████████| 5/5 [00:00<00:00, 14779.08it/s]\n",
      "Fetching 5 files: 100%|██████████| 5/5 [00:00<00:00, 13842.59it/s]\n",
      "Fetching 5 files: 100%|██████████| 5/5 [00:00<00:00, 57299.23it/s]\n",
      "Fetching 5 files: 100%|██████████| 5/5 [00:00<00:00, 37382.39it/s]\n",
      "Fetching 5 files: 100%|██████████| 5/5 [00:00<00:00, 7226.57it/s]\n",
      "Fetching 5 files: 100%|██████████| 5/5 [00:00<00:00, 32564.47it/s]\n",
      "Fetching 5 files: 100%|██████████| 5/5 [00:00<00:00, 33716.27it/s]\n",
      "Fetching 5 files: 100%|██████████| 5/5 [00:00<00:00, 33716.27it/s]\n",
      "Fetching 5 files: 100%|██████████| 5/5 [00:00<00:00, 29662.69it/s]\n",
      "Fetching 5 files: 100%|██████████| 5/5 [00:00<00:00, 32363.46it/s]\n",
      "Fetching 5 files: 100%|██████████| 5/5 [00:00<00:00, 101.09it/s]\n",
      "Fetching 5 files: 100%|██████████| 5/5 [00:00<00:00, 14493.10it/s]\n",
      "Fetching 5 files: 100%|██████████| 5/5 [00:00<00:00, 17578.81it/s]\n",
      "100%|██████████| 1/1 [00:11<00:00, 11.72s/it]\n"
     ]
    },
    {
     "data": {
      "text/plain": [
       "[0]"
      ]
     },
     "execution_count": 18,
     "metadata": {},
     "output_type": "execute_result"
    }
   ],
   "source": [
    "from tqdm import tqdm\n",
    "\n",
    "client.set_model(\"sentence-transformers/all-MiniLM-L6-v2\")\n",
    "# comment this line to use dense vectors only\n",
    "client.set_sparse_model(\"prithivida/Splade_PP_en_v1\")\n",
    "\n",
    "if not client.collection_exists(\"hybrid_search\"):\n",
    "    client.create_collection(\n",
    "        collection_name=\"hybrid_search\",\n",
    "        vectors_config=client.get_fastembed_vector_params(),\n",
    "        # comment this line to use dense vectors only\n",
    "        sparse_vectors_config=client.get_fastembed_sparse_vector_params(),  \n",
    "    )\n",
    "documents = list(hpe_news[\"text\"].values)\n",
    "metadata = list(hpe_news[[\"title\",\"text\",\"date\"]])\n",
    "\n",
    "client.add(\n",
    "    collection_name=\"hybrid_search\",\n",
    "    documents=documents,\n",
    "    parallel=0,  # Use all available CPU cores to encode data. \n",
    "    ids=tqdm(range(len(documents)))\n",
    "    # Requires wrapping code into if __name__ == '__main__' block\n",
    ")\n"
   ]
  },
  {
   "cell_type": "code",
   "execution_count": 20,
   "metadata": {},
   "outputs": [
    {
     "data": {
      "text/plain": [
       "[{'document': \"Apple will overhaul its iPad family next year to make it less confusing for customers and to recharge slumping sales, according to Bloomberg. New versions of the iPad Pro and iPad Air are reportedly coming as soon as March.\\n\\nApple didn't release new iPads in 2023, and sales fell 3% from fiscal 2022 to fiscal 2023, after declining 8% the year before. IPad revenue in the company's fiscal fourth quarter fell 10% year over year after Apple warned of double-digit declines in its iPad and Mac segments.\\n\\nApple reportedly wants to make it easier to differentiate between the iPad models and also plans big upgrades. Apple currently sells two sizes of the iPad Pro, the iPad Air, the 10th generation iPad, the ninth generation iPad and the iPad mini. Accessories, such as keyboards and Apple Pencils, as well as chargers, vary depending on which model you're buying. It makes choosing an iPad more confusing than with any of Apple's other products.\\n\\nThe plan is to make the iPad Pro the clear top-line model, with the Air as a middle tier and the 11th generation iPad at the bottom, according to the report. The upcoming changes to the iPad Pro reportedly include a better screen, the M3 chip, a new design and a new Magic Keyboard attachment that only works with iPad Pros.\\n\\nThe new iPad Air will have two screen sizes and an M2 chip, according to the report.\\n\\nApple will reportedly release an updated iPad mini and the 11th generation iPad, the latter of which will allow the company to phase out the ninth generation version that still has a home button. The report did not specify the timetable on those releases.\\n\\nApple did not immediately respond to a request for comment.\\n\\nRead more from Bloomberg.\"},\n",
       " {'document': 'Apple on Monday announced new versions of its 13-inch and 15-inch MacBook Air laptops with its latest M3 chip.\\n\\nApple launched the M3 chip in October with versions for its iMac desktop computer and more powerful versions for its MacBook Pro laptops. Apple reported $7.78 billion in Mac revenue during its fiscal first-quarter earnings report, which showed less than 1% growth. The latest computers may help boost the company\\'s sales.\\n\\nApple said its new MacBook Air laptops offer sharper 1080p webcams, support for faster Wi-Fi networks and up to 18 hours of battery life. The design remains the same as earlier models. The new M3 chip allows users to add up to two external displays, an improvement from a single screen supported by earlier chips. The lid of the laptop has to remain closed to support two screens, otherwise just one will work.\\n\\nApple\\'s announcement showed it\\'s stepping up its marketing around artificial intelligence.\\n\\nIt called the new MacBook Air the \"world\\'s best consumer laptop for AI.\" It\\'s an interesting change of language since Apple didn\\'t mention that when it introduced the iMac with M3 in October, but shows it\\'s trying to compete with new Windows laptops billed as \"AI PCs.\"\\n\\nStill, the most popular AI platforms, such as OpenAI\\'s ChatGPT, Anthropic\\'s Claude and others, run in the cloud over an internet connection, not directly on a computer. Apps such as Pixelmator Pro can use AI to remove background noise in photos, Apple said, although that\\'s more in line with how apps have used artificial intelligence for years.\\n\\nApple CEO Tim Cook reiterated on Feb. 28 that Apple is \"investing significantly\" in artificial intelligence and teased a major announcement later this year. That may come during Apple\\'s Worldwide Developer Conference in June, when the company typically unveils new software. It\\'s possible Apple announces its own large language model that could run locally on its Macs and other devices, such as iPhones and iPads.\\n\\nThe 13-inch MacBook Air starts at $1,099, while the 15-inch starts at $1,299. They\\'re available for order beginning Monday and will be in stores starting March 8.\\n\\n\\n\\nSubscribe to CNBC on YouTube.\\n\\nDon\\'t miss these stories from CNBC PRO:\\n\\n'},\n",
       " {'document': \"Apple will overhaul its iPad family next year to make it less confusing for customers and to recharge slumping sales, according to Bloomberg. New versions of the iPad Pro and iPad Air are reportedly coming as soon as March.\\n\\nApple didn't release new iPads in 2023, and sales fell 3% from fiscal 2022 to fiscal 2023, after declining 8% the year before. IPad revenue in the company's fiscal fourth quarter fell 10% year over year after Apple warned of double-digit declines in its iPad and Mac segments.\\n\\nApple reportedly wants to make it easier to differentiate between the iPad models and also plans big upgrades. Apple currently sells two sizes of the iPad Pro, the iPad Air, the 10th generation iPad, the ninth generation iPad and the iPad mini. Accessories, such as keyboards and Apple Pencils, as well as chargers, vary depending on which model you're buying. It makes choosing an iPad more confusing than with any of Apple's other products.\\n\\nThe plan is to make the iPad Pro the clear top-line model, with the Air as a middle tier and the 11th generation iPad at the bottom, according to the report. The upcoming changes to the iPad Pro reportedly include a better screen, the M3 chip, a new design and a new Magic Keyboard attachment that only works with iPad Pros.\\n\\nThe new iPad Air will have two screen sizes and an M2 chip, according to the report.\\n\\nApple will reportedly release an updated iPad mini and the 11th generation iPad, the latter of which will allow the company to phase out the ninth generation version that still has a home button. The report did not specify the timetable on those releases.\\n\\nApple did not immediately respond to a request for comment.\\n\\nRead more from Bloomberg.\"},\n",
       " {'document': 'Meta CEO Mark Zuckerberg demonstrates an Oculus Rift virtual reality (VR) headset and Oculus Touch controllers during the Oculus Connect 3 event in San Jose, California, U.S., on Thursday, Oct. 6, 2016.\\n\\nMeta CEO Mark Zuckerberg shared his opinion of Apple \\'s new mixed-reality headset, the Vision Pro, in a video posted to Instagram where he called Meta\\'s Quest 3 headset \"the better value\" and \"the better product, period.\"\\n\\nWhile it\\'s obvious Zuckerberg would promote his company\\'s product, his decision to post a video about the differences between the Quest 3 and Vision Pro shows the increasing competition between Apple and Meta. Both companies are trying to sell consumers on the benefit of mixed-reality headsets that overlay digital content over the real world or provide immersive virtual reality experiences. Meta has taken a lower-cost approach while Apple has focused on sharper screens, more powerful processors and higher-end materials.\\n\\nZuckerberg, in the video posted Tuesday, said he thinks the Quest headset is \"a lot more comfortable,\" its immersive content library is deeper, its field of view is wider, its hand tracking is more accurate and its screen is brighter compared with the Vision Pro. However, he noted that Apple\\'s screen has a higher resolution and that its eye tracking is \"really nice.\"\\n\\n\"It seems like there are a lot of people who just assumed that Vision Pro would be higher quality because it\\'s Apple and it costs $3,000 more, but honestly, I\\'m pretty surprised that Quest is so much better for the vast majority of things that people use these headsets for, with that price differential,\" Zuckerberg said.\\n\\nApple officially launched its Vision Pro in the U.S. on Feb 2. The $3,500 headset is the first new product category the company has released since the Apple Watch in 2015. At an event to celebrate the launch in New York, Apple CEO Tim Cook told CNBC\\'s Jim Cramer that the headset is \"tomorrow\\'s technology today.\"\\n\\nMeta introduced its Quest 3 headset in September, and the devices started shipping the following month. The Quest 3 starts at $500, which is $200 more expensive than Meta\\'s previous headset. The defining feature of Meta\\'s new headset is its \"passthrough\" mode, which is the ability to quickly see the world outside the headset. Apple\\'s headset offers similar functionality.\\n\\nIn the video, Zuckerberg said he knows some \"fanboys\" get upset when people question whether Apple will dominate in a new category, but he said he thinks Meta\\'s open model for its headsets will win.\\n\\n\"The future is not yet written,\" he said.\\n\\nApple did not immediately respond to CNBC\\'s request for comment.\\n\\nDon\\'t miss these stories from CNBC PRO:'},\n",
       " {'document': 'The logos of Google, Apple, Facebook, Amazon and Microsoft displayed on a mobile phone with an EU flag pictured in the background. Justin Tallis | AFP via Getty Images\\n\\nAn EU law that seeks to rein in large digital companies has officially kicked in, spelling big changes for primarily U.S. tech giants. The European Union\\'s landmark Digital Markets Act officially became enforceable on Thursday. That means the European Commission, the EU executive arm, can start taking action against companies that breach the rules. The Digital Markets Act aims to clamp down on anti-competitive practices from tech players, as well as force them to open out some of their services to other competitors. Smaller internet firms and other businesses have complained about being hurt by the practices of these companies. Bill Echikson, a non-resident senior follow at the Center for European Policy Analysis (CEPA), said that the EU reforms mean that technology giants will graduate from \"teenagers\" to \"grown-ups\" now. \"There\\'s a lot of changes that could or could not happen. A lot of it is uncertain,\" Echikson said. But, he added, the new law could inspire change in other countries, like the U.S. and the U.K. and ultimately force tech firms into global tweaks to their platforms. CNBC runs through how the law impacts large U.S. tech companies — as well as consumers in the EU.\\n\\nWhat does it mean for Big Tech?\\n\\nThe EU Digital Markets Act primarily impacts U.S. tech giants — the likes of Alphabet , Amazon , Apple , and Meta . That\\'s because the rules impose strict curbs for so-called \"gatekeepers\" — firms with an entrenched position in their respective market, with a market capitalization of at least 75 billion euros ($81.7 billion) and with a platform with 45 million monthly active end users in the EU. That makes U.S. tech giants a key target. So far, six firms have been designated gatekeepers: Alphabet, Amazon, Apple, Meta, Microsoft and China\\'s ByteDance — the sole non-U.S. firm on the list. These companies are required to adjust their platforms to make competition healthier in the bloc. For example, they must ensure they\\'re not giving their services preference over rivals on their own platforms. Google, for instance, can\\'t force users to select its own search engine on Android phones when they set up their devices and must show alternatives, like DuckDuckGo, or Ecosia.\\n\\nSome messaging apps, like Facebook Messenger, must also make their services \"interoperable\" with third-party messaging services, so that users can message people using alternative products. Companies with entrenched positions in app distribution must meanwhile also allow competing apps to appear on their platforms. Apple has been ordered under the DMA to allow alternative app stores on iPhones for the first time. The tech giant was this week slapped by the EU with a fine of more than 1.8 billion euro ($1.96 billion) for breaching competition rules, following an investigation into its App Store practices. The EU thinks Apple broke the law by preventing app developers from informing iOS users about alternative and cheaper music subscription services available outside of the app. Spotify praised the Commission\\'s decision, while Apple denied its App Store violates the law. The fine could be a sign of what\\'s to come, as DMA enforcement officially gets underway. Companies in persistent breach of the law can face fines as large as 10% of their global annual revenues.\\n\\nHow are EU citizens affected?\\n\\nThe rules have already sparked big changes for tech giants in how they serve customers in the EU. It\\'s likely more adjustments will come, as competitors to Big Tech firms aren\\'t happy with the proposals put in place so far. Apple recently announced it would open up its iPhone and iPad to alternative app stores. Developers have long complained about the 30% fee Apple charges on in-app purchases.\\n\\nwatch now'}]"
      ]
     },
     "execution_count": 20,
     "metadata": {},
     "output_type": "execute_result"
    }
   ],
   "source": [
    "from fastapi import FastAPI\n",
    "\n",
    "# The file where HybridSearcher is stored\n",
    "from hybrid_search import HybridSearcher\n",
    "\n",
    "app = FastAPI()\n",
    "\n",
    "# Create a neural searcher instance\n",
    "hybrid_searcher = HybridSearcher(collection_name=\"hybrid_search\")\n",
    "\n",
    "def search_db(q: str):\n",
    "    return {\"result\": hybrid_searcher.search(text=q)}\n",
    "\n",
    "search_db(\"HPE is performing well\")[\"result\"]"
   ]
  },
  {
   "cell_type": "markdown",
   "metadata": {},
   "source": [
    "### Hybrid Search by Individual Collections from Sparse and Dense"
   ]
  },
  {
   "cell_type": "code",
   "execution_count": 21,
   "metadata": {},
   "outputs": [
    {
     "data": {
      "text/plain": [
       "(         date       RSI\n",
       " 0  2024-03-26  0.353261\n",
       " 1  2024-04-02  0.448071\n",
       " 2  2023-02-02  0.523560\n",
       " 3  2024-03-28  0.456376\n",
       " 4  2023-02-15  0.583733,\n",
       "          date                                              title\n",
       " 0  2024-08-11  The stock market should be great, not on a kni...)"
      ]
     },
     "execution_count": 21,
     "metadata": {},
     "output_type": "execute_result"
    }
   ],
   "source": [
    "from qdrant_client import QdrantClient\n",
    "\n",
    "\n",
    "class HybridSearcher:\n",
    "    def __init__(self, collection_name):\n",
    "        self.collection_name = collection_name\n",
    "        # initialize Qdrant client\n",
    "        self.qdrant_client = client\n",
    "    def search(self, vector):\n",
    "        if type(self.collection_name) == str:\n",
    "            search_result = client.search(collection_name=self.collection_name, query_vector=vector.tolist(), limit=5)\n",
    "        else:\n",
    "            search_result = client.search(collection_name=self.collection_name[0], query_vector=vector[0].tolist(), limit=5)\n",
    "            search_result2 = client.search(collection_name=self.collection_name[1], query_vector=vector[1].tolist(), limit=5)\n",
    "\n",
    "        # `search_result` contains found vector ids with similarity scores \n",
    "        # along with the stored payload\n",
    "        \n",
    "        # Select and return metadata\n",
    "        if self.collection_name == \"news_sentiment\":\n",
    "            metadata = [hit.score for hit in search_result]\n",
    "        elif self.collection_name == \"financial_data\": \n",
    "            metadata = [hit.score for hit in search_result]\n",
    "        else:\n",
    "            metadata1 = [[hit.payload.get(\"date\"), hit.payload.get(\"RSI\")] for hit in search_result2]\n",
    "            metadata2 = [[hit.payload.get(\"date\"), hit.payload.get(\"title\")] for hit in search_result]\n",
    "\n",
    "            metadata = pd.DataFrame(metadata1,columns=[\"date\",\"RSI\"]),pd.DataFrame(metadata2,columns=[\"date\",\"title\"])\n",
    "        return metadata\n",
    "\n",
    "hybrid_searcher = HybridSearcher(collection_name=[\"news_sentiment\",\"financial_data\"])\n",
    "dense_vector = model.encode(\"Apple is performing well\")\n",
    "sparse_vector = np.array([1,1,0,0])\n",
    "vector = [dense_vector,sparse_vector]\n",
    "metadata = hybrid_searcher.search(vector)\n",
    "metadata"
   ]
  },
  {
   "cell_type": "code",
   "execution_count": 23,
   "metadata": {},
   "outputs": [
    {
     "name": "stdout",
     "output_type": "stream",
     "text": [
      "[0.08641739]\n",
      "[4.977789e-07, 4.7790604e-07, 4.209826e-07, 4.1530433e-07, 3.4968178e-07]\n"
     ]
    }
   ],
   "source": [
    "# Dense Query Result\n",
    "hybrid_searcher = HybridSearcher(collection_name=\"news_sentiment\")\n",
    "dense_vector = model.encode(\"Apple is performing well\")\n",
    "dense_results = hybrid_searcher.search(dense_vector)\n",
    "print(dense_results)\n",
    "\n",
    "hybrid_searcher = HybridSearcher(collection_name=\"financial_data\")\n",
    "sparse_vector = np.array([1,1,0,0])\n",
    "sparse_results = hybrid_searcher.search(sparse_vector)\n",
    "print(sparse_results)\n"
   ]
  },
  {
   "attachments": {},
   "cell_type": "markdown",
   "metadata": {},
   "source": [
    "Implement advanced techniques like Reciprocal Rank Fusion (RRF) for combining results:\n",
    "\n"
   ]
  },
  {
   "cell_type": "code",
   "execution_count": 24,
   "metadata": {},
   "outputs": [
    {
     "name": "stdout",
     "output_type": "stream",
     "text": [
      "1.5\n"
     ]
    }
   ],
   "source": [
    "def reciprocal_rank_fusion(results):\n",
    "    combined_rank = 0\n",
    "    for rank, result in enumerate(results, start=1):\n",
    "        combined_rank += 1 / rank\n",
    "    return combined_rank\n",
    "\n",
    "rrf_score = reciprocal_rank_fusion([sparse_results, dense_results])\n",
    "print(rrf_score)"
   ]
  }
 ],
 "metadata": {
  "kernelspec": {
   "display_name": "fin_ana",
   "language": "python",
   "name": "python3"
  },
  "language_info": {
   "codemirror_mode": {
    "name": "ipython",
    "version": 3
   },
   "file_extension": ".py",
   "mimetype": "text/x-python",
   "name": "python",
   "nbconvert_exporter": "python",
   "pygments_lexer": "ipython3",
   "version": "3.12.5"
  },
  "orig_nbformat": 4,
  "vscode": {
   "interpreter": {
    "hash": "e646c1d0f36d352194803eb1b3bd6a8438ff42a362f7da11dd92f9220eb2998e"
   }
  }
 },
 "nbformat": 4,
 "nbformat_minor": 2
}
