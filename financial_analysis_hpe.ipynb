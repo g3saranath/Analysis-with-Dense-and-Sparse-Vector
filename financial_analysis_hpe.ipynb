{
 "cells": [
  {
   "attachments": {},
   "cell_type": "markdown",
   "metadata": {},
   "source": [
    "Loading the data from /data directory"
   ]
  },
  {
   "cell_type": "code",
   "execution_count": 1,
   "metadata": {},
   "outputs": [],
   "source": [
    "import pandas as pd\n",
    "import os"
   ]
  },
  {
   "attachments": {},
   "cell_type": "markdown",
   "metadata": {},
   "source": [
    "Stock Price data"
   ]
  },
  {
   "cell_type": "code",
   "execution_count": 2,
   "metadata": {},
   "outputs": [
    {
     "data": {
      "text/html": [
       "<div>\n",
       "<style scoped>\n",
       "    .dataframe tbody tr th:only-of-type {\n",
       "        vertical-align: middle;\n",
       "    }\n",
       "\n",
       "    .dataframe tbody tr th {\n",
       "        vertical-align: top;\n",
       "    }\n",
       "\n",
       "    .dataframe thead th {\n",
       "        text-align: right;\n",
       "    }\n",
       "</style>\n",
       "<table border=\"1\" class=\"dataframe\">\n",
       "  <thead>\n",
       "    <tr style=\"text-align: right;\">\n",
       "      <th></th>\n",
       "      <th>Date</th>\n",
       "      <th>Open</th>\n",
       "      <th>High</th>\n",
       "      <th>Low</th>\n",
       "      <th>Close</th>\n",
       "      <th>Adj Close</th>\n",
       "      <th>Volume</th>\n",
       "      <th>Company</th>\n",
       "    </tr>\n",
       "  </thead>\n",
       "  <tbody>\n",
       "    <tr>\n",
       "      <th>0</th>\n",
       "      <td>2023-01-03</td>\n",
       "      <td>16.090000</td>\n",
       "      <td>16.139999</td>\n",
       "      <td>15.830000</td>\n",
       "      <td>16.059999</td>\n",
       "      <td>15.367215</td>\n",
       "      <td>18233900</td>\n",
       "      <td>Hewlett Packard Enterprise</td>\n",
       "    </tr>\n",
       "    <tr>\n",
       "      <th>1</th>\n",
       "      <td>2023-01-04</td>\n",
       "      <td>16.150000</td>\n",
       "      <td>16.525000</td>\n",
       "      <td>16.120001</td>\n",
       "      <td>16.420000</td>\n",
       "      <td>15.711686</td>\n",
       "      <td>15865500</td>\n",
       "      <td>Hewlett Packard Enterprise</td>\n",
       "    </tr>\n",
       "    <tr>\n",
       "      <th>2</th>\n",
       "      <td>2023-01-05</td>\n",
       "      <td>16.290001</td>\n",
       "      <td>16.495001</td>\n",
       "      <td>16.184999</td>\n",
       "      <td>16.450001</td>\n",
       "      <td>15.740394</td>\n",
       "      <td>13099500</td>\n",
       "      <td>Hewlett Packard Enterprise</td>\n",
       "    </tr>\n",
       "    <tr>\n",
       "      <th>3</th>\n",
       "      <td>2023-01-06</td>\n",
       "      <td>16.680000</td>\n",
       "      <td>17.209999</td>\n",
       "      <td>16.670000</td>\n",
       "      <td>17.110001</td>\n",
       "      <td>16.371922</td>\n",
       "      <td>15242500</td>\n",
       "      <td>Hewlett Packard Enterprise</td>\n",
       "    </tr>\n",
       "    <tr>\n",
       "      <th>4</th>\n",
       "      <td>2023-01-09</td>\n",
       "      <td>17.100000</td>\n",
       "      <td>17.250000</td>\n",
       "      <td>16.889999</td>\n",
       "      <td>16.959999</td>\n",
       "      <td>16.228392</td>\n",
       "      <td>19294700</td>\n",
       "      <td>Hewlett Packard Enterprise</td>\n",
       "    </tr>\n",
       "  </tbody>\n",
       "</table>\n",
       "</div>"
      ],
      "text/plain": [
       "         Date       Open       High        Low      Close  Adj Close  \\\n",
       "0  2023-01-03  16.090000  16.139999  15.830000  16.059999  15.367215   \n",
       "1  2023-01-04  16.150000  16.525000  16.120001  16.420000  15.711686   \n",
       "2  2023-01-05  16.290001  16.495001  16.184999  16.450001  15.740394   \n",
       "3  2023-01-06  16.680000  17.209999  16.670000  17.110001  16.371922   \n",
       "4  2023-01-09  17.100000  17.250000  16.889999  16.959999  16.228392   \n",
       "\n",
       "     Volume                     Company  \n",
       "0  18233900  Hewlett Packard Enterprise  \n",
       "1  15865500  Hewlett Packard Enterprise  \n",
       "2  13099500  Hewlett Packard Enterprise  \n",
       "3  15242500  Hewlett Packard Enterprise  \n",
       "4  19294700  Hewlett Packard Enterprise  "
      ]
     },
     "execution_count": 2,
     "metadata": {},
     "output_type": "execute_result"
    }
   ],
   "source": [
    "hpe_stock = pd.read_csv(\"data/HPE_stock.csv\")\n",
    "hpe_stock.head()"
   ]
  },
  {
   "cell_type": "code",
   "execution_count": 3,
   "metadata": {},
   "outputs": [
    {
     "name": "stdout",
     "output_type": "stream",
     "text": [
      "Sparse Vectors:\n",
      " (333, 4)\n"
     ]
    }
   ],
   "source": [
    "import numpy as np\n",
    "from copy import deepcopy\n",
    "\n",
    "df = deepcopy(hpe_stock)\n",
    "\n",
    "# Simple Moving Average (SMA)\n",
    "df['SMA_20'] = df['Close'].rolling(window=20).mean()\n",
    "\n",
    "# Exponential Moving Average (EMA)\n",
    "df['EMA_12'] = df['Close'].ewm(span=12, adjust=False).mean()\n",
    "df['EMA_26'] = df['Close'].ewm(span=26, adjust=False).mean()\n",
    "\n",
    "# Relative Strength Index (RSI)\n",
    "delta = df['Close'].diff(1)\n",
    "gain = np.where(delta > 0, delta, 0)\n",
    "loss = np.where(delta < 0, -delta, 0)\n",
    "avg_gain = pd.Series(gain).rolling(window=14).mean()\n",
    "avg_loss = pd.Series(loss).rolling(window=14).mean()\n",
    "rs = avg_gain / avg_loss\n",
    "df['RSI'] = 100 - (100 / (1 + rs))\n",
    "\n",
    "# MACD\n",
    "df['MACD'] = df['EMA_12'] - df['EMA_26']\n",
    "df['Signal_Line'] = df['MACD'].ewm(span=9, adjust=False).mean()\n",
    "\n",
    "# Bollinger Bands\n",
    "df['Middle_Band'] = df['Close'].rolling(window=20).mean()\n",
    "df['Upper_Band'] = df['Middle_Band'] + 2*df['Close'].rolling(window=20).std()\n",
    "df['Lower_Band'] = df['Middle_Band'] - 2*df['Close'].rolling(window=20).std()\n",
    "\n",
    "# On-Balance Volume (OBV)\n",
    "df['OBV'] = (np.sign(df['Close'].diff()) * df['Volume']).fillna(0).cumsum()\n",
    "\n",
    "# Volume Moving Average\n",
    "df['Volume_MA'] = df['Volume'].rolling(window=20).mean()\n",
    "# Normalize selected indicators\n",
    "df['SMA_20_norm'] = df['SMA_20'] / df['Close']\n",
    "df['RSI_norm'] = df['RSI'] / 100\n",
    "df['MACD_norm'] = df['MACD'] / df['Close']\n",
    "\n",
    "# Create sparse vectors using selected indicators\n",
    "sparse_vectors = df[['SMA_20_norm', 'RSI_norm', 'MACD_norm', 'OBV']].fillna(0).values\n",
    "\n",
    "print(\"Sparse Vectors:\\n\", sparse_vectors.shape)\n"
   ]
  },
  {
   "cell_type": "code",
   "execution_count": 4,
   "metadata": {},
   "outputs": [
    {
     "data": {
      "text/plain": [
       "(333, 4)"
      ]
     },
     "execution_count": 4,
     "metadata": {},
     "output_type": "execute_result"
    }
   ],
   "source": [
    "sparse_vectors.shape"
   ]
  },
  {
   "cell_type": "code",
   "execution_count": 5,
   "metadata": {},
   "outputs": [
    {
     "name": "stdout",
     "output_type": "stream",
     "text": [
      "<Compressed Sparse Row sparse matrix of dtype 'float64'\n",
      "\twith 1298 stored elements and shape (333, 4)>\n",
      "  Coords\tValues\n",
      "  (1, 2)\t0.0017489645111771653\n",
      "  (1, 3)\t15865500.0\n",
      "  (2, 2)\t0.00323913659553549\n",
      "  (2, 3)\t28965000.0\n",
      "  (3, 2)\t0.007280703900160117\n",
      "  (3, 3)\t44207500.0\n",
      "  (4, 2)\t0.009849088042238139\n",
      "  (4, 3)\t24912800.0\n",
      "  (5, 2)\t0.01209768869051712\n",
      "  (5, 3)\t41690400.0\n",
      "  (6, 2)\t0.013181281356237924\n",
      "  (6, 3)\t25687600.0\n",
      "  (7, 2)\t0.011410792678221388\n",
      "  (7, 3)\t3241800.0\n",
      "  (8, 2)\t0.010075456988319614\n",
      "  (8, 3)\t15633900.0\n",
      "  (9, 2)\t0.008113857584141853\n",
      "  (9, 3)\t1444400.0\n",
      "  (10, 2)\t0.005611536845850715\n",
      "  (10, 3)\t-12185000.0\n",
      "  (11, 2)\t0.002217655343961456\n",
      "  (11, 3)\t-24718300.0\n",
      "  (12, 2)\t0.00016322217039208827\n",
      "  (12, 3)\t-12004600.0\n",
      "  (13, 1)\t0.5173502327022645\n",
      "  :\t:\n",
      "  (326, 3)\t-52407400.0\n",
      "  (327, 0)\t1.043672033724372\n",
      "  (327, 1)\t0.13440780824755522\n",
      "  (327, 2)\t-0.004151766632197229\n",
      "  (327, 3)\t-52407400.0\n",
      "  (328, 0)\t1.035262842325699\n",
      "  (328, 1)\t0.20467780812933525\n",
      "  (328, 2)\t-0.005118413324478753\n",
      "  (328, 3)\t-41551400.0\n",
      "  (329, 0)\t1.0307602183931133\n",
      "  (329, 1)\t0.19526547748703635\n",
      "  (329, 2)\t-0.00563485807016095\n",
      "  (329, 3)\t-33168400.0\n",
      "  (330, 0)\t1.0171228973480966\n",
      "  (330, 1)\t0.22285703697971512\n",
      "  (330, 2)\t-0.004985799058993679\n",
      "  (330, 3)\t-23979000.0\n",
      "  (331, 0)\t1.0143189699695847\n",
      "  (331, 1)\t0.24390229719294\n",
      "  (331, 2)\t-0.004422846110984756\n",
      "  (331, 3)\t-15643300.0\n",
      "  (332, 0)\t1.023000010322122\n",
      "  (332, 1)\t0.22222210448460245\n",
      "  (332, 2)\t-0.00481995461726031\n",
      "  (332, 3)\t-25716300.0\n"
     ]
    }
   ],
   "source": [
    "import numpy as np\n",
    "from scipy.sparse import csr_matrix\n",
    "\n",
    "sparse_matrix = csr_matrix(sparse_vectors)\n",
    "\n",
    "# Show sparse matrix\n",
    "print(sparse_matrix)"
   ]
  },
  {
   "attachments": {},
   "cell_type": "markdown",
   "metadata": {},
   "source": [
    "Setup Qdrant for Sparse Vector store"
   ]
  },
  {
   "cell_type": "code",
   "execution_count": 6,
   "metadata": {},
   "outputs": [
    {
     "name": "stderr",
     "output_type": "stream",
     "text": [
      "/lustre/saranath/miniconda3/envs/fin_ana/lib/python3.12/site-packages/tqdm/auto.py:21: TqdmWarning: IProgress not found. Please update jupyter and ipywidgets. See https://ipywidgets.readthedocs.io/en/stable/user_install.html\n",
      "  from .autonotebook import tqdm as notebook_tqdm\n",
      "/tmp/ipykernel_3752707/2755610446.py:12: DeprecationWarning: `recreate_collection` method is deprecated and will be removed in the future. Use `collection_exists` to check collection existence and `create_collection` instead.\n",
      "  client.recreate_collection(\n"
     ]
    }
   ],
   "source": [
    "import qdrant_client\n",
    "from qdrant_client.models import VectorParams, Distance\n",
    "from qdrant_client.http.models import PointStruct, VectorParams\n",
    "from qdrant_client import QdrantClient\n",
    "\n",
    "\n",
    "\n",
    "# Initialize Qdrant client\n",
    "client = QdrantClient(url=\"http://localhost:6333\")#, api_key=qdrant_api)\n",
    "\n",
    "# Create a collection named \"financial_data\"\n",
    "client.recreate_collection(\n",
    "    collection_name=\"hpe_financial_data\",\n",
    "    vectors_config=VectorParams(\n",
    "        size=sparse_vectors.shape[1],  # Dimensionality of the vector (SMA_20_norm, RSI_norm, MACD_norm)\n",
    "        distance=Distance.COSINE  # Distance metric (can be COSINE, EUCLID, etc.)\n",
    "    )\n",
    ")\n",
    "\n",
    "for i, vector in enumerate(sparse_vectors):\n",
    "    client.upsert(\n",
    "        collection_name=\"hpe_financial_data\",\n",
    "        points=[\n",
    "            {\n",
    "                \"id\": i+1,\n",
    "                \"vector\": vector.tolist(),\n",
    "                \"payload\": {\"date\": df['Date'].iloc[i],\n",
    "                            \"RSI\" : df[\"RSI_norm\"].iloc[i]}\n",
    "            }\n",
    "        ]\n",
    "    )"
   ]
  },
  {
   "attachments": {},
   "cell_type": "markdown",
   "metadata": {},
   "source": [
    "Financial News Data"
   ]
  },
  {
   "cell_type": "code",
   "execution_count": 7,
   "metadata": {},
   "outputs": [
    {
     "data": {
      "text/html": [
       "<div>\n",
       "<style scoped>\n",
       "    .dataframe tbody tr th:only-of-type {\n",
       "        vertical-align: middle;\n",
       "    }\n",
       "\n",
       "    .dataframe tbody tr th {\n",
       "        vertical-align: top;\n",
       "    }\n",
       "\n",
       "    .dataframe thead th {\n",
       "        text-align: right;\n",
       "    }\n",
       "</style>\n",
       "<table border=\"1\" class=\"dataframe\">\n",
       "  <thead>\n",
       "    <tr style=\"text-align: right;\">\n",
       "      <th></th>\n",
       "      <th>title</th>\n",
       "      <th>date</th>\n",
       "      <th>text</th>\n",
       "      <th>source</th>\n",
       "    </tr>\n",
       "  </thead>\n",
       "  <tbody>\n",
       "    <tr>\n",
       "      <th>0</th>\n",
       "      <td>The stock market should be great, not on a kni...</td>\n",
       "      <td>2024-08-11</td>\n",
       "      <td>When I look at Thursday's rally, I am beginnin...</td>\n",
       "      <td>https://www.cnbc.com/technology/</td>\n",
       "    </tr>\n",
       "    <tr>\n",
       "      <th>1</th>\n",
       "      <td>HPE-Juniper Networks $14B Merger: EU To Make K...</td>\n",
       "      <td>2024-11-08</td>\n",
       "      <td>HPE-Juniper Networks $14B Merger: EU To Make K...</td>\n",
       "      <td>https://www.crn.com/news/networking/2024/hpe-j...</td>\n",
       "    </tr>\n",
       "    <tr>\n",
       "      <th>2</th>\n",
       "      <td>Hewlett Packard Enterprise (HPE) Q3 Earnings: ...</td>\n",
       "      <td>2024-09-05</td>\n",
       "      <td>Hewlett Packard Enterprise (HPE) Q3 Earnings: ...</td>\n",
       "      <td>https://finance.yahoo.com/news/hewlett-packard...</td>\n",
       "    </tr>\n",
       "    <tr>\n",
       "      <th>3</th>\n",
       "      <td>Hewlett Packard Enterprise Co (HPE) Faces Reve...</td>\n",
       "      <td>2024-02-29</td>\n",
       "      <td>Hewlett Packard Enterprise Co (HPE) Faces Reve...</td>\n",
       "      <td>https://finance.yahoo.com/news/hewlett-packard...</td>\n",
       "    </tr>\n",
       "    <tr>\n",
       "      <th>4</th>\n",
       "      <td>HPE gross margins</td>\n",
       "      <td>2024-09-05</td>\n",
       "      <td>Hewlett Packard Enterprise Reports Fiscal 2024...</td>\n",
       "      <td>https://markets.ft.com/data/announce/detail?do...</td>\n",
       "    </tr>\n",
       "  </tbody>\n",
       "</table>\n",
       "</div>"
      ],
      "text/plain": [
       "                                               title       date  \\\n",
       "0  The stock market should be great, not on a kni... 2024-08-11   \n",
       "1  HPE-Juniper Networks $14B Merger: EU To Make K... 2024-11-08   \n",
       "2  Hewlett Packard Enterprise (HPE) Q3 Earnings: ... 2024-09-05   \n",
       "3  Hewlett Packard Enterprise Co (HPE) Faces Reve... 2024-02-29   \n",
       "4                                  HPE gross margins 2024-09-05   \n",
       "\n",
       "                                                text  \\\n",
       "0  When I look at Thursday's rally, I am beginnin...   \n",
       "1  HPE-Juniper Networks $14B Merger: EU To Make K...   \n",
       "2  Hewlett Packard Enterprise (HPE) Q3 Earnings: ...   \n",
       "3  Hewlett Packard Enterprise Co (HPE) Faces Reve...   \n",
       "4  Hewlett Packard Enterprise Reports Fiscal 2024...   \n",
       "\n",
       "                                              source  \n",
       "0                   https://www.cnbc.com/technology/  \n",
       "1  https://www.crn.com/news/networking/2024/hpe-j...  \n",
       "2  https://finance.yahoo.com/news/hewlett-packard...  \n",
       "3  https://finance.yahoo.com/news/hewlett-packard...  \n",
       "4  https://markets.ft.com/data/announce/detail?do...  "
      ]
     },
     "execution_count": 7,
     "metadata": {},
     "output_type": "execute_result"
    }
   ],
   "source": [
    "import datetime\n",
    "hpe_news = pd.read_csv(\"data/hpe_financial_news.csv\", encoding='latin1')\n",
    "hpe_news[\"date\"] = pd.to_datetime(hpe_news[\"date\"], format=\"mixed\")\n",
    "hpe_news.head()"
   ]
  },
  {
   "cell_type": "code",
   "execution_count": 8,
   "metadata": {},
   "outputs": [
    {
     "name": "stderr",
     "output_type": "stream",
     "text": [
      "[nltk_data] Downloading package punkt to /home/saranath/nltk_data...\n",
      "[nltk_data]   Package punkt is already up-to-date!\n",
      "[nltk_data] Downloading package stopwords to\n",
      "[nltk_data]     /home/saranath/nltk_data...\n",
      "[nltk_data]   Package stopwords is already up-to-date!\n",
      "/lustre/saranath/miniconda3/envs/fin_ana/lib/python3.12/site-packages/transformers/tokenization_utils_base.py:1601: FutureWarning: `clean_up_tokenization_spaces` was not set. It will be set to `True` by default. This behavior will be depracted in transformers v4.45, and will be then set to `False` by default. For more details check this issue: https://github.com/huggingface/transformers/issues/31884\n",
      "  warnings.warn(\n"
     ]
    },
    {
     "data": {
      "text/plain": [
       "(11, 384)"
      ]
     },
     "execution_count": 8,
     "metadata": {},
     "output_type": "execute_result"
    }
   ],
   "source": [
    "## Creating Dense Vectors for News Articles\n",
    "from sentence_transformers import SentenceTransformer\n",
    "import nltk\n",
    "from nltk.corpus import stopwords\n",
    "from nltk.tokenize import word_tokenize\n",
    "\n",
    "nltk.download('punkt')\n",
    "nltk.download('stopwords')\n",
    "\n",
    "# Load the pre-trained model\n",
    "model = SentenceTransformer('paraphrase-MiniLM-L6-v2')\n",
    "\n",
    "news_articles = list(hpe_news.text.values)\n",
    "\n",
    "# Generate dense vectors for each article\n",
    "dense_vectors = model.encode(news_articles)\n",
    "\n",
    "dense_vectors.shape\n"
   ]
  },
  {
   "cell_type": "code",
   "execution_count": 9,
   "metadata": {},
   "outputs": [
    {
     "name": "stderr",
     "output_type": "stream",
     "text": [
      "/tmp/ipykernel_3752707/379055714.py:3: DeprecationWarning: `recreate_collection` method is deprecated and will be removed in the future. Use `collection_exists` to check collection existence and `create_collection` instead.\n",
      "  client.recreate_collection(\n"
     ]
    }
   ],
   "source": [
    "from qdrant_client import QdrantClient\n",
    "# Create a collection named \"financial_data\"\n",
    "client.recreate_collection(\n",
    "    collection_name=\"hpe_news_sentiment\",\n",
    "    vectors_config=VectorParams(\n",
    "        size=dense_vectors.shape[1],  # Dimensionality of the vector (SMA_20_norm, RSI_norm, MACD_norm)\n",
    "        distance=Distance.COSINE  # Distance metric (can be COSINE, EUCLID, etc.)\n",
    "    )\n",
    ")\n",
    "\n",
    "for i, vector in enumerate(dense_vectors):\n",
    "    client.upsert(\n",
    "        collection_name=\"hpe_news_sentiment\",\n",
    "        points=[\n",
    "            {\n",
    "                \"id\": i+1,\n",
    "                \"vector\": vector.tolist(),\n",
    "                \"payload\":{\"title\":hpe_news.title.iloc[i],\n",
    "                           \"date\":hpe_news.date.iloc[i]}\n",
    "            }\n",
    "        ]\n",
    "    )"
   ]
  },
  {
   "attachments": {},
   "cell_type": "markdown",
   "metadata": {},
   "source": [
    "You can query the sparse vectors to retrieve real-time market indicators.\n",
    "\n"
   ]
  },
  {
   "cell_type": "code",
   "execution_count": 10,
   "metadata": {},
   "outputs": [
    {
     "data": {
      "text/plain": [
       "(333, 4)"
      ]
     },
     "execution_count": 10,
     "metadata": {},
     "output_type": "execute_result"
    }
   ],
   "source": [
    "sparse_vectors.shape"
   ]
  },
  {
   "cell_type": "code",
   "execution_count": 11,
   "metadata": {},
   "outputs": [
    {
     "name": "stdout",
     "output_type": "stream",
     "text": [
      "Market Indicators Results: [ScoredPoint(id=309, version=308, score=4.977789e-07, payload={'date': '2024-03-26', 'RSI': 0.3532608160449554}, vector=None, shard_key=None, order_value=None), ScoredPoint(id=313, version=312, score=4.7790604e-07, payload={'date': '2024-04-02', 'RSI': 0.448071426550075}, vector=None, shard_key=None, order_value=None), ScoredPoint(id=22, version=21, score=4.209826e-07, payload={'date': '2023-02-02', 'RSI': 0.5235602747783329}, vector=None, shard_key=None, order_value=None), ScoredPoint(id=311, version=310, score=4.1530433e-07, payload={'date': '2024-03-28', 'RSI': 0.4563757659002917}, vector=None, shard_key=None, order_value=None)]\n"
     ]
    }
   ],
   "source": [
    "query_vector = np.array([1, 1, 0, 0])\n",
    "results_sparse = client.search(\n",
    "    collection_name=\"hpe_financial_data\",\n",
    "    query_vector=query_vector.tolist(),\n",
    "    limit=4,  \n",
    ")\n",
    "\n",
    "print(\"Market Indicators Results:\", results_sparse)"
   ]
  },
  {
   "attachments": {},
   "cell_type": "markdown",
   "metadata": {},
   "source": [
    "Similarly, dense vectors can be queried to analyze financial news sentiment."
   ]
  },
  {
   "cell_type": "code",
   "execution_count": 12,
   "metadata": {},
   "outputs": [
    {
     "name": "stdout",
     "output_type": "stream",
     "text": [
      "News Sentiment Results: [ScoredPoint(id=1, version=0, score=0.05374437, payload={'title': \"The stock market should be great, not on a knife's edge. But that's the opportunity\", 'date': '2024-08-11'}, vector=None, shard_key=None, order_value=None)]\n"
     ]
    }
   ],
   "source": [
    "query_vector = model.encode(\"HPE performance in Q3\")\n",
    "\n",
    "results_dense = client.search(\n",
    "    collection_name=\"news_sentiment\",\n",
    "    query_vector=query_vector.tolist(),\n",
    "    limit=4\n",
    ")\n",
    "\n",
    "print(\"News Sentiment Results:\", results_dense)\n"
   ]
  },
  {
   "cell_type": "code",
   "execution_count": 13,
   "metadata": {},
   "outputs": [],
   "source": [
    "# Combine results based on relevance or score\n",
    "def combine_results(results_sparse,results_dense):\n",
    "    combined_results = {\n",
    "        \"market_indicators\": results_sparse,  # From sparse vector query\n",
    "        \"news_sentiment\": results_dense  # From dense vector query\n",
    "    }\n",
    "\n",
    "    #print(\"Combined Results:\", combined_results)\n",
    "    return combined_results\n",
    "\n",
    "def analyze_combined_results(combined_results):\n",
    "    \"\"\"\n",
    "    Analyzes the combined results from sparse and dense vector queries.\n",
    "\n",
    "    Parameters:\n",
    "        combined_results (dict): Dictionary containing search results from sparse and dense vector queries.\n",
    "                                 Example structure:\n",
    "                                 {\n",
    "                                     \"market_indicators\": [ ... ],\n",
    "                                     \"news_sentiment\": [ ... ]\n",
    "                                 }\n",
    "\n",
    "    Returns:\n",
    "        dict: A summary of the analysis, including key insights.\n",
    "    \"\"\"\n",
    "\n",
    "    # Extract results\n",
    "    market_results = combined_results.get('market_indicators', [])\n",
    "    news_results = combined_results.get('news_sentiment', [])\n",
    "\n",
    "    # Analyze market indicators\n",
    "    market_insights = []\n",
    "    for result in market_results:\n",
    "        market_insights.append({\n",
    "            \"date\": result.payload.get('date',\"N/A\"),\n",
    "            \"score\": result.score,  # Relevance score\n",
    "            \"id\": result.id,\n",
    "            \"indicator_vector\": result.vector,  # The sparse vector itself\n",
    "            \"RSI\": result.payload.get(\"RSI\",\"N/A\")\n",
    "        })\n",
    "\n",
    "    # Analyze news sentiment\n",
    "    news_insights = []\n",
    "    for result in news_results:\n",
    "        news_insights.append({\n",
    "            \"headline\": result.payload.get('title', 'N/A'),\n",
    "            \"score\": result.score,  # Relevance score\n",
    "            \"id\": result.id,\n",
    "            \"date\": result.payload.get('date', 'N/A'),\n",
    "            \"sentiment_vector\": result.vector  # The dense vector itself\n",
    "        })\n",
    "\n",
    "    # Combine insights for a summary\n",
    "    analysis_summary = {\n",
    "        \"market_insights\": market_insights,\n",
    "        \"news_insights\": news_insights,\n",
    "        \"combined_summary\": f\"Top market indicator on {market_insights[0]['date']} with relevance score {market_insights[0]['score']} with an RSI of about {market_insights[0][\"RSI\"]}.\"\n",
    "                            f\" Associated news headline: '{news_insights[0]['headline']}' dated {news_insights[0]['date']} with sentiment score {news_insights[0]['score']}.\"\n",
    "    }\n",
    "\n",
    "    return analysis_summary\n",
    "\n"
   ]
  },
  {
   "attachments": {},
   "cell_type": "markdown",
   "metadata": {},
   "source": [
    "\n",
    "Building a Real-Time Trading Signal Generator Using Qdrant\n",
    "\n",
    "This system can generate real-time trading signals by querying both sparse and dense vectors."
   ]
  },
  {
   "cell_type": "code",
   "execution_count": 14,
   "metadata": {},
   "outputs": [
    {
     "name": "stdout",
     "output_type": "stream",
     "text": [
      "Generated Trading Signal: Top market indicator on 2024-03-26 with relevance score 4.977789e-07 with an RSI of about 0.3532608160449554. Associated news headline: 'Hewlett Packard Enterprise (HPE) Q3 Earnings: How Key Metrics Compare to Wall Street Estimates' dated 2024-09-05T00:00:00 with sentiment score 0.60628736.\n"
     ]
    }
   ],
   "source": [
    "# Example function to generate a trading signal\n",
    "def generate_trading_signal(stock_query, sentiment_query):\n",
    "    market_results = client.search(collection_name=\"hpe_financial_data\", query_vector=stock_query.tolist(), limit=5)\n",
    "    sentiment_results = client.search(collection_name=\"hpe_news_sentiment\", query_vector=sentiment_query.tolist(), limit=5)\n",
    "    \n",
    "    # Combine or analyze results to generate a signal\n",
    "    signal = combine_results(market_results, sentiment_results)\n",
    "    analysis_summary = analyze_combined_results(signal)\n",
    "    return analysis_summary\n",
    "\n",
    "# Example use\n",
    "stock_query = np.array([1, 1, 0, 0])\n",
    "sentiment_query = model.encode(\"HPE stock rises after Q4\")\n",
    "\n",
    "signal = generate_trading_signal(stock_query, sentiment_query)\n",
    "print(\"Generated Trading Signal:\", signal.get(\"combined_summary\"))\n"
   ]
  },
  {
   "cell_type": "code",
   "execution_count": 15,
   "metadata": {},
   "outputs": [
    {
     "name": "stdout",
     "output_type": "stream",
     "text": [
      "Top market indicator on 2024-03-26 with relevance score 4.977789e-07 with an RSI of about 0.3532608160449554. Associated news headline: 'Hewlett Packard Enterprise (HPE) Q3 Earnings: How Key Metrics Compare to Wall Street Estimates' dated 2024-09-05T00:00:00 with sentiment score 0.60628736.\n"
     ]
    }
   ],
   "source": [
    "print(signal.get(\"combined_summary\"))"
   ]
  },
  {
   "attachments": {},
   "cell_type": "markdown",
   "metadata": {},
   "source": [
    "Hybrid Search in Financial Analytics\n",
    "Using Qdrant’s Hybrid Search Capabilities\n",
    "Qdrant supports hybrid search, which combines both sparse and dense vectors for nuanced insights."
   ]
  },
  {
   "cell_type": "markdown",
   "metadata": {},
   "source": [
    "### Hybrid Search by Combining Sparse and Dense Together through Qdrant"
   ]
  },
  {
   "cell_type": "code",
   "execution_count": 16,
   "metadata": {},
   "outputs": [],
   "source": [
    "queries_hpe = [\n",
    "\"What is the impact of the HPE-Juniper Networks $14B merger on HPE's stock price?\",\n",
    "\"How will the European Union's decision affect the HPE-Juniper Networks merger?\",\n",
    "\"How did HPE's Q3 2024 earnings compare to analyst expectations?\",\n",
    "\"What were the key factors influencing HPE's revenue performance in Q3 2024?\",\n",
    "\"How has HPE’s stock responded to recent market trends and global economic conditions?\",\n",
    "\"What are analysts' predictions for HPE stock in the upcoming quarter?\",\n",
    "\"How are HPE's gross margins trending in 2024 compared to previous years?\",\n",
    "\"What challenges is HPE facing that may affect its future revenue?\",\n",
    "\"What are HPE's strategies to address the revenue challenges mentioned in their Q3 earnings report?\",\n",
    "\"How will HPE’s investment in cloud solutions affect its market share?\",\n",
    "\"How might regulatory actions from the EU influence HPE's business decisions?\",\n",
    "\"What is the market sentiment regarding HPE's expansion and strategic decisions?\"\n",
    "]"
   ]
  },
  {
   "cell_type": "code",
   "execution_count": 17,
   "metadata": {},
   "outputs": [
    {
     "name": "stderr",
     "output_type": "stream",
     "text": [
      "Fetching 5 files: 100%|██████████| 5/5 [00:00<00:00, 25954.85it/s]"
     ]
    },
    {
     "name": "stderr",
     "output_type": "stream",
     "text": [
      "\n",
      "Fetching 5 files: 100%|██████████| 5/5 [00:00<00:00, 61320.23it/s]\n",
      "Fetching 5 files: 100%|██████████| 5/5 [00:00<00:00, 81601.25it/s]\n",
      "Fetching 5 files: 100%|██████████| 5/5 [00:00<00:00, 52560.20it/s]\n",
      "Fetching 5 files: 100%|██████████| 5/5 [00:00<00:00, 27306.67it/s]\n",
      "Fetching 5 files: 100%|██████████| 5/5 [00:00<00:00, 84562.58it/s]\n",
      "Fetching 5 files: 100%|██████████| 5/5 [00:00<00:00, 22919.69it/s]\n",
      "Fetching 5 files: 100%|██████████| 5/5 [00:00<00:00, 18157.16it/s]\n",
      "Fetching 5 files: 100%|██████████| 5/5 [00:00<00:00, 26149.03it/s]\n",
      "Fetching 5 files: 100%|██████████| 5/5 [00:00<00:00, 56987.83it/s]\n",
      "Fetching 5 files: 100%|██████████| 5/5 [00:00<00:00, 16194.22it/s]\n",
      "Fetching 5 files: 100%|██████████| 5/5 [00:00<00:00, 27060.03it/s]\n",
      "Fetching 5 files: 100%|██████████| 5/5 [00:00<00:00, 77672.30it/s]\n",
      "Fetching 5 files: 100%|██████████| 5/5 [00:00<00:00, 57772.78it/s]\n",
      "Fetching 5 files: 100%|██████████| 5/5 [00:00<00:00, 11113.68it/s]\n",
      "Fetching 5 files: 100%|██████████| 5/5 [00:00<00:00, 57932.38it/s]\n",
      "Fetching 5 files: 100%|██████████| 5/5 [00:00<00:00, 10793.37it/s]\n",
      "Fetching 5 files: 100%|██████████| 5/5 [00:00<00:00, 11722.48it/s]\n",
      "Fetching 5 files: 100%|██████████| 5/5 [00:00<00:00, 41282.52it/s]\n",
      "Fetching 5 files: 100%|██████████| 5/5 [00:00<00:00, 10381.94it/s]\n",
      "Fetching 5 files: 100%|██████████| 5/5 [00:00<00:00, 58092.85it/s]\n",
      "Fetching 5 files: 100%|██████████| 5/5 [00:00<00:00, 59747.92it/s]\n",
      "Fetching 5 files: 100%|██████████| 5/5 [00:00<00:00, 9141.90it/s]\n",
      "Fetching 5 files: 100%|██████████| 5/5 [00:00<00:00, 39199.10it/s]\n",
      "Fetching 5 files: 100%|██████████| 5/5 [00:00<00:00, 42452.47it/s]\n",
      "Fetching 5 files: 100%|██████████| 5/5 [00:00<00:00, 56073.58it/s]\n",
      "Fetching 5 files: 100%|██████████| 5/5 [00:00<00:00, 10340.99it/s]\n",
      "Fetching 5 files: 100%|██████████| 5/5 [00:00<00:00, 7560.03it/s]\n",
      "Fetching 5 files: 100%|██████████| 5/5 [00:00<00:00, 20223.26it/s]\n",
      "Fetching 5 files: 100%|██████████| 5/5 [00:00<00:00, 63358.07it/s]\n",
      "Fetching 5 files: 100%|██████████| 5/5 [00:00<00:00, 50412.31it/s]\n",
      "Fetching 5 files: 100%|██████████| 5/5 [00:00<00:00, 58908.76it/s]\n",
      "Fetching 5 files: 100%|██████████| 5/5 [00:00<00:00, 23121.85it/s]\n",
      "Fetching 5 files: 100%|██████████| 5/5 [00:00<00:00, 48884.66it/s]\n",
      "Fetching 5 files: 100%|██████████| 5/5 [00:00<00:00, 59747.92it/s]\n",
      "Fetching 5 files: 100%|██████████| 5/5 [00:00<00:00, 71089.90it/s]\n",
      "Fetching 5 files: 100%|██████████| 5/5 [00:00<00:00, 20722.85it/s]\n",
      "Fetching 5 files: 100%|██████████| 5/5 [00:00<00:00, 78840.30it/s]\n",
      "Fetching 5 files: 100%|██████████| 5/5 [00:00<00:00, 72067.08it/s]\n",
      "Fetching 5 files: 100%|██████████| 5/5 [00:00<00:00, 63358.07it/s]\n",
      "Fetching 5 files: 100%|██████████| 5/5 [00:00<00:00, 15352.50it/s]\n",
      "Fetching 5 files: 100%|██████████| 5/5 [00:00<00:00, 80350.65it/s]\n",
      "Fetching 5 files: 100%|██████████| 5/5 [00:00<00:00, 19152.07it/s]\n",
      "Fetching 5 files: 100%|██████████| 5/5 [00:00<00:00, 34435.99it/s]\n",
      "Fetching 5 files: 100%|██████████| 5/5 [00:00<00:00, 22381.56it/s]\n",
      "Fetching 5 files: 100%|██████████| 5/5 [00:00<00:00, 58254.22it/s]\n",
      "Fetching 5 files: 100%|██████████| 5/5 [00:00<00:00, 52958.38it/s]\n",
      "Fetching 5 files: 100%|██████████| 5/5 [00:00<00:00, 18016.77it/s]\n",
      "Fetching 5 files: 100%|██████████| 5/5 [00:00<00:00, 18188.66it/s]\n",
      "Fetching 5 files: 100%|██████████| 5/5 [00:00<00:00, 87018.76it/s]\n",
      "Fetching 5 files: 100%|██████████| 5/5 [00:00<00:00, 47339.77it/s]\n",
      "Fetching 5 files: 100%|██████████| 5/5 [00:00<00:00, 35187.11it/s]\n",
      "Fetching 5 files: 100%|██████████| 5/5 [00:00<00:00, 55333.83it/s]\n",
      "Fetching 5 files: 100%|██████████| 5/5 [00:00<00:00, 26955.68it/s]\n",
      "Fetching 5 files: 100%|██████████| 5/5 [00:00<00:00, 62045.92it/s]\n",
      "Fetching 5 files: 100%|██████████| 5/5 [00:00<00:00, 62788.98it/s]\n",
      "Fetching 5 files: 100%|██████████| 5/5 [00:00<00:00, 71331.70it/s]\n",
      "Fetching 5 files: 100%|██████████| 5/5 [00:00<00:00, 52560.20it/s]\n",
      "Fetching 5 files: 100%|██████████| 5/5 [00:00<00:00, 60436.66it/s]\n",
      "Fetching 5 files: 100%|██████████| 5/5 [00:00<00:00, 39568.91it/s]\n",
      "Fetching 5 files: 100%|██████████| 5/5 [00:00<00:00, 22239.15it/s]\n",
      "Fetching 5 files: 100%|██████████| 5/5 [00:00<00:00, 68089.35it/s]\n",
      "Fetching 5 files: 100%|██████████| 5/5 [00:00<00:00, 17697.49it/s]\n",
      "Fetching 5 files: 100%|██████████| 5/5 [00:00<00:00, 22310.13it/s]\n",
      "Fetching 5 files: 100%|██████████| 5/5 [00:00<00:00, 19747.19it/s]\n",
      "Fetching 5 files: 100%|██████████| 5/5 [00:00<00:00, 91180.52it/s]\n",
      "100%|██████████| 11/11 [00:15<00:00,  1.43s/it]\n"
     ]
    },
    {
     "data": {
      "text/plain": [
       "[0, 1, 2, 3, 4, 5, 6, 7, 8, 9, 10]"
      ]
     },
     "execution_count": 17,
     "metadata": {},
     "output_type": "execute_result"
    }
   ],
   "source": [
    "from tqdm import tqdm\n",
    "\n",
    "client.set_model(\"sentence-transformers/all-MiniLM-L6-v2\")\n",
    "# comment this line to use dense vectors only\n",
    "client.set_sparse_model(\"prithivida/Splade_PP_en_v1\")\n",
    "\n",
    "if not client.collection_exists(\"hybrid_search\"):\n",
    "    client.create_collection(\n",
    "        collection_name=\"hybrid_search\",\n",
    "        vectors_config=client.get_fastembed_vector_params(),\n",
    "        # comment this line to use dense vectors only\n",
    "        sparse_vectors_config=client.get_fastembed_sparse_vector_params(),  \n",
    "    )\n",
    "documents = list(hpe_news[\"text\"].values)\n",
    "metadata = list(hpe_news[[\"title\",\"text\",\"date\"]])\n",
    "\n",
    "client.add(\n",
    "    collection_name=\"hybrid_search\",\n",
    "    documents=documents,\n",
    "    parallel=0,  # Use all available CPU cores to encode data. \n",
    "    ids=tqdm(range(len(documents)))\n",
    "    # Requires wrapping code into if __name__ == '__main__' block\n",
    ")\n"
   ]
  },
  {
   "cell_type": "code",
   "execution_count": 20,
   "metadata": {},
   "outputs": [
    {
     "data": {
      "text/plain": [
       "{'Hybrid Search Retrieval': ['HPE-Juniper Networks $14B Merger: EU To Make Key Decisions By August\\nBy Mark Haranas\\nJuly 8, 2024, 12:08 PM EDT\\nHPE has filed with the European regulatory commissions for approval to purchase Juniper Networks. Here\\x92s the timeline for the blockbuster $14 billion merger.\\n\\n\\n\\nListen to this article\\n4 min\\nHewlett Packard Enterprise has filed with the European Commission for regulatory approval of its blockbuster $14 billion acquisition of Juniper Networks. European regulators now have until August to either approve HPE\\x92s deal or force deeper investigations that could potentially stall the merger.\\n\\nThe European Commission now has a deadline of Aug. 1 to either approve the HPE-Juniper merger or open a full-scale investigation into the deal.\\n\\nAdditionally, the U.K. Competition and Markets Authority (CMA) recently started a preliminary investigation into the potential impacts of the massive tech merger.\\n\\nThe CMA has set a deadline of Aug. 14 to decide whether to approve the deal or progress the investigation to a formal \\x93phase 2\\x94 inquiry that would spawn a deeper investigation.\\n\\n[Related: The 10 Hottest Cloud Computing Startups Of 2024 (So Far)]\\n\\n\\x93The CMA is considering whether it is or may be the case that this transaction, if carried into effect, will result in the creation of a relevant merger situation under the merger provisions of the Enterprise Act 2002,\\x94 said U.K. Competition and Markets Authority in a statement. \\x93And, if so, whether the creation of that situation may be expected to result in a substantial lessening of competition within any market or markets in the United Kingdom for goods or services.\\x94\\n\\nAdvertisement\\n\\n\\nThis all means HPE\\x92s $14 billion deal for Juniper Networks could potentially receive the green light in Europe by mid-August.\\n\\nWhen Will The HPE-Juniper Acquisition Officially Close?\\n\\nThe merger has been approved by both HPE and Juniper board of directors as well as shareholders.\\n\\nImportantly, it is unlikely that the deal will need China\\x92s approval as it falls below the Chinese merger threshold. But the U.S. Federal Trade Commission will still likely scrutinize the merger.\\n\\nRegardless of all the regulatory hurdles, HPE says it expects to acquire Juniper Networks in late 2024 or early 2025.\\n\\n\\x93We can confirm the U.K. Competition and Markets Authority has accepted our filing, as part of the standard process to review the proposed acquisition of Juniper Networks in several jurisdictions,\\x94 said HPE in a statement to CRN. \\x93We are working to complete all necessary reviews and secure clearance quickly and efficiently so that we can begin delivering value to our customers as soon as possible. We continue to expect to close by the end of calendar year 2024 or early 2025.\\x94\\n\\nThis still fits within HPE\\x92s initial timeframe of closing the deal by as late as early 2025, roughly one year after announcing the deal.\\n\\nHPE\\x92s $14 Billion Plan For Juniper\\n\\nIn January, HPE unveiled its plan to buy networking superstar Juniper Networks for $14 billion.\\n\\nThe merger is expected to achieve joint operating efficiencies and cost synergies of $450 million per year.\\n\\nThe combination of the two tech giants could establish a new battleground in the networking space as well as in AI. Juniper Networks CEO Rami Rahim, if the deal is completed, will lead the combined HPE networking business, which includes HPE\\x92s Aruba business. Rahim will report directly to HPE CEO Antonio Neri.\\n\\nIn a recent interview with CRN, Rahim said AI is going \\x93to be as big, if not bigger\\x94 than any technology trend in history.\\n\\n\\x93The kind of moves that are necessary to capture this [AI] opportunity are the big bold moves,\\x94 he said.\\n\\n\\x93This combination with HPE is exactly that. It gives us an ability to accelerate our innovation across the entire networking stack. In fact, not even the networking stack, but the entire IT stack, compute, storage, networking, silicon systems and software, in all of the relevant networking domains for our customers; campus, branch, data center, wide area networks, and to all of the different customer verticals, certainly enterprise, but also cloud and service providers, as well,\\x94 Rahim told CRN. \\x93Together with HPE, we can build truly comprehensive, competitive, end-to-end experience-first networking solutions that are going to make a big difference for our customers and our partners.\\x94',\n",
       "  'HPE-Juniper Networks $14B Merger: EU To Make Key Decisions By August\\nBy Mark Haranas\\nJuly 8, 2024, 12:08 PM EDT\\nHPE has filed with the European regulatory commissions for approval to purchase Juniper Networks. Here\\x92s the timeline for the blockbuster $14 billion merger.\\n\\n\\n\\nListen to this article\\n4 min\\nHewlett Packard Enterprise has filed with the European Commission for regulatory approval of its blockbuster $14 billion acquisition of Juniper Networks. European regulators now have until August to either approve HPE\\x92s deal or force deeper investigations that could potentially stall the merger.\\n\\nThe European Commission now has a deadline of Aug. 1 to either approve the HPE-Juniper merger or open a full-scale investigation into the deal.\\n\\nAdditionally, the U.K. Competition and Markets Authority (CMA) recently started a preliminary investigation into the potential impacts of the massive tech merger.\\n\\nThe CMA has set a deadline of Aug. 14 to decide whether to approve the deal or progress the investigation to a formal \\x93phase 2\\x94 inquiry that would spawn a deeper investigation.\\n\\n[Related: The 10 Hottest Cloud Computing Startups Of 2024 (So Far)]\\n\\n\\x93The CMA is considering whether it is or may be the case that this transaction, if carried into effect, will result in the creation of a relevant merger situation under the merger provisions of the Enterprise Act 2002,\\x94 said U.K. Competition and Markets Authority in a statement. \\x93And, if so, whether the creation of that situation may be expected to result in a substantial lessening of competition within any market or markets in the United Kingdom for goods or services.\\x94\\n\\nAdvertisement\\n\\n\\nThis all means HPE\\x92s $14 billion deal for Juniper Networks could potentially receive the green light in Europe by mid-August.\\n\\nWhen Will The HPE-Juniper Acquisition Officially Close?\\n\\nThe merger has been approved by both HPE and Juniper board of directors as well as shareholders.\\n\\nImportantly, it is unlikely that the deal will need China\\x92s approval as it falls below the Chinese merger threshold. But the U.S. Federal Trade Commission will still likely scrutinize the merger.\\n\\nRegardless of all the regulatory hurdles, HPE says it expects to acquire Juniper Networks in late 2024 or early 2025.\\n\\n\\x93We can confirm the U.K. Competition and Markets Authority has accepted our filing, as part of the standard process to review the proposed acquisition of Juniper Networks in several jurisdictions,\\x94 said HPE in a statement to CRN. \\x93We are working to complete all necessary reviews and secure clearance quickly and efficiently so that we can begin delivering value to our customers as soon as possible. We continue to expect to close by the end of calendar year 2024 or early 2025.\\x94\\n\\nThis still fits within HPE\\x92s initial timeframe of closing the deal by as late as early 2025, roughly one year after announcing the deal.\\n\\nHPE\\x92s $14 Billion Plan For Juniper\\n\\nIn January, HPE unveiled its plan to buy networking superstar Juniper Networks for $14 billion.\\n\\nThe merger is expected to achieve joint operating efficiencies and cost synergies of $450 million per year.\\n\\nThe combination of the two tech giants could establish a new battleground in the networking space as well as in AI. Juniper Networks CEO Rami Rahim, if the deal is completed, will lead the combined HPE networking business, which includes HPE\\x92s Aruba business. Rahim will report directly to HPE CEO Antonio Neri.\\n\\nIn a recent interview with CRN, Rahim said AI is going \\x93to be as big, if not bigger\\x94 than any technology trend in history.\\n\\n\\x93The kind of moves that are necessary to capture this [AI] opportunity are the big bold moves,\\x94 he said.\\n\\n\\x93This combination with HPE is exactly that. It gives us an ability to accelerate our innovation across the entire networking stack. In fact, not even the networking stack, but the entire IT stack, compute, storage, networking, silicon systems and software, in all of the relevant networking domains for our customers; campus, branch, data center, wide area networks, and to all of the different customer verticals, certainly enterprise, but also cloud and service providers, as well,\\x94 Rahim told CRN. \\x93Together with HPE, we can build truly comprehensive, competitive, end-to-end experience-first networking solutions that are going to make a big difference for our customers and our partners.\\x94',\n",
       "  'Hewlett Packard Enterprise (HPE) Q3 Earnings: How Key Metrics Compare to Wall Street Estimates\\n\\nZacks Equity Research\\nThu, Sep 5, 2024, 6:30 AM GMT+82 min read\\n\\nIn this article:\\nHPE\\n-1.52%\\nFor the quarter ended July 2024, Hewlett Packard Enterprise (HPE) reported revenue of $7.71 billion, up 10.1% over the same period last year. EPS came in at $0.50, compared to $0.49 in the year-ago quarter.\\n\\nThe reported revenue compares to the Zacks Consensus Estimate of $7.67 billion, representing a surprise of +0.56%. The company delivered an EPS surprise of +8.70%, with the consensus EPS estimate being $0.46.\\n\\n\\nWhile investors scrutinize revenue and earnings changes year-over-year and how they compare with Wall Street expectations to determine their next move, some key metrics always offer a more accurate picture of a company\\'s financial health.\\n\\nAs these metrics influence top- and bottom-line performance, comparing them to the year-ago numbers and what analysts estimated helps investors project a stock\\'s price performance more accurately.\\n\\nHere is how Hewlett Packard Enterprise performed in the just reported quarter in terms of the metrics most widely monitored and projected by Wall Street analysts:\\n\\nRevenue- Financial Services\\n: $879 million versus $881.93 million estimated by three analysts on average. Compared to the year-ago quarter, this number represents a +0.7% change.\\n\\nRevenue- Corporate Investments and other\\n: $262 million versus $250.48 million estimated by three analysts on average. Compared to the year-ago quarter, this number represents a -17.6% change.\\n\\nRevenue - Hybrid Cloud\\n: $1.30 billion compared to the $1.32 billion average estimate based on three analysts.\\n\\nRevenue- Intelligent Edge\\n: $1.12 billion versus the three-analyst average estimate of $1.13 billion. The reported number represents a year-over-year change of -20.8%.\\n\\nRevenue - Server\\n: $4.28 billion versus $4.20 billion estimated by three analysts on average.\\n\\nElimination of intersegment net revenue and other\\n: -$132 million compared to the -$127.97 million average estimate based on three analysts. The reported number represents a change of -4.4% year over year.\\n\\nEarnings from Operations- Financial Services\\n: $79 million versus $79.19 million estimated by two analysts on average.\\n\\nEarnings from Operations- Corporate Investments and other\\n: -$4 million compared to the -$23.56 million average estimate based on two analysts.\\n\\nEarnings from Operations- Hybrid Cloud\\n: $66 million versus the two-analyst average estimate of $131.70 million.\\n\\nEarnings from Operations- Server\\n: $464 million versus the two-analyst average estimate of $451.99 million.\\n\\nEarnings from Operations- Intelligent Edge\\n: $251 million compared to the $248.67 million average estimate based on two analysts.\\n\\n\\nStory continues\\n\\nView comments\\nTerms/Privacy PolicyPrivacy DashboardAbout Our Ads\\n\\nInvestopedia\\nHP Enterprise Posts Higher-Than-Expected Revenue Driven by AI Demand\\nAndrew Kessel\\nThu, Sep 5, 2024, 6:33 AM GMT+81 min read\\n\\nIn this article:\\nHPE\\n-1.52%\\n<p>AaronP/Bauer-Griffin / Contributor / Getty Images</p>\\nAaronP/Bauer-Griffin / Contributor / Getty Images\\n\\nMore\\n\\n\\nKey Takeaways\\nHewlett Packard Enterprise reported fiscal third-quarter sales that beat analysts\\' expectations, buoyed by a surge in server revenue driven by artificial intelligence demand.\\n\\nDiluted earnings per share missed estimates compiled by Visible Alpha, though adjusted earnings came ahead of projections.\\n\\nThe company raised and narrowed its outlook for full-year earnings.\\n\\n\\n\\n\\n\\nHewlett Packard Enterprise (HPE) posted fiscal third-quarter sales that beat analysts\\' expectations, buoyed by a surge in server revenue driven by demand for artificial intelligence (AI).\\n\\nThe server and storage maker reported third-quarter revenue jumped 10% year-over-year to $7.7 billion, above analysts\\x92 expectations. Server revenue was up 35% from the year-ago quarter to $4.3 billion. Revenue from HP Enterprise\\'s Intelligent Edge and cloud segments fell year-over-year, while revenue in its financial services segment rose 1%.\\n\\nDiluted earnings per share (EPS) of 38 cents missed analysts\\' estimates compiled by Visible Alpha, though adjusted EPS of 50 cents came ahead of projections.\\n\\n\\x93These results reflect our momentum in delivering on our edge-to-cloud strategy across networking, hybrid cloud, and AI,\" HP Enterprise CEO Antonio Neri said in a release.\\n\\nThe company raised its full-year EPS outlook to between $1.68 and $1.73, up from $1.61 to $1.71 previously, and maintained its revenue growth estimate of 1% to 3%.\\n\\nHP Enterprise shares were down about 1.9% at $18.42 in extended trading Wednesday following the company\\'s earnings release.\\n\\nRead the original article on Investopedia.\\n\\n\\nView comments\\nTerms/Privacy PolicyPrivacy DashboardAbout Our Ads\\n\\nBloomberg\\nHPE Reports Disappointing Margins on AI Server Business\\n\\n\\n1 / 2\\nHPE Reports Disappointing Margins on AI Server Business\\nBrody Ford\\nThu, Sep 5, 2024, 6:00 AM GMT+82 min read\\n\\n3\\nIn this article:\\nHPE\\n-1.52%\\n(Bloomberg) -- Hewlett Packard Enterprise Co. reported weaker-than-expected margins, suggesting lower profitability than anticipated in its closely watched business of selling servers for artificial intelligence work.\\n\\nMost Read from Bloomberg\\n\\nHow Air Conditioning Took Over the American Office\\n\\nThe Outsized Cost of Expanding US Roads\\n\\nHong Kong\\x92s Arts Hub Turns to Selling Land to Stay Afloat\\n\\n\\nFiscal third-quarter adjusted gross margins were 31.8%, a decline from the period a year ago, the company said Wednesday in a statement. Analysts, on average, estimated 33.4%. The decline was driven by a \\x93higher mix of AI server revenue,\\x94 Chief Financial Officer Marie Myers said on a call with analysts after the results were released.\\n\\nHardware makers including HPE, Dell Technologies Inc. and Super Micro Computer Inc. have enjoyed a jump in customer demand for high-powered servers to handle AI tasks. HPE reported $1.3 billion in revenue from this business line in the quarter that ended July 31, a 39% increase from the previous period and higher than analysts\\x92 average estimate.\\n\\nInvestors have become increasingly concerned about the lower margins of most AI servers, owing to the expensive semiconductors they contain made by companies such as Nvidia Corp. In an interview, Chief Executive Officer Antonio Neri said that over time HPE will sell more higher-margin products and services along with the AI servers.\\n\\nThe shares declined about 3% in extended trading after closing at $18.77 in New York. The stock has gained 11% this year through the close.\\n\\n\\x93Weak AI-server margin has been a theme for the sector, tripping up Super Micro and Dell over the past couple of quarters,\\x94 Woo Jin Ho, an analyst at Bloomberg Intelligence, wrote in a note. HPE\\x92s soft margins \\x93may overshadow its healthy AI sales momentum,\\x94 he added.\\n\\n\\nThe majority of HPE\\x92s AI server business continues to come from cloud service providers, but there is increasing momentum with enterprises and governments, Neri said.\\n\\nHPE reported that total revenue increased 10% to $7.71 billion in the period, compared with the $7.66 billion average estimate. It\\x92s the biggest year-over-year sales increase in six quarters. Profit, excluding some items, was 50 cents a share. Analysts, on average, projected 47 cents.\\n\\nIn the quarter ending in October, HPE projected sales of $8.1 billion to $8.4 billion. Profit, excluding some items, will be 52 cents a share to 57 cents a share. Analysts, on average, estimated profit of 54 cents on revenue of $8.15 billion.\\n\\nHPE said it received about $2.1 billion from the partial sale of its stake in H3C Technologies Co. The financial impact of that transaction will be reflected in the current quarter\\x92s results, the company said.\\n\\n\\nStory continues\\n\\nView comments\\n(3)\\nTerms/Privacy PolicyPrivacy DashboardAbout Our Ads\\n\\nZacks\\nVICI Properties Inc. (VICI) Rises As Market Takes a Dip: Key Facts\\n\\nZacks Equity Research\\nThu, Sep 5, 2024, 6:15 AM GMT+83 min read\\n\\nIn this article:\\nVICI\\n+0.42%\\nIn the latest trading session, VICI Properties Inc. (VICI) closed at $33.62, marking a +0.42% move from the previous day. This move outpaced the S&P 500\\'s daily loss of 0.16%. Elsewhere, the Dow saw an upswing of 0.09%, while the tech-heavy Nasdaq depreciated by 0.3%.\\n\\nShares of the company witnessed a gain of 6.62% over the previous month, beating the performance of the Finance sector with its gain of 6.28% and the S&P 500\\'s gain of 3.64%.\\n\\n\\nThe upcoming earnings release of VICI Properties Inc. will be of great interest to investors. The company is forecasted to report an EPS of $0.56, showcasing a 3.7% upward movement from the corresponding quarter of the prior year. Meanwhile, the latest consensus estimate predicts the revenue to be $958.68 million, indicating a 6.01% increase compared to the same quarter of the previous year.\\n\\nVICI\\'s full-year Zacks Consensus Estimates are calling for earnings of $2.26 per share and revenue of $3.84 billion. These results would represent year-over-year changes of +5.12% and +6.24%, respectively.\\n\\nAdditionally, investors should keep an eye on any recent revisions to analyst forecasts for VICI Properties Inc. These revisions help to show the ever-changing nature of near-term business trends. As a result, we can interpret positive estimate revisions as a good sign for the company\\'s business outlook.\\n\\nResearch indicates that these estimate revisions are directly correlated with near-term share price momentum. We developed the Zacks Rank to capitalize on this phenomenon. Our system takes these estimate changes into account and delivers a clear, actionable rating model.\\n\\nThe Zacks Rank system ranges from #1 (Strong Buy) to #5 (Strong Sell). It has a remarkable, outside-audited track record of success, with #1 stocks delivering an average annual return of +25% since 1988. Over the past month, the Zacks Consensus EPS estimate has moved 0.02% higher. VICI Properties Inc. presently features a Zacks Rank of #3 (Hold).\\n\\n\\nIn terms of valuation, VICI Properties Inc. is currently trading at a Forward P/E ratio of 14.84. Its industry sports an average Forward P/E of 12.6, so one might conclude that VICI Properties Inc. is trading at a premium comparatively.\\n\\nIt\\'s also important to note that VICI currently trades at a PEG ratio of 5.26. This popular metric is similar to the widely-known P/E ratio, with the difference being that the PEG ratio also takes into account the company\\'s expected earnings growth rate. As the market closed yesterday, the REIT and Equity Trust - Other industry was having an average PEG ratio of 2.36.\\n\\n\\nStory continues\\n\\nView comments\\nTerms/Privacy PolicyPrivacy DashboardAbout Our Ads\\n\\nZacks\\nWhirlpool (WHR) Rises As Market Takes a Dip: Key Facts\\n\\nZacks Equity Research\\nThu, Sep 5, 2024, 6:15 AM GMT+83 min read\\n\\nIn this article:\\nWHR\\n+0.67%\\nIn the latest trading session, Whirlpool (WHR) closed at $98.83, marking a +0.67% move from the previous day. This move outpaced the S&P 500\\'s daily loss of 0.16%. Elsewhere, the Dow saw an upswing of 0.09%, while the tech-heavy Nasdaq depreciated by 0.3%.\\n\\nShares of the maker of Maytag, KitchenAid and other appliances witnessed a gain of 6.29% over the previous month, beating the performance of the Consumer Discretionary sector with its gain of 5.25% and the S&P 500\\'s gain of 3.64%.\\n\\n\\nThe upcoming earnings release of Whirlpool will be of great interest to investors. The company is forecasted to report an EPS of $3.04, showcasing a 44.22% downward movement from the corresponding quarter of the prior year. Meanwhile, the latest consensus estimate predicts the revenue to be $4.07 billion, indicating a 17.29% decrease compared to the same quarter of the previous year.\\n\\nWHR\\'s full-year Zacks Consensus Estimates are calling for earnings of $11.31 per share and revenue of $16.78 billion. These results would represent year-over-year changes of -30.01% and -13.73%, respectively.\\n\\nAdditionally, investors should keep an eye on any recent revisions to analyst forecasts for Whirlpool. These revisions help to show the ever-changing nature of near-term business trends. As a result, we can interpret positive estimate revisions as a good sign for the company\\'s business outlook.\\n\\nResearch indicates that these estimate revisions are directly correlated with near-term share price momentum. We developed the Zacks Rank to capitalize on this phenomenon. Our system takes these estimate changes into account and delivers a clear, actionable rating model.\\n\\nThe Zacks Rank system ranges from #1 (Strong Buy) to #5 (Strong Sell). It has a remarkable, outside-audited track record of success, with #1 stocks delivering an average annual return of +25% since 1988. Over the past month, the Zacks Consensus EPS estimate remained stagnant. Whirlpool presently features a Zacks Rank of #4 (Sell).\\n\\nIn terms of valuation, Whirlpool is currently trading at a Forward P/E ratio of 8.68. Its industry sports an average Forward P/E of 13.32, so one might conclude that Whirlpool is trading at a discount comparatively.\\n\\nThe Household Appliances industry is part of the Consumer Discretionary sector. Currently, this industry holds a Zacks Industry Rank of 194, positioning it in the bottom 24% of all 250+ industries.\\n\\nThe Zacks Industry Rank is ordered from best to worst in terms of the average Zacks Rank of the individual companies within each of these sectors. Our research shows that the top 50% rated industries outperform the bottom half by a factor of 2 to 1.',\n",
       "  'Hewlett Packard Enterprise (HPE) Q3 Earnings: How Key Metrics Compare to Wall Street Estimates\\n\\nZacks Equity Research\\nThu, Sep 5, 2024, 6:30 AM GMT+82 min read\\n\\nIn this article:\\nHPE\\n-1.52%\\nFor the quarter ended July 2024, Hewlett Packard Enterprise (HPE) reported revenue of $7.71 billion, up 10.1% over the same period last year. EPS came in at $0.50, compared to $0.49 in the year-ago quarter.\\n\\nThe reported revenue compares to the Zacks Consensus Estimate of $7.67 billion, representing a surprise of +0.56%. The company delivered an EPS surprise of +8.70%, with the consensus EPS estimate being $0.46.\\n\\n\\nWhile investors scrutinize revenue and earnings changes year-over-year and how they compare with Wall Street expectations to determine their next move, some key metrics always offer a more accurate picture of a company\\'s financial health.\\n\\nAs these metrics influence top- and bottom-line performance, comparing them to the year-ago numbers and what analysts estimated helps investors project a stock\\'s price performance more accurately.\\n\\nHere is how Hewlett Packard Enterprise performed in the just reported quarter in terms of the metrics most widely monitored and projected by Wall Street analysts:\\n\\nRevenue- Financial Services\\n: $879 million versus $881.93 million estimated by three analysts on average. Compared to the year-ago quarter, this number represents a +0.7% change.\\n\\nRevenue- Corporate Investments and other\\n: $262 million versus $250.48 million estimated by three analysts on average. Compared to the year-ago quarter, this number represents a -17.6% change.\\n\\nRevenue - Hybrid Cloud\\n: $1.30 billion compared to the $1.32 billion average estimate based on three analysts.\\n\\nRevenue- Intelligent Edge\\n: $1.12 billion versus the three-analyst average estimate of $1.13 billion. The reported number represents a year-over-year change of -20.8%.\\n\\nRevenue - Server\\n: $4.28 billion versus $4.20 billion estimated by three analysts on average.\\n\\nElimination of intersegment net revenue and other\\n: -$132 million compared to the -$127.97 million average estimate based on three analysts. The reported number represents a change of -4.4% year over year.\\n\\nEarnings from Operations- Financial Services\\n: $79 million versus $79.19 million estimated by two analysts on average.\\n\\nEarnings from Operations- Corporate Investments and other\\n: -$4 million compared to the -$23.56 million average estimate based on two analysts.\\n\\nEarnings from Operations- Hybrid Cloud\\n: $66 million versus the two-analyst average estimate of $131.70 million.\\n\\nEarnings from Operations- Server\\n: $464 million versus the two-analyst average estimate of $451.99 million.\\n\\nEarnings from Operations- Intelligent Edge\\n: $251 million compared to the $248.67 million average estimate based on two analysts.\\n\\n\\nStory continues\\n\\nView comments\\nTerms/Privacy PolicyPrivacy DashboardAbout Our Ads\\n\\nInvestopedia\\nHP Enterprise Posts Higher-Than-Expected Revenue Driven by AI Demand\\nAndrew Kessel\\nThu, Sep 5, 2024, 6:33 AM GMT+81 min read\\n\\nIn this article:\\nHPE\\n-1.52%\\n<p>AaronP/Bauer-Griffin / Contributor / Getty Images</p>\\nAaronP/Bauer-Griffin / Contributor / Getty Images\\n\\nMore\\n\\n\\nKey Takeaways\\nHewlett Packard Enterprise reported fiscal third-quarter sales that beat analysts\\' expectations, buoyed by a surge in server revenue driven by artificial intelligence demand.\\n\\nDiluted earnings per share missed estimates compiled by Visible Alpha, though adjusted earnings came ahead of projections.\\n\\nThe company raised and narrowed its outlook for full-year earnings.\\n\\n\\n\\n\\n\\nHewlett Packard Enterprise (HPE) posted fiscal third-quarter sales that beat analysts\\' expectations, buoyed by a surge in server revenue driven by demand for artificial intelligence (AI).\\n\\nThe server and storage maker reported third-quarter revenue jumped 10% year-over-year to $7.7 billion, above analysts\\x92 expectations. Server revenue was up 35% from the year-ago quarter to $4.3 billion. Revenue from HP Enterprise\\'s Intelligent Edge and cloud segments fell year-over-year, while revenue in its financial services segment rose 1%.\\n\\nDiluted earnings per share (EPS) of 38 cents missed analysts\\' estimates compiled by Visible Alpha, though adjusted EPS of 50 cents came ahead of projections.\\n\\n\\x93These results reflect our momentum in delivering on our edge-to-cloud strategy across networking, hybrid cloud, and AI,\" HP Enterprise CEO Antonio Neri said in a release.\\n\\nThe company raised its full-year EPS outlook to between $1.68 and $1.73, up from $1.61 to $1.71 previously, and maintained its revenue growth estimate of 1% to 3%.\\n\\nHP Enterprise shares were down about 1.9% at $18.42 in extended trading Wednesday following the company\\'s earnings release.\\n\\nRead the original article on Investopedia.\\n\\n\\nView comments\\nTerms/Privacy PolicyPrivacy DashboardAbout Our Ads\\n\\nBloomberg\\nHPE Reports Disappointing Margins on AI Server Business\\n\\n\\n1 / 2\\nHPE Reports Disappointing Margins on AI Server Business\\nBrody Ford\\nThu, Sep 5, 2024, 6:00 AM GMT+82 min read\\n\\n3\\nIn this article:\\nHPE\\n-1.52%\\n(Bloomberg) -- Hewlett Packard Enterprise Co. reported weaker-than-expected margins, suggesting lower profitability than anticipated in its closely watched business of selling servers for artificial intelligence work.\\n\\nMost Read from Bloomberg\\n\\nHow Air Conditioning Took Over the American Office\\n\\nThe Outsized Cost of Expanding US Roads\\n\\nHong Kong\\x92s Arts Hub Turns to Selling Land to Stay Afloat\\n\\n\\nFiscal third-quarter adjusted gross margins were 31.8%, a decline from the period a year ago, the company said Wednesday in a statement. Analysts, on average, estimated 33.4%. The decline was driven by a \\x93higher mix of AI server revenue,\\x94 Chief Financial Officer Marie Myers said on a call with analysts after the results were released.\\n\\nHardware makers including HPE, Dell Technologies Inc. and Super Micro Computer Inc. have enjoyed a jump in customer demand for high-powered servers to handle AI tasks. HPE reported $1.3 billion in revenue from this business line in the quarter that ended July 31, a 39% increase from the previous period and higher than analysts\\x92 average estimate.\\n\\nInvestors have become increasingly concerned about the lower margins of most AI servers, owing to the expensive semiconductors they contain made by companies such as Nvidia Corp. In an interview, Chief Executive Officer Antonio Neri said that over time HPE will sell more higher-margin products and services along with the AI servers.\\n\\nThe shares declined about 3% in extended trading after closing at $18.77 in New York. The stock has gained 11% this year through the close.\\n\\n\\x93Weak AI-server margin has been a theme for the sector, tripping up Super Micro and Dell over the past couple of quarters,\\x94 Woo Jin Ho, an analyst at Bloomberg Intelligence, wrote in a note. HPE\\x92s soft margins \\x93may overshadow its healthy AI sales momentum,\\x94 he added.\\n\\n\\nThe majority of HPE\\x92s AI server business continues to come from cloud service providers, but there is increasing momentum with enterprises and governments, Neri said.\\n\\nHPE reported that total revenue increased 10% to $7.71 billion in the period, compared with the $7.66 billion average estimate. It\\x92s the biggest year-over-year sales increase in six quarters. Profit, excluding some items, was 50 cents a share. Analysts, on average, projected 47 cents.\\n\\nIn the quarter ending in October, HPE projected sales of $8.1 billion to $8.4 billion. Profit, excluding some items, will be 52 cents a share to 57 cents a share. Analysts, on average, estimated profit of 54 cents on revenue of $8.15 billion.\\n\\nHPE said it received about $2.1 billion from the partial sale of its stake in H3C Technologies Co. The financial impact of that transaction will be reflected in the current quarter\\x92s results, the company said.\\n\\n\\nStory continues\\n\\nView comments\\n(3)\\nTerms/Privacy PolicyPrivacy DashboardAbout Our Ads\\n\\nZacks\\nVICI Properties Inc. (VICI) Rises As Market Takes a Dip: Key Facts\\n\\nZacks Equity Research\\nThu, Sep 5, 2024, 6:15 AM GMT+83 min read\\n\\nIn this article:\\nVICI\\n+0.42%\\nIn the latest trading session, VICI Properties Inc. (VICI) closed at $33.62, marking a +0.42% move from the previous day. This move outpaced the S&P 500\\'s daily loss of 0.16%. Elsewhere, the Dow saw an upswing of 0.09%, while the tech-heavy Nasdaq depreciated by 0.3%.\\n\\nShares of the company witnessed a gain of 6.62% over the previous month, beating the performance of the Finance sector with its gain of 6.28% and the S&P 500\\'s gain of 3.64%.\\n\\n\\nThe upcoming earnings release of VICI Properties Inc. will be of great interest to investors. The company is forecasted to report an EPS of $0.56, showcasing a 3.7% upward movement from the corresponding quarter of the prior year. Meanwhile, the latest consensus estimate predicts the revenue to be $958.68 million, indicating a 6.01% increase compared to the same quarter of the previous year.\\n\\nVICI\\'s full-year Zacks Consensus Estimates are calling for earnings of $2.26 per share and revenue of $3.84 billion. These results would represent year-over-year changes of +5.12% and +6.24%, respectively.\\n\\nAdditionally, investors should keep an eye on any recent revisions to analyst forecasts for VICI Properties Inc. These revisions help to show the ever-changing nature of near-term business trends. As a result, we can interpret positive estimate revisions as a good sign for the company\\'s business outlook.\\n\\nResearch indicates that these estimate revisions are directly correlated with near-term share price momentum. We developed the Zacks Rank to capitalize on this phenomenon. Our system takes these estimate changes into account and delivers a clear, actionable rating model.\\n\\nThe Zacks Rank system ranges from #1 (Strong Buy) to #5 (Strong Sell). It has a remarkable, outside-audited track record of success, with #1 stocks delivering an average annual return of +25% since 1988. Over the past month, the Zacks Consensus EPS estimate has moved 0.02% higher. VICI Properties Inc. presently features a Zacks Rank of #3 (Hold).\\n\\n\\nIn terms of valuation, VICI Properties Inc. is currently trading at a Forward P/E ratio of 14.84. Its industry sports an average Forward P/E of 12.6, so one might conclude that VICI Properties Inc. is trading at a premium comparatively.\\n\\nIt\\'s also important to note that VICI currently trades at a PEG ratio of 5.26. This popular metric is similar to the widely-known P/E ratio, with the difference being that the PEG ratio also takes into account the company\\'s expected earnings growth rate. As the market closed yesterday, the REIT and Equity Trust - Other industry was having an average PEG ratio of 2.36.\\n\\n\\nStory continues\\n\\nView comments\\nTerms/Privacy PolicyPrivacy DashboardAbout Our Ads\\n\\nZacks\\nWhirlpool (WHR) Rises As Market Takes a Dip: Key Facts\\n\\nZacks Equity Research\\nThu, Sep 5, 2024, 6:15 AM GMT+83 min read\\n\\nIn this article:\\nWHR\\n+0.67%\\nIn the latest trading session, Whirlpool (WHR) closed at $98.83, marking a +0.67% move from the previous day. This move outpaced the S&P 500\\'s daily loss of 0.16%. Elsewhere, the Dow saw an upswing of 0.09%, while the tech-heavy Nasdaq depreciated by 0.3%.\\n\\nShares of the maker of Maytag, KitchenAid and other appliances witnessed a gain of 6.29% over the previous month, beating the performance of the Consumer Discretionary sector with its gain of 5.25% and the S&P 500\\'s gain of 3.64%.\\n\\n\\nThe upcoming earnings release of Whirlpool will be of great interest to investors. The company is forecasted to report an EPS of $3.04, showcasing a 44.22% downward movement from the corresponding quarter of the prior year. Meanwhile, the latest consensus estimate predicts the revenue to be $4.07 billion, indicating a 17.29% decrease compared to the same quarter of the previous year.\\n\\nWHR\\'s full-year Zacks Consensus Estimates are calling for earnings of $11.31 per share and revenue of $16.78 billion. These results would represent year-over-year changes of -30.01% and -13.73%, respectively.\\n\\nAdditionally, investors should keep an eye on any recent revisions to analyst forecasts for Whirlpool. These revisions help to show the ever-changing nature of near-term business trends. As a result, we can interpret positive estimate revisions as a good sign for the company\\'s business outlook.\\n\\nResearch indicates that these estimate revisions are directly correlated with near-term share price momentum. We developed the Zacks Rank to capitalize on this phenomenon. Our system takes these estimate changes into account and delivers a clear, actionable rating model.\\n\\nThe Zacks Rank system ranges from #1 (Strong Buy) to #5 (Strong Sell). It has a remarkable, outside-audited track record of success, with #1 stocks delivering an average annual return of +25% since 1988. Over the past month, the Zacks Consensus EPS estimate remained stagnant. Whirlpool presently features a Zacks Rank of #4 (Sell).\\n\\nIn terms of valuation, Whirlpool is currently trading at a Forward P/E ratio of 8.68. Its industry sports an average Forward P/E of 13.32, so one might conclude that Whirlpool is trading at a discount comparatively.\\n\\nThe Household Appliances industry is part of the Consumer Discretionary sector. Currently, this industry holds a Zacks Industry Rank of 194, positioning it in the bottom 24% of all 250+ industries.\\n\\nThe Zacks Industry Rank is ordered from best to worst in terms of the average Zacks Rank of the individual companies within each of these sectors. Our research shows that the top 50% rated industries outperform the bottom half by a factor of 2 to 1.',\n",
       "  \"HPE Aruba Expands Clientele: Should You Buy, Hold or Sell the Stock?\\n\\nHewlett Packard Enterprise Company Price and Consensus\\n1 / 2\\nShould You Buy Hewlett Packard Enterprise Stock Ahead of Q3 Earnings?\\nZacks Equity Research\\nWed, Aug 28, 20244 min read\\n\\nIn this article:\\nHPE\\n-1.52%\\nJNPR\\n+0.03%\\nHewlett Packard Enterprise HPE shares have returned 12.8% year to date, underperforming the Zacks Computer - Integrated Systems industry\\x92s growth of 16.2%. Macroeconomic uncertainties and geopolitical issues have kept the broader stock market highly volatile this year so far, and HPE stock has not been spared.\\n\\nDespite these short-term challenges, Hewlett Packard Enterprise's long-term prospect seems bright as the company continues to gain customers for its products and solutions. For instance, HPE\\x92s Aruba Networking recently upgraded advanced secure connectivity at Nobu Hotels\\x92 select locations.\\n\\n\\nHewlett Packard Enterprise equipped Nobu Hotels with its network infrastructure that is built on HPE Aruba and uses Zero Trust measures. It has installed artificial intelligence (AI)-based wired, wireless and SD-WAN solutions for Nobu Hotels to enhance guest experience and ensure constant connectivity and security.\\n\\nThe Aruba deployment will involve the setup of HPE Aruba Networking Central, HPE Aruba Networking ClearPass and HPE Aruba Networking User Experience Insight. These solutions will enhance the connectivity of mobile, IoT devices and AI-based applications. Accommodations, including door automation, security cameras, digital voice assistants, lighting, window blinds and in-room orders, will be installed. The solution will also be used to simplify the work of hospitality staff so they can focus better on customer service.\\n\\nHewlett Packard Enterprise Company Price and Consensus\\nHewlett Packard Enterprise Company price-consensus-chart | Hewlett Packard Enterprise Company Quote\\n\\nAruba\\x92s Robust Capabilities Aid HPE\\nThe rising adoption of Aruba Networking by organizations worldwide can be credited to the ongoing enhancements that HPE is continuously making to improve the solution's capabilities.  So far this year, HPE added two new features to Aruba Networking.\\n\\n\\nHewlett Packard Enterprise added GenAI LLM models in HPE Aruba Networking Central\\x92s search feature to improve its accuracy. The company also launched HPE Aruba Networking Enterprise Private 5G, making HPE the world\\x92s first company to provide Wi-Fi and private 5G solutions together.\\n\\nAdditionally, the pending acquisition of Juniper Networks JNPR is poised to strengthen HPE's networking portfolio, enabling the company to offer comprehensive solutions that integrate networking, security and cloud services.\\n\\nThese enhancements in Aruba Networking\\x92s capabilities will help Hewlett Packard Enterprise in acquiring new clients. So far this year, the Aruba Networking solution has gained several clients for HPE, including Berger Paints, Nice Brazil, the city of Carmel, Royal Jaarbeurs, Houston Airports, Bethesda Health Group, University of Maryland and Dedini S/A Indústrias de Base.\\n\\n\",\n",
       "  'Hewlett Packard Enterprise Reports Fiscal 2024 Third Quarter Results\\nTwitter\\nFacebook\\nLinkedIn\\nGooglePlus\\nPinterest\\nSep 04 2024 21:05 BST\\nAccelerating AI demand drives HPE revenue growth; profit increases\\n\\nHOUSTON--(BUSINESS WIRE)--Sep. 4, 2024-- Hewlett Packard Enterprise (NYSE: HPE) today announced financial results for the third quarter ended July 31, 2024.\\n\\nThis press release features multimedia. View the full release here: https://www.businesswire.com/news/home/20240904070877/en/\\n\\n\\x93We delivered a strong third quarter, with impressive revenue growth, especially from our AI system conversion, and we improved profitability,\\x94 said Antonio Neri, president and CEO of Hewlett Packard Enterprise. \\x93These results reflect our momentum in delivering on our edge-to-cloud strategy across networking, hybrid cloud, and AI. We have driven meaningful innovation throughout our portfolio, which increases our relevancy with customers and positions us to continue to deliver profitable growth for shareholders.\\x94\\n\\n\\x93In the third quarter, we executed well in a competitive macro environment to deliver strong revenue and EPS above the high end of our guidance,\\x94 said Marie Myers, executive vice president and CFO of Hewlett Packard Enterprise. \\x93We are well positioned to capture share of the growing AI infrastructure market and expect to see the continuing benefit of our cost management efforts. We are confident in finishing the year strong and are raising EPS guidance as a result.\\x94\\n\\nThird Quarter Fiscal 2024 Financial Results\\n\\nRevenue: $7.7 billion, up 10% from the prior-year period in actual dollars and in constant currency(1)\\nAnnualized revenue run-rate (\\x93ARR\\x94) (2): $1.7 billion, up 35% from the prior-year period in actual dollars and 39% in constant currency(1)\\nGross margins:\\nGAAP of 31.6%, down 420 basis points from the prior-year period and down 140 basis points sequentially\\nNon-GAAP(1) of 31.8%, down 410 basis points from the prior-year period and down 130 basis points sequentially\\nDiluted net earnings per share (\\x93EPS\\x94):\\nGAAP of $0.38, up 9% from the prior-year period and up 58% sequentially, above our guidance range of $0.29 to $0.34\\nNon-GAAP(1) of $0.50, up 2% from the prior-year period and up 19% sequentially, above our guidance range of $0.43 to $0.48\\nCash flow from operations: $1,154 million, a decrease of $371 million from the prior-year period\\nFree cash flow (\\x93FCF\\x94) (1)(3): $669 million, a decrease of $286 million from the prior-year period\\nCapital returns to shareholders:$221 million in the form of dividends and share repurchases\\nThird Quarter Fiscal 2024 Segment Results\\n\\nServer revenue was $4.3 billion, up 35% from the prior-year period in actual dollars and in constant currency(1), with 10.8% operating profit margin, compared to 10.1% from the prior-year period.\\nIntelligent Edge revenue was $1.1 billion, down 23% from the prior-year period in actual dollars and in constant currency(1), with 22.4% operating profit margin, compared to 27.6% in the prior-year period.\\nHybrid Cloud revenue was $1.3 billion, down 7% from the prior-year period in actual dollars and in constant currency(1), with 5.1% operating profit margin, compared to 5.4% from the prior-year period.\\nFinancial Services revenue was $879 million, up 1% from the prior-year period in actual dollars and in constant currency(1), with 9.0% operating profit margin, compared to 8.2% from the prior-year period. Net portfolio assets of $13.2 billion, down 2.7% from the prior-year period in actual dollars and down 0.6% in constant currency(1). The business delivered return on equity of 17.4%, up 1.7 points from the prior-year period.\\nDividend\\n\\nThe HPE Board of Directors declared a regular cash dividend of $0.13 per share on the company\\x92s common stock, payable on October 18, 2024, to stockholders of record as of the close of business on September 19, 2024.\\n\\nFiscal 2024 Fourth Quarter Outlook\\n\\nHPE estimates revenue to be in the range of $8.1 billion to $8.4 billion. HPE estimates GAAP diluted net EPS to be in the range of $0.76 to $0.81 and non-GAAP diluted net EPS(1) to be in the range of $0.52 to $0.57. Fiscal 2024 fourth quarter non-GAAP diluted net EPS excludes net after-tax gain of approximately $0.24 per diluted share primarily related to H3C income, and adjustments related to the sale of H3C, offset by acquisition, disposition and other related charges, stock-based compensation expense, amortization of intangible assets, and transformation costs.\\n\\nFiscal 2024 Outlook\\n\\nHPE estimates fiscal 2024 revenue growth of 1% to 3%, in constant currency(1)(5), and fiscal 2024 GAAP operating profit growth to be in the range of 2% to 6% and non-GAAP operating profit(1)(4) growth to be flat to 2%. HPE estimates GAAP diluted net EPS to be in the range of $1.68 and $1.73 and non-GAAP diluted net EPS(1) to be in the range of $1.92 and $1.97. Fiscal 2024 non-GAAP diluted net EPS estimates exclude net after-tax adjustments of approximately $0.24 per diluted share, primarily related to stock-based compensation expense, acquisition, disposition and other related charges, amortization of intangible assets, and transformation costs, offset by H3C income, and adjustments related to the sale of H3C. HPE estimates free cash flow(1)(3)(5) of $1.9 billion.\\n\\nH3C Technologies Co., Limited Update\\n\\nHPE also notes that on September 4, 2024, the company received proceeds of approximately $2.1 billion from the partial sale of its equity position in H3C Technologies Co., Limited (representing 30% of all H3C shares) from Unisplendour International Technology Limited. The financial impact of this transaction will be reflected in HPE\\x92s Q4 FY24 and full year FY24 earnings announcement later this year.\\n\\n1 A description of HPE\\x92s use of non-GAAP financial information is provided below under \\x93Use of non-GAAP financial information and key performance metrics.\\x94\\n\\n2 Annualized Revenue Run-Rate (\\x93ARR\\x94) is a financial metric used to assess the growth of the Consumption Services offerings. ARR represents the annualized revenue of all net HPE GreenLake edge-to-cloud platform services revenue, related financial services revenue (which includes rental income from operating leases and interest income from finance leases), and software-as-a-Service, software consumption revenue, and other as-a-Service offerings, recognized during a quarter and multiplied by four. We use ARR as a performance metric. ARR should be viewed independently of net revenue and is not intended to be combined with it.\\n\\n3 Free cash flow represents cash flow from operations, less net capital expenditures (investments in property, plant & equipment (\\x93PP&E\\x94) and software assets less proceeds from the sale of PP&E), and adjusted for the effect of exchange rate fluctuations on cash, cash equivalents, and restricted cash.?\\n\\n4 FY24 non-GAAP operating profit excludes costs of approximately $1.0 billion primarily related to stock-based compensation expense, acquisition, disposition and other related charges, amortization of intangible assets, and transformation costs, offset by H3C income, and adjustments related to the sale of H3C.\\n\\n5 Hewlett Packard Enterprise provides certain guidance on a non-GAAP basis. In reliance on the exception provided by Item 10(e)(1)(i)(B) of Regulation S-K, Hewlett Packard Enterprise is unable to provide a reconciliation to the most directly comparable GAAP financial measure without unreasonable efforts, as the Company cannot predict some elements that are included in such directly comparable GAAP financial measure. These elements could have a material impact on the Company\\x92s reported GAAP results for the guidance period. Refer to the discussion of non-GAAP financial measures below for more information.\\n\\nAbout Hewlett Packard Enterprise\\n\\nHewlett Packard Enterprise (NYSE: HPE) is the global edge-to-cloud company that helps organizations accelerate outcomes by unlocking value from all of their data, everywhere. Built on decades of reimagining the future and innovating to advance the way people live and work, HPE delivers unique, open and intelligent technology solutions as a service. With offerings spanning Cloud Services, Server, Intelligent Edge, Software, and Hybrid Cloud, HPE provides a consistent experience across all clouds and edges, helping customers develop new business models, engage in new ways, and increase operational performance. For more information, visit: www.hpe.com.\\n\\nUse of non-GAAP financial information and key performance metrics\\n\\nTo supplement Hewlett Packard Enterprise\\x92s condensed consolidated financial statement information presented on a generally accepted accounting principles (\\x93GAAP\\x94) basis, Hewlett Packard Enterprise provides financial measures, including revenue on a constant currency basis (including at the business segment level), non-GAAP gross profit, non-GAAP gross profit margin, non-GAAP operating profit (non-GAAP earnings from operations), non-GAAP operating profit margin (non-GAAP earnings from operations as a percentage of net revenue), non-GAAP income tax rate, non-GAAP net earnings, non-GAAP diluted net earnings per share and free cash flow (\\x93FCF\\x94). Hewlett Packard Enterprise also provides forecasts of revenue growth on a constant currency basis, non-GAAP diluted net earnings per share, non-GAAP operating profit growth, and FCF. Reconciliations of each of these non-GAAP financial measures to their most directly comparable GAAP measures for this quarter and prior periods are included in the tables below or elsewhere in the materials accompanying this news release. In addition an explanation of the ways in which Hewlett Packard Enterprise\\x92s management uses these non-GAAP measures to evaluate its business, the substance behind Hewlett Packard Enterprise\\x92s decision to use these non-GAAP measures, the material limitations associated with the use of these non-GAAP measures, the manner in which Hewlett Packard Enterprise\\x92s management compensates for those limitations, and the substantive reasons why Hewlett Packard Enterprise\\x92s management believes that these non-GAAP measures provide supplemental useful information to investors is included further below. This additional non-GAAP financial information is not meant to be considered in isolation or as a substitute for revenue, gross profit, gross profit margin, operating profit (earnings from operations), operating profit margin (earnings from operations as a percentage of net revenue), net earnings, diluted net earnings per share, and cash flow from operations prepared in accordance with GAAP.\\n\\nIn addition to the supplemental non-GAAP financial information, Hewlett Packard Enterprise also presents annualized revenue run-rate (\\x93ARR\\x94) as performance metric. ARR is a financial metric used to assess the growth of the Consumption Services offerings. ARR represents the annualized revenue of all net HPE GreenLake edge-to-cloud platform services revenue, related financial services revenue (which includes rental income for operating leases and interest income from finance leases), and software-as-a-service (\\x93SaaS\\x94), software consumption revenue, and other as-a-service offerings, recognized during a quarter and multiplied by four. ARR should be viewed independently of net revenue and deferred revenue and are not intended to be combined with any of these items.\\n\\nForward-looking statements\\n\\nThis press release contains forward-looking statements within the meaning of the safe harbor provisions of the Private Securities Litigation Reform Act of 1995. Such statements involve risks, uncertainties, and assumptions. If the risks or uncertainties ever materialize or the assumptions prove incorrect, the results of Hewlett Packard Enterprise Company and its consolidated subsidiaries (\"Hewlett Packard Enterprise\") may differ materially from those expressed or implied by such forward-looking statements and assumptions. The words \"believe\", \"expect\", \"anticipate\", \"optimistic\", \"intend\", \"guide\", \"will\", \"estimate\", \"may\", \"could\", \\x93aim\\x94, \"should\", and similar expressions are intended to identify such forward-looking statements. All statements other than statements of historical fact are statements that could be deemed forward-looking statements, including but not limited to any anticipated financial or operational benefits associated with the segment realignment that became effective as of the beginning of the first quarter of fiscal 2024; any projections, estimations, or expectations of addressable markets and their sizes, revenue (including annualized revenue run rate), margins, expenses (including stock-based compensation expenses), investments, effective tax rates, interest rates, investments, net earnings, net earnings per share, cash flows, liquidity and capital resources, inventory, order backlog, share repurchases, dividends, currency exchange rates, repayments of debts, amortization of intangible assets, or other financial items; any projections or estimations of future orders, including as-a-service orders; any statements of the plans, strategies, and objectives of management for future operations, as well as the execution and consummation of corporate transactions or contemplated acquisitions (including but not limited to our proposed acquisition of Juniper Networks, Inc.) and dispositions (including but not limited to the disposition of our H3C shares and the receipt of proceeds therefrom), research and development expenditures, and any resulting benefit, cost savings, charges, or revenue or profitability improvements; any statements concerning the expected development, performance, market share, or competitive performance relating to products or services; any statements concerning technological and market trends, the pace of technological innovation, and adoption of new technologies, including artificial intelligence-related and other products and services offered by Hewlett Packard Enterprise; any statements regarding current or future macroeconomic trends or events and the impact of those trends and events on Hewlett Packard Enterprise and our financial performance, including but not limited to supply chain, demand for our products and services, and access to liquidity, and our actions to mitigate such impacts on our business; any statements concerning the relationship between China and the U.S., and our actions in response thereto; any statements of expectation or belief, including those relating to future guidance and the financial performance of Hewlett Packard Enterprise; and any statements of assumptions underlying any of the foregoing.\\n\\nRisks, uncertainties and assumptions include the need to address the many challenges facing Hewlett Packard Enterprise\\'s businesses; the competitive pressures faced by Hewlett Packard Enterprise\\'s businesses; risks associated with executing Hewlett Packard Enterprise\\'s strategy; the impact of macroeconomic and geopolitical trends and events, including but not limited to supply chain constraints, the use and development of artificial intelligence, the inflationary environment, the ongoing conflicts between Russia and Ukraine and in the Middle East, and the relationship between China and the U.S.; the need to effectively manage third-party suppliers and distribute Hewlett Packard Enterprise\\'s products and services; the protection of Hewlett Packard Enterprise\\'s intellectual property assets, including intellectual property licensed from third parties and intellectual property shared with its former parent; risks associated with Hewlett Packard Enterprise\\'s international operations (including public health crises, such as pandemics or epidemics, and geopolitical events, such as, but not limited to, those mentioned above); the development of and transition to new products and services and the enhancement of existing products and services to meet customer needs and respond to emerging technological trends; the execution of Hewlett Packard Enterprise\\x92s transformation and mix shift of its portfolio of offerings; the execution and performance of contracts by Hewlett Packard Enterprise and its suppliers, customers, clients, and partners, including any impact thereon resulting from macroeconomic or geopolitical events, such as, but not limited to, those mentioned above; the prospect of a shutdown of the U.S. federal government; the hiring and retention of key employees; the execution, integration, consummation, and other risks associated with business combination, disposition, and investment transactions, including but not limited to the risks associated with the disposition of H3C shares and the receipt of proceeds therefrom and completion of our proposed acquisition of Juniper Networks, Inc. and our ability to integrate and implement our plans, forecasts, and other expectations with respect to the consolidated business; the impact of changes to privacy, cybersecurity, environmental, global trade, and other governmental regulations; changes in our product, lease, intellectual property, or real estate portfolio; the payment or non-payment of a dividend for any period; the efficacy of using non-GAAP, rather than GAAP, financial measures in business projections and planning; the judgments required in connection with determining revenue recognition; impact of company policies and related compliance; utility of segment realignments; allowances for recovery of receivables and warranty obligations; provisions for, and resolution of, pending investigations, claims, and disputes; the impacts of tax law changes and related guidance or regulations; and other risks that are described herein, including but not limited to the risks described in Hewlett Packard Enterprise\\x92s Annual Report on Form 10-K for the fiscal year ended October 31, 2023, Quarterly Reports on Form 10-Q, Current Reports on Form 8-K, and in other filings made by Hewlett Packard Enterprise from time to time with the Securities and Exchange Commission.\\n\\nAs in prior periods, the financial information set forth in this press release, including tax-related items, reflects estimates based on information available at this time. While Hewlett Packard Enterprise believes these estimates to be reasonable, these amounts could differ materially from reported amounts in the filings made by Hewlett Packard Enterprise from time to time with the Securities and Exchange Commission. Hewlett Packard Enterprise assumes no obligation and does not intend to update these forward-looking statements, except as required by applicable law.',\n",
       "  \"Hewlett Packard Enterprise Co (HPE) Faces Revenue Decline but Boosts Profit Margins and ARR in ...\\nGuruFocus Research\\nFri, Mar 1, 20243 min read\\n\\nIn this article:\\nHPE\\n-1.52%\\nRevenue: $6.8 billion, a 14% decrease from the prior-year period.\\n\\nAnnualized Revenue Run-Rate (ARR): $1.4 billion, marking a significant 42% increase year-over-year.\\n\\nGross Margins: GAAP gross profit margin improved to 36.4%, a 240 basis point increase from the prior-year period.\\n\\nEarnings Per Share (EPS): GAAP diluted net EPS at $0.29, down 24% from the prior-year period, yet above guidance.\\n\\nFree Cash Flow (FCF): Improved by $844 million from the prior-year period, despite being negative at $(482) million.\\n\\nDividends: A regular cash dividend of $0.13 per share announced, payable on April 12, 2024.\\n\\nWarning! GuruFocus has detected 3 Warning Sign with HPE.\\n\\n\\nOn February 29, 2024, Hewlett Packard Enterprise Co (NYSE:HPE) released its 8-K filing, detailing the financial outcomes for the first quarter ended January 31, 2024. HPE, a global edge-to-cloud company, reported a mixed financial performance, with a notable decline in revenue but an increase in profitability and annualized revenue run-rate (ARR).\\n\\nHPE's revenue for the quarter stood at $6.8 billion, reflecting a 14% decrease from the same period last year. This decline was consistent in both actual dollars and constant currency. However, the company's ARR experienced a robust 42% year-over-year growth, reaching $1.4 billion. This growth in ARR underscores HPE's successful strategic pivot towards a recurring revenue model, which is increasingly important in the technology sector where predictable and stable revenue streams are highly valued.\\n\\nThe company's gross margins improved significantly, with GAAP gross profit margin increasing by 240 basis points to 36.4% compared to the prior-year period. This improvement in profitability is indicative of HPE's operational efficiency and its ability to manage costs effectively, even in a challenging market environment.\\n\\nDespite the revenue decline, HPE's diluted net earnings per share (EPS) on a GAAP basis was $0.29, a 24% decrease from the prior-year period but still above the midpoint of the guidance range. This performance suggests that while top-line growth was pressured, bottom-line results benefited from the company's focus on profitability.\\n\\nFree cash flow (FCF) for the quarter was negative at $(482) million, yet it showed an improvement of $844 million from the prior-year period. The negative FCF highlights the investment phase of the company's transformation, but the year-over-year improvement signals progress towards generating positive cash flows in the future.\\n\\nAntonio Neri, president and CEO of Hewlett Packard Enterprise, commented on the results:\\n\\n\",\n",
       "  \"Hewlett Packard Enterprise Co (HPE) Faces Revenue Decline but Boosts Profit Margins and ARR in ...\\nGuruFocus Research\\nFri, Mar 1, 20243 min read\\n\\nIn this article:\\nHPE\\n-1.52%\\nRevenue: $6.8 billion, a 14% decrease from the prior-year period.\\n\\nAnnualized Revenue Run-Rate (ARR): $1.4 billion, marking a significant 42% increase year-over-year.\\n\\nGross Margins: GAAP gross profit margin improved to 36.4%, a 240 basis point increase from the prior-year period.\\n\\nEarnings Per Share (EPS): GAAP diluted net EPS at $0.29, down 24% from the prior-year period, yet above guidance.\\n\\nFree Cash Flow (FCF): Improved by $844 million from the prior-year period, despite being negative at $(482) million.\\n\\nDividends: A regular cash dividend of $0.13 per share announced, payable on April 12, 2024.\\n\\nWarning! GuruFocus has detected 3 Warning Sign with HPE.\\n\\n\\nOn February 29, 2024, Hewlett Packard Enterprise Co (NYSE:HPE) released its 8-K filing, detailing the financial outcomes for the first quarter ended January 31, 2024. HPE, a global edge-to-cloud company, reported a mixed financial performance, with a notable decline in revenue but an increase in profitability and annualized revenue run-rate (ARR).\\n\\nHPE's revenue for the quarter stood at $6.8 billion, reflecting a 14% decrease from the same period last year. This decline was consistent in both actual dollars and constant currency. However, the company's ARR experienced a robust 42% year-over-year growth, reaching $1.4 billion. This growth in ARR underscores HPE's successful strategic pivot towards a recurring revenue model, which is increasingly important in the technology sector where predictable and stable revenue streams are highly valued.\\n\\nThe company's gross margins improved significantly, with GAAP gross profit margin increasing by 240 basis points to 36.4% compared to the prior-year period. This improvement in profitability is indicative of HPE's operational efficiency and its ability to manage costs effectively, even in a challenging market environment.\\n\\nDespite the revenue decline, HPE's diluted net earnings per share (EPS) on a GAAP basis was $0.29, a 24% decrease from the prior-year period but still above the midpoint of the guidance range. This performance suggests that while top-line growth was pressured, bottom-line results benefited from the company's focus on profitability.\\n\\nFree cash flow (FCF) for the quarter was negative at $(482) million, yet it showed an improvement of $844 million from the prior-year period. The negative FCF highlights the investment phase of the company's transformation, but the year-over-year improvement signals progress towards generating positive cash flows in the future.\\n\\nAntonio Neri, president and CEO of Hewlett Packard Enterprise, commented on the results:\\n\\n\",\n",
       "  'Hewlett Packard Enterprise (HPE) Q3 Earnings: How Key Metrics Compare to Wall Street Estimates\\n\\nZacks Equity Research\\nThu, Sep 5, 2024, 6:30 AM GMT+82 min read\\n\\nIn this article:\\nHPE\\n-1.52%\\nFor the quarter ended July 2024, Hewlett Packard Enterprise (HPE) reported revenue of $7.71 billion, up 10.1% over the same period last year. EPS came in at $0.50, compared to $0.49 in the year-ago quarter.\\n\\nThe reported revenue compares to the Zacks Consensus Estimate of $7.67 billion, representing a surprise of +0.56%. The company delivered an EPS surprise of +8.70%, with the consensus EPS estimate being $0.46.\\n\\n\\nWhile investors scrutinize revenue and earnings changes year-over-year and how they compare with Wall Street expectations to determine their next move, some key metrics always offer a more accurate picture of a company\\'s financial health.\\n\\nAs these metrics influence top- and bottom-line performance, comparing them to the year-ago numbers and what analysts estimated helps investors project a stock\\'s price performance more accurately.\\n\\nHere is how Hewlett Packard Enterprise performed in the just reported quarter in terms of the metrics most widely monitored and projected by Wall Street analysts:\\n\\nRevenue- Financial Services\\n: $879 million versus $881.93 million estimated by three analysts on average. Compared to the year-ago quarter, this number represents a +0.7% change.\\n\\nRevenue- Corporate Investments and other\\n: $262 million versus $250.48 million estimated by three analysts on average. Compared to the year-ago quarter, this number represents a -17.6% change.\\n\\nRevenue - Hybrid Cloud\\n: $1.30 billion compared to the $1.32 billion average estimate based on three analysts.\\n\\nRevenue- Intelligent Edge\\n: $1.12 billion versus the three-analyst average estimate of $1.13 billion. The reported number represents a year-over-year change of -20.8%.\\n\\nRevenue - Server\\n: $4.28 billion versus $4.20 billion estimated by three analysts on average.\\n\\nElimination of intersegment net revenue and other\\n: -$132 million compared to the -$127.97 million average estimate based on three analysts. The reported number represents a change of -4.4% year over year.\\n\\nEarnings from Operations- Financial Services\\n: $79 million versus $79.19 million estimated by two analysts on average.\\n\\nEarnings from Operations- Corporate Investments and other\\n: -$4 million compared to the -$23.56 million average estimate based on two analysts.\\n\\nEarnings from Operations- Hybrid Cloud\\n: $66 million versus the two-analyst average estimate of $131.70 million.\\n\\nEarnings from Operations- Server\\n: $464 million versus the two-analyst average estimate of $451.99 million.\\n\\nEarnings from Operations- Intelligent Edge\\n: $251 million compared to the $248.67 million average estimate based on two analysts.\\n\\n\\nStory continues\\n\\nView comments\\nTerms/Privacy PolicyPrivacy DashboardAbout Our Ads\\n\\nInvestopedia\\nHP Enterprise Posts Higher-Than-Expected Revenue Driven by AI Demand\\nAndrew Kessel\\nThu, Sep 5, 2024, 6:33 AM GMT+81 min read\\n\\nIn this article:\\nHPE\\n-1.52%\\n<p>AaronP/Bauer-Griffin / Contributor / Getty Images</p>\\nAaronP/Bauer-Griffin / Contributor / Getty Images\\n\\nMore\\n\\n\\nKey Takeaways\\nHewlett Packard Enterprise reported fiscal third-quarter sales that beat analysts\\' expectations, buoyed by a surge in server revenue driven by artificial intelligence demand.\\n\\nDiluted earnings per share missed estimates compiled by Visible Alpha, though adjusted earnings came ahead of projections.\\n\\nThe company raised and narrowed its outlook for full-year earnings.\\n\\n\\n\\n\\n\\nHewlett Packard Enterprise (HPE) posted fiscal third-quarter sales that beat analysts\\' expectations, buoyed by a surge in server revenue driven by demand for artificial intelligence (AI).\\n\\nThe server and storage maker reported third-quarter revenue jumped 10% year-over-year to $7.7 billion, above analysts\\x92 expectations. Server revenue was up 35% from the year-ago quarter to $4.3 billion. Revenue from HP Enterprise\\'s Intelligent Edge and cloud segments fell year-over-year, while revenue in its financial services segment rose 1%.\\n\\nDiluted earnings per share (EPS) of 38 cents missed analysts\\' estimates compiled by Visible Alpha, though adjusted EPS of 50 cents came ahead of projections.\\n\\n\\x93These results reflect our momentum in delivering on our edge-to-cloud strategy across networking, hybrid cloud, and AI,\" HP Enterprise CEO Antonio Neri said in a release.\\n\\nThe company raised its full-year EPS outlook to between $1.68 and $1.73, up from $1.61 to $1.71 previously, and maintained its revenue growth estimate of 1% to 3%.\\n\\nHP Enterprise shares were down about 1.9% at $18.42 in extended trading Wednesday following the company\\'s earnings release.\\n\\nRead the original article on Investopedia.\\n\\n\\nView comments\\nTerms/Privacy PolicyPrivacy DashboardAbout Our Ads\\n\\nBloomberg\\nHPE Reports Disappointing Margins on AI Server Business\\n\\n\\n1 / 2\\nHPE Reports Disappointing Margins on AI Server Business\\nBrody Ford\\nThu, Sep 5, 2024, 6:00 AM GMT+82 min read\\n\\n3\\nIn this article:\\nHPE\\n-1.52%\\n(Bloomberg) -- Hewlett Packard Enterprise Co. reported weaker-than-expected margins, suggesting lower profitability than anticipated in its closely watched business of selling servers for artificial intelligence work.\\n\\nMost Read from Bloomberg\\n\\nHow Air Conditioning Took Over the American Office\\n\\nThe Outsized Cost of Expanding US Roads\\n\\nHong Kong\\x92s Arts Hub Turns to Selling Land to Stay Afloat\\n\\n\\nFiscal third-quarter adjusted gross margins were 31.8%, a decline from the period a year ago, the company said Wednesday in a statement. Analysts, on average, estimated 33.4%. The decline was driven by a \\x93higher mix of AI server revenue,\\x94 Chief Financial Officer Marie Myers said on a call with analysts after the results were released.\\n\\nHardware makers including HPE, Dell Technologies Inc. and Super Micro Computer Inc. have enjoyed a jump in customer demand for high-powered servers to handle AI tasks. HPE reported $1.3 billion in revenue from this business line in the quarter that ended July 31, a 39% increase from the previous period and higher than analysts\\x92 average estimate.\\n\\nInvestors have become increasingly concerned about the lower margins of most AI servers, owing to the expensive semiconductors they contain made by companies such as Nvidia Corp. In an interview, Chief Executive Officer Antonio Neri said that over time HPE will sell more higher-margin products and services along with the AI servers.\\n\\nThe shares declined about 3% in extended trading after closing at $18.77 in New York. The stock has gained 11% this year through the close.\\n\\n\\x93Weak AI-server margin has been a theme for the sector, tripping up Super Micro and Dell over the past couple of quarters,\\x94 Woo Jin Ho, an analyst at Bloomberg Intelligence, wrote in a note. HPE\\x92s soft margins \\x93may overshadow its healthy AI sales momentum,\\x94 he added.\\n\\n\\nThe majority of HPE\\x92s AI server business continues to come from cloud service providers, but there is increasing momentum with enterprises and governments, Neri said.\\n\\nHPE reported that total revenue increased 10% to $7.71 billion in the period, compared with the $7.66 billion average estimate. It\\x92s the biggest year-over-year sales increase in six quarters. Profit, excluding some items, was 50 cents a share. Analysts, on average, projected 47 cents.\\n\\nIn the quarter ending in October, HPE projected sales of $8.1 billion to $8.4 billion. Profit, excluding some items, will be 52 cents a share to 57 cents a share. Analysts, on average, estimated profit of 54 cents on revenue of $8.15 billion.\\n\\nHPE said it received about $2.1 billion from the partial sale of its stake in H3C Technologies Co. The financial impact of that transaction will be reflected in the current quarter\\x92s results, the company said.\\n\\n\\nStory continues\\n\\nView comments\\n(3)\\nTerms/Privacy PolicyPrivacy DashboardAbout Our Ads\\n\\nZacks\\nVICI Properties Inc. (VICI) Rises As Market Takes a Dip: Key Facts\\n\\nZacks Equity Research\\nThu, Sep 5, 2024, 6:15 AM GMT+83 min read\\n\\nIn this article:\\nVICI\\n+0.42%\\nIn the latest trading session, VICI Properties Inc. (VICI) closed at $33.62, marking a +0.42% move from the previous day. This move outpaced the S&P 500\\'s daily loss of 0.16%. Elsewhere, the Dow saw an upswing of 0.09%, while the tech-heavy Nasdaq depreciated by 0.3%.\\n\\nShares of the company witnessed a gain of 6.62% over the previous month, beating the performance of the Finance sector with its gain of 6.28% and the S&P 500\\'s gain of 3.64%.\\n\\n\\nThe upcoming earnings release of VICI Properties Inc. will be of great interest to investors. The company is forecasted to report an EPS of $0.56, showcasing a 3.7% upward movement from the corresponding quarter of the prior year. Meanwhile, the latest consensus estimate predicts the revenue to be $958.68 million, indicating a 6.01% increase compared to the same quarter of the previous year.\\n\\nVICI\\'s full-year Zacks Consensus Estimates are calling for earnings of $2.26 per share and revenue of $3.84 billion. These results would represent year-over-year changes of +5.12% and +6.24%, respectively.\\n\\nAdditionally, investors should keep an eye on any recent revisions to analyst forecasts for VICI Properties Inc. These revisions help to show the ever-changing nature of near-term business trends. As a result, we can interpret positive estimate revisions as a good sign for the company\\'s business outlook.\\n\\nResearch indicates that these estimate revisions are directly correlated with near-term share price momentum. We developed the Zacks Rank to capitalize on this phenomenon. Our system takes these estimate changes into account and delivers a clear, actionable rating model.\\n\\nThe Zacks Rank system ranges from #1 (Strong Buy) to #5 (Strong Sell). It has a remarkable, outside-audited track record of success, with #1 stocks delivering an average annual return of +25% since 1988. Over the past month, the Zacks Consensus EPS estimate has moved 0.02% higher. VICI Properties Inc. presently features a Zacks Rank of #3 (Hold).\\n\\n\\nIn terms of valuation, VICI Properties Inc. is currently trading at a Forward P/E ratio of 14.84. Its industry sports an average Forward P/E of 12.6, so one might conclude that VICI Properties Inc. is trading at a premium comparatively.\\n\\nIt\\'s also important to note that VICI currently trades at a PEG ratio of 5.26. This popular metric is similar to the widely-known P/E ratio, with the difference being that the PEG ratio also takes into account the company\\'s expected earnings growth rate. As the market closed yesterday, the REIT and Equity Trust - Other industry was having an average PEG ratio of 2.36.\\n\\n\\nStory continues\\n\\nView comments\\nTerms/Privacy PolicyPrivacy DashboardAbout Our Ads\\n\\nZacks\\nWhirlpool (WHR) Rises As Market Takes a Dip: Key Facts\\n\\nZacks Equity Research\\nThu, Sep 5, 2024, 6:15 AM GMT+83 min read\\n\\nIn this article:\\nWHR\\n+0.67%\\nIn the latest trading session, Whirlpool (WHR) closed at $98.83, marking a +0.67% move from the previous day. This move outpaced the S&P 500\\'s daily loss of 0.16%. Elsewhere, the Dow saw an upswing of 0.09%, while the tech-heavy Nasdaq depreciated by 0.3%.\\n\\nShares of the maker of Maytag, KitchenAid and other appliances witnessed a gain of 6.29% over the previous month, beating the performance of the Consumer Discretionary sector with its gain of 5.25% and the S&P 500\\'s gain of 3.64%.\\n\\n\\nThe upcoming earnings release of Whirlpool will be of great interest to investors. The company is forecasted to report an EPS of $3.04, showcasing a 44.22% downward movement from the corresponding quarter of the prior year. Meanwhile, the latest consensus estimate predicts the revenue to be $4.07 billion, indicating a 17.29% decrease compared to the same quarter of the previous year.\\n\\nWHR\\'s full-year Zacks Consensus Estimates are calling for earnings of $11.31 per share and revenue of $16.78 billion. These results would represent year-over-year changes of -30.01% and -13.73%, respectively.\\n\\nAdditionally, investors should keep an eye on any recent revisions to analyst forecasts for Whirlpool. These revisions help to show the ever-changing nature of near-term business trends. As a result, we can interpret positive estimate revisions as a good sign for the company\\'s business outlook.\\n\\nResearch indicates that these estimate revisions are directly correlated with near-term share price momentum. We developed the Zacks Rank to capitalize on this phenomenon. Our system takes these estimate changes into account and delivers a clear, actionable rating model.\\n\\nThe Zacks Rank system ranges from #1 (Strong Buy) to #5 (Strong Sell). It has a remarkable, outside-audited track record of success, with #1 stocks delivering an average annual return of +25% since 1988. Over the past month, the Zacks Consensus EPS estimate remained stagnant. Whirlpool presently features a Zacks Rank of #4 (Sell).\\n\\nIn terms of valuation, Whirlpool is currently trading at a Forward P/E ratio of 8.68. Its industry sports an average Forward P/E of 13.32, so one might conclude that Whirlpool is trading at a discount comparatively.\\n\\nThe Household Appliances industry is part of the Consumer Discretionary sector. Currently, this industry holds a Zacks Industry Rank of 194, positioning it in the bottom 24% of all 250+ industries.\\n\\nThe Zacks Industry Rank is ordered from best to worst in terms of the average Zacks Rank of the individual companies within each of these sectors. Our research shows that the top 50% rated industries outperform the bottom half by a factor of 2 to 1.',\n",
       "  'Hewlett Packard Enterprise Company Revenues: How Does HPE Make Money?\\n\\nBase\\n Hewlett Packard Enterprise Company\\'s Compute segment to make 44% of $28.5 billion in Hewlett Packard Enterprise Company\\'s 2020 revenues, but Hewlett Packard Enterprise Company\\'s Storage segment is key to the company\\'s revenue growth\\n\\nCompute segment expected to be the single-biggest revenue driver with $12.5 billion in revenues (44% of Total Revenues) in 2020\\nStorage will be the fastest-growing segment - adding $0.4 billion over 2017-2020 (-100% of $-0.4 billion in incremental revenues)\\n\\n\\nTotal Revenue\\nBil $\\n28.9\\n28.5\\n2017\\n2020\\n23.0\\n24.0\\n25.0\\n26.0\\n27.0\\n28.0\\n29.0\\n30.0\\n31.0\\n32.0\\n33.0\\n34.0\\nWHAT IS BIG?\\n\\n\\n\\n(1) Compute : $12.5 billion (44%)\\n\\n(2) Storage : $3.6 billion (13%)\\n\\n(3) HPE Pointnext : $6.2 billion (22%)\\n\\n(4) Total Intelligent Edge : $2.9 billion (10%)\\n\\n(5) HP Financial Services : $3.3 billion (12%)\\n\\n------------------------------------------------------------------------------\\n\\nTOTAL Revenues in 2020: $28.5 billion\\n\\n\\n\\n\\n\\nWHAT HAS CHANGED?\\n\\nFrom 2017-2020\\n\\n+ Change in Compute : $-0.2 billion\\n\\n+ Change in Storage : $0.4 billion\\n\\n+ Change in HPE Pointnext : $-0.5 billion\\n\\n+ Change in Total Intelligent Edge : $0.2 billion\\n\\n+ Change in HP Financial Services : $-0.3 billion\\n\\n------------------------------------------------------------------------------\\n\\nTOTAL Change 2017-2020 $-0.4 billion\\n\\n+ HPE Company\\'s Revenues in 2017 $28.9 billion\\n\\n= TOTAL Revenues in 2020 $28.5 billion\\n\\nBelow we discuss Hewlett Packard Enterprise Company\\'s business model, followed by sections that review past performance as well as expectations for Hewlett Packard Enterprise Company\\'s revenue drivers for 2020 and 2021, along with competitive comparisons with peers International Business Machines and Oracle Corp\\n\\n\\n\\nHewlett Packard Enterprise Company\\'s Business Model\\n\\nWhat Does HPE Offer?\\n\\nThe company develops intelligent solutions that allow customers to capture, analyze and act upon data from edge to cloud. They enable customers to driving new business models, create new customer and employee experiences, and increasing operational efficiency.\\n\\n\\n\\nWho Pays?\\n\\nHPE\\'s customers ranges across various sectors of companies, Individuals and organisations\\n\\n\\n\\nWhat Are The Alternatives?\\n\\nMajor competitors are companies like IBM, Oracle Dell EMC, Cisco, NetApp and Lenovo.\\n\\nHas 5 Operating Segments:\\n\\n\\n\\nCompute\\n\\nThe company offers Industry Standard Servers (\"ISS\"), which are general purpose servers for multi-workload computing, as well as Mission Critical Servers (\"MCS\"), which are servers optimized for particular workloads, to address the full array of the customers\\' computing needs. The general purpose servers include the HPE ProLiant, secure and versatile rack and tower servers; HPE BladeSystem, a modular infrastructure that converges server, storage and networking; and HPE Synergy, a composable infrastructure for traditional and cloud-native applications.\\n\\n\\n\\nStorage\\n\\nWith storage offerings that are AI-driven and built for cloud environments with as-a-service consumption and flexible investment options, HPE provides the optimized destinations for data.\\n\\n\\n\\nHPE Pointnext\\n\\nHPE Pointnext Services creates preferred IT experiences to power the digital business. The HPE Pointnext Services team and partner network provide value across the IT life cycle delivering advice, transformation projects, professional services, support services and operational services for Hybrid IT and the Intelligent Edge.\\n\\n\\n\\nTotal Intelligent Edge\\n\\nIntelligent Edge provides a portfolio of secure Edge-to-Cloud solutions operating under the Aruba brand that include wireless local area network (\"LAN\"), campus and data center switching, software-defined wide-area-networking, security, and associated services to enable secure connectivity for businesses of any size.\\n\\n\\n\\nHP Financial Services\\n\\nFinancial Services (\"FS\") enables flexible IT consumption models, financial architectures and customized investment solutions for our customers.\\n\\n Hewlett Packard Enterprise Company\\'s Revenues have seen a marginal increase of 0.7% from around $28.9 billion in FY2017 to $29.1 billion in FY2019 and we expect it to fall to $28.5 billion in FY2020',\n",
       "  'HPE-Juniper Networks $14B Merger: EU To Make Key Decisions By August\\nBy Mark Haranas\\nJuly 8, 2024, 12:08 PM EDT\\nHPE has filed with the European regulatory commissions for approval to purchase Juniper Networks. Here\\x92s the timeline for the blockbuster $14 billion merger.\\n\\n\\n\\nListen to this article\\n4 min\\nHewlett Packard Enterprise has filed with the European Commission for regulatory approval of its blockbuster $14 billion acquisition of Juniper Networks. European regulators now have until August to either approve HPE\\x92s deal or force deeper investigations that could potentially stall the merger.\\n\\nThe European Commission now has a deadline of Aug. 1 to either approve the HPE-Juniper merger or open a full-scale investigation into the deal.\\n\\nAdditionally, the U.K. Competition and Markets Authority (CMA) recently started a preliminary investigation into the potential impacts of the massive tech merger.\\n\\nThe CMA has set a deadline of Aug. 14 to decide whether to approve the deal or progress the investigation to a formal \\x93phase 2\\x94 inquiry that would spawn a deeper investigation.\\n\\n[Related: The 10 Hottest Cloud Computing Startups Of 2024 (So Far)]\\n\\n\\x93The CMA is considering whether it is or may be the case that this transaction, if carried into effect, will result in the creation of a relevant merger situation under the merger provisions of the Enterprise Act 2002,\\x94 said U.K. Competition and Markets Authority in a statement. \\x93And, if so, whether the creation of that situation may be expected to result in a substantial lessening of competition within any market or markets in the United Kingdom for goods or services.\\x94\\n\\nAdvertisement\\n\\n\\nThis all means HPE\\x92s $14 billion deal for Juniper Networks could potentially receive the green light in Europe by mid-August.\\n\\nWhen Will The HPE-Juniper Acquisition Officially Close?\\n\\nThe merger has been approved by both HPE and Juniper board of directors as well as shareholders.\\n\\nImportantly, it is unlikely that the deal will need China\\x92s approval as it falls below the Chinese merger threshold. But the U.S. Federal Trade Commission will still likely scrutinize the merger.\\n\\nRegardless of all the regulatory hurdles, HPE says it expects to acquire Juniper Networks in late 2024 or early 2025.\\n\\n\\x93We can confirm the U.K. Competition and Markets Authority has accepted our filing, as part of the standard process to review the proposed acquisition of Juniper Networks in several jurisdictions,\\x94 said HPE in a statement to CRN. \\x93We are working to complete all necessary reviews and secure clearance quickly and efficiently so that we can begin delivering value to our customers as soon as possible. We continue to expect to close by the end of calendar year 2024 or early 2025.\\x94\\n\\nThis still fits within HPE\\x92s initial timeframe of closing the deal by as late as early 2025, roughly one year after announcing the deal.\\n\\nHPE\\x92s $14 Billion Plan For Juniper\\n\\nIn January, HPE unveiled its plan to buy networking superstar Juniper Networks for $14 billion.\\n\\nThe merger is expected to achieve joint operating efficiencies and cost synergies of $450 million per year.\\n\\nThe combination of the two tech giants could establish a new battleground in the networking space as well as in AI. Juniper Networks CEO Rami Rahim, if the deal is completed, will lead the combined HPE networking business, which includes HPE\\x92s Aruba business. Rahim will report directly to HPE CEO Antonio Neri.\\n\\nIn a recent interview with CRN, Rahim said AI is going \\x93to be as big, if not bigger\\x94 than any technology trend in history.\\n\\n\\x93The kind of moves that are necessary to capture this [AI] opportunity are the big bold moves,\\x94 he said.\\n\\n\\x93This combination with HPE is exactly that. It gives us an ability to accelerate our innovation across the entire networking stack. In fact, not even the networking stack, but the entire IT stack, compute, storage, networking, silicon systems and software, in all of the relevant networking domains for our customers; campus, branch, data center, wide area networks, and to all of the different customer verticals, certainly enterprise, but also cloud and service providers, as well,\\x94 Rahim told CRN. \\x93Together with HPE, we can build truly comprehensive, competitive, end-to-end experience-first networking solutions that are going to make a big difference for our customers and our partners.\\x94',\n",
       "  \"HPE Aruba Expands Clientele: Should You Buy, Hold or Sell the Stock?\\n\\nHewlett Packard Enterprise Company Price and Consensus\\n1 / 2\\nShould You Buy Hewlett Packard Enterprise Stock Ahead of Q3 Earnings?\\nZacks Equity Research\\nWed, Aug 28, 20244 min read\\n\\nIn this article:\\nHPE\\n-1.52%\\nJNPR\\n+0.03%\\nHewlett Packard Enterprise HPE shares have returned 12.8% year to date, underperforming the Zacks Computer - Integrated Systems industry\\x92s growth of 16.2%. Macroeconomic uncertainties and geopolitical issues have kept the broader stock market highly volatile this year so far, and HPE stock has not been spared.\\n\\nDespite these short-term challenges, Hewlett Packard Enterprise's long-term prospect seems bright as the company continues to gain customers for its products and solutions. For instance, HPE\\x92s Aruba Networking recently upgraded advanced secure connectivity at Nobu Hotels\\x92 select locations.\\n\\n\\nHewlett Packard Enterprise equipped Nobu Hotels with its network infrastructure that is built on HPE Aruba and uses Zero Trust measures. It has installed artificial intelligence (AI)-based wired, wireless and SD-WAN solutions for Nobu Hotels to enhance guest experience and ensure constant connectivity and security.\\n\\nThe Aruba deployment will involve the setup of HPE Aruba Networking Central, HPE Aruba Networking ClearPass and HPE Aruba Networking User Experience Insight. These solutions will enhance the connectivity of mobile, IoT devices and AI-based applications. Accommodations, including door automation, security cameras, digital voice assistants, lighting, window blinds and in-room orders, will be installed. The solution will also be used to simplify the work of hospitality staff so they can focus better on customer service.\\n\\nHewlett Packard Enterprise Company Price and Consensus\\nHewlett Packard Enterprise Company price-consensus-chart | Hewlett Packard Enterprise Company Quote\\n\\nAruba\\x92s Robust Capabilities Aid HPE\\nThe rising adoption of Aruba Networking by organizations worldwide can be credited to the ongoing enhancements that HPE is continuously making to improve the solution's capabilities.  So far this year, HPE added two new features to Aruba Networking.\\n\\n\\nHewlett Packard Enterprise added GenAI LLM models in HPE Aruba Networking Central\\x92s search feature to improve its accuracy. The company also launched HPE Aruba Networking Enterprise Private 5G, making HPE the world\\x92s first company to provide Wi-Fi and private 5G solutions together.\\n\\nAdditionally, the pending acquisition of Juniper Networks JNPR is poised to strengthen HPE's networking portfolio, enabling the company to offer comprehensive solutions that integrate networking, security and cloud services.\\n\\nThese enhancements in Aruba Networking\\x92s capabilities will help Hewlett Packard Enterprise in acquiring new clients. So far this year, the Aruba Networking solution has gained several clients for HPE, including Berger Paints, Nice Brazil, the city of Carmel, Royal Jaarbeurs, Houston Airports, Bethesda Health Group, University of Maryland and Dedini S/A Indústrias de Base.\\n\\n\"],\n",
       " 'User Query': [\"What is the impact of the HPE-Juniper Networks $14B merger on HPE's stock price?\",\n",
       "  \"How will the European Union's decision affect the HPE-Juniper Networks merger?\",\n",
       "  \"How did HPE's Q3 2024 earnings compare to analyst expectations?\",\n",
       "  \"What were the key factors influencing HPE's revenue performance in Q3 2024?\",\n",
       "  'How has HPE’s stock responded to recent market trends and global economic conditions?',\n",
       "  \"What are analysts' predictions for HPE stock in the upcoming quarter?\",\n",
       "  \"How are HPE's gross margins trending in 2024 compared to previous years?\",\n",
       "  'What challenges is HPE facing that may affect its future revenue?',\n",
       "  \"What are HPE's strategies to address the revenue challenges mentioned in their Q3 earnings report?\",\n",
       "  'How will HPE’s investment in cloud solutions affect its market share?',\n",
       "  \"How might regulatory actions from the EU influence HPE's business decisions?\",\n",
       "  \"What is the market sentiment regarding HPE's expansion and strategic decisions?\"]}"
      ]
     },
     "execution_count": 20,
     "metadata": {},
     "output_type": "execute_result"
    }
   ],
   "source": [
    "from fastapi import FastAPI\n",
    "\n",
    "# The file where HybridSearcher is stored\n",
    "from hybrid_search import HybridSearcher\n",
    "\n",
    "app = FastAPI()\n",
    "\n",
    "# Create a neural searcher instance\n",
    "hybrid_searcher = HybridSearcher(collection_name=\"hybrid_search\")\n",
    "\n",
    "def search_db(q: str):\n",
    "    return {\"result\": hybrid_searcher.search(text=q)}\n",
    "\n",
    "result_query = {\"Hybrid Search Retrieval\":[], \"User Query\":[]}\n",
    "\n",
    "for query in  queries_hpe:\n",
    "    result_query[\"User Query\"].append(query)\n",
    "    result_query[\"Hybrid Search Retrieval\"].append(search_db(f\"{query}\")[\"result\"][0][\"document\"])\n",
    "\n",
    "result_query\n"
   ]
  },
  {
   "cell_type": "code",
   "execution_count": 27,
   "metadata": {},
   "outputs": [],
   "source": [
    "pd.DataFrame(result_query).rename({\"Hybrid Search Retrieval\":\"Retrieved Relevant Response\"}).to_csv(\"results/hpe_retrieved.csv\")"
   ]
  },
  {
   "cell_type": "markdown",
   "metadata": {},
   "source": [
    "### Hybrid Search by Individual Collections from Sparse and Dense"
   ]
  },
  {
   "cell_type": "code",
   "execution_count": 65,
   "metadata": {},
   "outputs": [
    {
     "data": {
      "text/plain": [
       "(         date       RSI\n",
       " 0  2024-03-26  0.353261\n",
       " 1  2024-04-02  0.448071\n",
       " 2  2023-02-02  0.523560\n",
       " 3  2024-03-28  0.456376\n",
       " 4  2023-02-15  0.583733,\n",
       "          date                                              title\n",
       " 0  2024-08-11  The stock market should be great, not on a kni...)"
      ]
     },
     "execution_count": 65,
     "metadata": {},
     "output_type": "execute_result"
    }
   ],
   "source": [
    "from qdrant_client import QdrantClient\n",
    "\n",
    "\n",
    "class HybridSearcher:\n",
    "    def __init__(self, collection_name):\n",
    "        self.collection_name = collection_name\n",
    "        # initialize Qdrant client\n",
    "        self.qdrant_client = client\n",
    "    def search(self, vector):\n",
    "        if type(self.collection_name) == str:\n",
    "            search_result = client.search(collection_name=self.collection_name, query_vector=vector.tolist(), limit=5)\n",
    "        else:\n",
    "            search_result = client.search(collection_name=self.collection_name[0], query_vector=vector[0].tolist(), limit=5)\n",
    "            search_result2 = client.search(collection_name=self.collection_name[1], query_vector=vector[1].tolist(), limit=5)\n",
    "\n",
    "        # `search_result` contains found vector ids with similarity scores \n",
    "        # along with the stored payload\n",
    "        \n",
    "        # Select and return metadata\n",
    "        if self.collection_name == \"hpe_news_sentiment\":\n",
    "            metadata = [hit.score for hit in search_result]\n",
    "        elif self.collection_name == \"hpe_financial_data\": \n",
    "            metadata = [hit.score for hit in search_result]\n",
    "        else:\n",
    "            metadata1 = [[hit.payload.get(\"date\"), hit.payload.get(\"RSI\")] for hit in search_result2]\n",
    "            metadata2 = [[hit.payload.get(\"date\"), hit.payload.get(\"title\")] for hit in search_result]\n",
    "\n",
    "            metadata = pd.DataFrame(metadata1,columns=[\"date\",\"RSI\"]),pd.DataFrame(metadata2,columns=[\"date\",\"title\"])\n",
    "        return metadata\n",
    "\n",
    "hybrid_searcher = HybridSearcher(collection_name=[\"news_sentiment\",\"financial_data\"])\n",
    "dense_vector = model.encode(\"Apple is performing well\")\n",
    "sparse_vector = np.array([1,1,0,0])\n",
    "vector = [dense_vector,sparse_vector]\n",
    "metadata = hybrid_searcher.search(vector)\n",
    "metadata"
   ]
  },
  {
   "cell_type": "code",
   "execution_count": 66,
   "metadata": {},
   "outputs": [
    {
     "name": "stdout",
     "output_type": "stream",
     "text": [
      "[0.18309851, 0.1643922, 0.16159111, 0.1378223, 0.12511036]\n",
      "[4.977789e-07, 4.7790604e-07, 4.209826e-07, 4.1530433e-07, 3.4968178e-07]\n"
     ]
    }
   ],
   "source": [
    "# Dense Query Result\n",
    "hybrid_searcher = HybridSearcher(collection_name=\"hpe_news_sentiment\")\n",
    "dense_vector = model.encode(\"Apple is performing well\")\n",
    "dense_results = hybrid_searcher.search(dense_vector)\n",
    "print(dense_results)\n",
    "\n",
    "hybrid_searcher = HybridSearcher(collection_name=\"hpe_financial_data\")\n",
    "sparse_vector = np.array([1,1,0,0])\n",
    "sparse_results = hybrid_searcher.search(sparse_vector)\n",
    "print(sparse_results)\n"
   ]
  },
  {
   "attachments": {},
   "cell_type": "markdown",
   "metadata": {},
   "source": [
    "Implement advanced techniques like Reciprocal Rank Fusion (RRF) for combining results:\n",
    "\n"
   ]
  },
  {
   "cell_type": "code",
   "execution_count": 67,
   "metadata": {},
   "outputs": [
    {
     "name": "stdout",
     "output_type": "stream",
     "text": [
      "1.5\n"
     ]
    }
   ],
   "source": [
    "def reciprocal_rank_fusion(results):\n",
    "    combined_rank = 0\n",
    "    for rank, result in enumerate(results, start=1):\n",
    "        combined_rank += 1 / rank\n",
    "    return combined_rank\n",
    "\n",
    "rrf_score = reciprocal_rank_fusion([sparse_results, dense_results])\n",
    "print(rrf_score)"
   ]
  }
 ],
 "metadata": {
  "kernelspec": {
   "display_name": "fin_ana",
   "language": "python",
   "name": "python3"
  },
  "language_info": {
   "codemirror_mode": {
    "name": "ipython",
    "version": 3
   },
   "file_extension": ".py",
   "mimetype": "text/x-python",
   "name": "python",
   "nbconvert_exporter": "python",
   "pygments_lexer": "ipython3",
   "version": "3.12.5"
  },
  "orig_nbformat": 4,
  "vscode": {
   "interpreter": {
    "hash": "e646c1d0f36d352194803eb1b3bd6a8438ff42a362f7da11dd92f9220eb2998e"
   }
  }
 },
 "nbformat": 4,
 "nbformat_minor": 2
}
