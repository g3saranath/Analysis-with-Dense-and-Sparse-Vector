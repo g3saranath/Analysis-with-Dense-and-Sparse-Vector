{
 "cells": [
  {
   "attachments": {},
   "cell_type": "markdown",
   "metadata": {},
   "source": [
    "Loading the data from /data directory"
   ]
  },
  {
   "cell_type": "code",
   "execution_count": 1,
   "metadata": {},
   "outputs": [],
   "source": [
    "import pandas as pd\n",
    "import os"
   ]
  },
  {
   "attachments": {},
   "cell_type": "markdown",
   "metadata": {},
   "source": [
    "Stock Price data"
   ]
  },
  {
   "cell_type": "code",
   "execution_count": 2,
   "metadata": {},
   "outputs": [
    {
     "data": {
      "text/html": [
       "<div>\n",
       "<style scoped>\n",
       "    .dataframe tbody tr th:only-of-type {\n",
       "        vertical-align: middle;\n",
       "    }\n",
       "\n",
       "    .dataframe tbody tr th {\n",
       "        vertical-align: top;\n",
       "    }\n",
       "\n",
       "    .dataframe thead th {\n",
       "        text-align: right;\n",
       "    }\n",
       "</style>\n",
       "<table border=\"1\" class=\"dataframe\">\n",
       "  <thead>\n",
       "    <tr style=\"text-align: right;\">\n",
       "      <th></th>\n",
       "      <th>Date</th>\n",
       "      <th>Open</th>\n",
       "      <th>High</th>\n",
       "      <th>Low</th>\n",
       "      <th>Close</th>\n",
       "      <th>Adj Close</th>\n",
       "      <th>Volume</th>\n",
       "      <th>Company</th>\n",
       "    </tr>\n",
       "  </thead>\n",
       "  <tbody>\n",
       "    <tr>\n",
       "      <th>0</th>\n",
       "      <td>2023-01-03</td>\n",
       "      <td>130.279999</td>\n",
       "      <td>130.899994</td>\n",
       "      <td>124.169998</td>\n",
       "      <td>125.070000</td>\n",
       "      <td>123.904617</td>\n",
       "      <td>112117500</td>\n",
       "      <td>Apple</td>\n",
       "    </tr>\n",
       "    <tr>\n",
       "      <th>1</th>\n",
       "      <td>2023-01-04</td>\n",
       "      <td>126.889999</td>\n",
       "      <td>128.660004</td>\n",
       "      <td>125.080002</td>\n",
       "      <td>126.360001</td>\n",
       "      <td>125.182610</td>\n",
       "      <td>89113600</td>\n",
       "      <td>Apple</td>\n",
       "    </tr>\n",
       "    <tr>\n",
       "      <th>2</th>\n",
       "      <td>2023-01-05</td>\n",
       "      <td>127.129997</td>\n",
       "      <td>127.769997</td>\n",
       "      <td>124.760002</td>\n",
       "      <td>125.019997</td>\n",
       "      <td>123.855103</td>\n",
       "      <td>80962700</td>\n",
       "      <td>Apple</td>\n",
       "    </tr>\n",
       "    <tr>\n",
       "      <th>3</th>\n",
       "      <td>2023-01-06</td>\n",
       "      <td>126.010002</td>\n",
       "      <td>130.289993</td>\n",
       "      <td>124.889999</td>\n",
       "      <td>129.619995</td>\n",
       "      <td>128.412231</td>\n",
       "      <td>87754700</td>\n",
       "      <td>Apple</td>\n",
       "    </tr>\n",
       "    <tr>\n",
       "      <th>4</th>\n",
       "      <td>2023-01-09</td>\n",
       "      <td>130.470001</td>\n",
       "      <td>133.410004</td>\n",
       "      <td>129.889999</td>\n",
       "      <td>130.149994</td>\n",
       "      <td>128.937286</td>\n",
       "      <td>70790800</td>\n",
       "      <td>Apple</td>\n",
       "    </tr>\n",
       "  </tbody>\n",
       "</table>\n",
       "</div>"
      ],
      "text/plain": [
       "         Date        Open        High         Low       Close   Adj Close  \\\n",
       "0  2023-01-03  130.279999  130.899994  124.169998  125.070000  123.904617   \n",
       "1  2023-01-04  126.889999  128.660004  125.080002  126.360001  125.182610   \n",
       "2  2023-01-05  127.129997  127.769997  124.760002  125.019997  123.855103   \n",
       "3  2023-01-06  126.010002  130.289993  124.889999  129.619995  128.412231   \n",
       "4  2023-01-09  130.470001  133.410004  129.889999  130.149994  128.937286   \n",
       "\n",
       "      Volume Company  \n",
       "0  112117500   Apple  \n",
       "1   89113600   Apple  \n",
       "2   80962700   Apple  \n",
       "3   87754700   Apple  \n",
       "4   70790800   Apple  "
      ]
     },
     "execution_count": 2,
     "metadata": {},
     "output_type": "execute_result"
    }
   ],
   "source": [
    "apple_stock = pd.read_csv(\"data/apple_stock.csv\")\n",
    "msft_stock = pd.read_csv(\"data/msft_stock.csv\")\n",
    "apple_stock.head()"
   ]
  },
  {
   "cell_type": "code",
   "execution_count": 3,
   "metadata": {},
   "outputs": [
    {
     "name": "stdout",
     "output_type": "stream",
     "text": [
      "Sparse Vectors:\n",
      " (333, 4)\n"
     ]
    }
   ],
   "source": [
    "import numpy as np\n",
    "from copy import deepcopy\n",
    "\n",
    "df = deepcopy(apple_stock)\n",
    "\n",
    "# Simple Moving Average (SMA)\n",
    "df['SMA_20'] = df['Close'].rolling(window=20).mean()\n",
    "\n",
    "# Exponential Moving Average (EMA)\n",
    "df['EMA_12'] = df['Close'].ewm(span=12, adjust=False).mean()\n",
    "df['EMA_26'] = df['Close'].ewm(span=26, adjust=False).mean()\n",
    "\n",
    "# Relative Strength Index (RSI)\n",
    "delta = df['Close'].diff(1)\n",
    "gain = np.where(delta > 0, delta, 0)\n",
    "loss = np.where(delta < 0, -delta, 0)\n",
    "avg_gain = pd.Series(gain).rolling(window=14).mean()\n",
    "avg_loss = pd.Series(loss).rolling(window=14).mean()\n",
    "rs = avg_gain / avg_loss\n",
    "df['RSI'] = 100 - (100 / (1 + rs))\n",
    "\n",
    "# MACD\n",
    "df['MACD'] = df['EMA_12'] - df['EMA_26']\n",
    "df['Signal_Line'] = df['MACD'].ewm(span=9, adjust=False).mean()\n",
    "\n",
    "# Bollinger Bands\n",
    "df['Middle_Band'] = df['Close'].rolling(window=20).mean()\n",
    "df['Upper_Band'] = df['Middle_Band'] + 2*df['Close'].rolling(window=20).std()\n",
    "df['Lower_Band'] = df['Middle_Band'] - 2*df['Close'].rolling(window=20).std()\n",
    "\n",
    "# On-Balance Volume (OBV)\n",
    "df['OBV'] = (np.sign(df['Close'].diff()) * df['Volume']).fillna(0).cumsum()\n",
    "\n",
    "# Volume Moving Average\n",
    "df['Volume_MA'] = df['Volume'].rolling(window=20).mean()\n",
    "# Normalize selected indicators\n",
    "df['SMA_20_norm'] = df['SMA_20'] / df['Close']\n",
    "df['RSI_norm'] = df['RSI'] / 100\n",
    "df['MACD_norm'] = df['MACD'] / df['Close']\n",
    "\n",
    "# Create sparse vectors using selected indicators\n",
    "sparse_vectors = df[['SMA_20_norm', 'RSI_norm', 'MACD_norm', 'OBV']].fillna(0).values\n",
    "\n",
    "print(\"Sparse Vectors:\\n\", sparse_vectors.shape)\n"
   ]
  },
  {
   "cell_type": "code",
   "execution_count": 4,
   "metadata": {},
   "outputs": [
    {
     "data": {
      "text/plain": [
       "(333, 4)"
      ]
     },
     "execution_count": 4,
     "metadata": {},
     "output_type": "execute_result"
    }
   ],
   "source": [
    "sparse_vectors.shape"
   ]
  },
  {
   "cell_type": "code",
   "execution_count": 5,
   "metadata": {},
   "outputs": [
    {
     "name": "stdout",
     "output_type": "stream",
     "text": [
      "<Compressed Sparse Row sparse matrix of dtype 'float64'\n",
      "\twith 1298 stored elements and shape (333, 4)>\n",
      "  Coords\tValues\n",
      "  (1, 2)\t0.0008143879031531835\n",
      "  (1, 3)\t89113600.0\n",
      "  (2, 2)\t0.0006036061334825662\n",
      "  (2, 3)\t8150900.0\n",
      "  (3, 2)\t0.003240651325841453\n",
      "  (3, 3)\t95905600.0\n",
      "  (4, 2)\t0.005589885737773369\n",
      "  (4, 3)\t166696400.0\n",
      "  (5, 2)\t0.007698281297126299\n",
      "  (5, 3)\t230592600.0\n",
      "  (6, 2)\t0.010739299080735329\n",
      "  (6, 3)\t300051500.0\n",
      "  (7, 2)\t0.013084215264993454\n",
      "  (7, 3)\t228671900.0\n",
      "  (8, 2)\t0.015418448479918965\n",
      "  (8, 3)\t286481600.0\n",
      "  (9, 2)\t0.017717620003478856\n",
      "  (9, 3)\t350128200.0\n",
      "  (10, 2)\t0.019096084414488183\n",
      "  (10, 3)\t280455400.0\n",
      "  (11, 2)\t0.01991007667189441\n",
      "  (11, 3)\t338735800.0\n",
      "  (12, 2)\t0.02144858170240243\n",
      "  (12, 3)\t418959400.0\n",
      "  (13, 1)\t0.8942968974176718\n",
      "  :\t:\n",
      "  (326, 3)\t542428400.0\n",
      "  (327, 0)\t1.0167046445049432\n",
      "  (327, 1)\t0.45098037082409465\n",
      "  (327, 2)\t-0.012230970254624383\n",
      "  (327, 3)\t591966200.0\n",
      "  (328, 0)\t1.0037480449169194\n",
      "  (328, 1)\t0.5034082629378515\n",
      "  (328, 2)\t-0.010991507458494849\n",
      "  (328, 3)\t640218000.0\n",
      "  (329, 0)\t0.9976013864310574\n",
      "  (329, 1)\t0.5052631142631536\n",
      "  (329, 2)\t-0.009555558685081504\n",
      "  (329, 3)\t690776300.0\n",
      "  (330, 0)\t1.0004341183993684\n",
      "  (330, 1)\t0.5147008992708928\n",
      "  (330, 2)\t-0.00867288454789827\n",
      "  (330, 3)\t645937900.0\n",
      "  (331, 0)\t0.97721613463476\n",
      "  (331, 1)\t0.5600502023260922\n",
      "  (331, 2)\t-0.0057351400904973645\n",
      "  (331, 3)\t714107300.0\n",
      "  (332, 0)\t0.9958404145502894\n",
      "  (332, 1)\t0.5384383960283905\n",
      "  (332, 2)\t-0.005082997576390359\n",
      "  (332, 3)\t648172500.0\n"
     ]
    }
   ],
   "source": [
    "import numpy as np\n",
    "from scipy.sparse import csr_matrix\n",
    "\n",
    "sparse_matrix = csr_matrix(sparse_vectors)\n",
    "\n",
    "# Show sparse matrix\n",
    "print(sparse_matrix)"
   ]
  },
  {
   "attachments": {},
   "cell_type": "markdown",
   "metadata": {},
   "source": [
    "Setup Qdrant for Sparse Vector store"
   ]
  },
  {
   "cell_type": "code",
   "execution_count": 6,
   "metadata": {},
   "outputs": [
    {
     "name": "stderr",
     "output_type": "stream",
     "text": [
      "/lustre/saranath/miniconda3/envs/fin_ana/lib/python3.12/site-packages/tqdm/auto.py:21: TqdmWarning: IProgress not found. Please update jupyter and ipywidgets. See https://ipywidgets.readthedocs.io/en/stable/user_install.html\n",
      "  from .autonotebook import tqdm as notebook_tqdm\n",
      "/tmp/ipykernel_46187/2959744048.py:12: DeprecationWarning: `recreate_collection` method is deprecated and will be removed in the future. Use `collection_exists` to check collection existence and `create_collection` instead.\n",
      "  client.recreate_collection(\n"
     ]
    }
   ],
   "source": [
    "import qdrant_client\n",
    "from qdrant_client.models import VectorParams, Distance\n",
    "from qdrant_client.http.models import PointStruct, VectorParams\n",
    "from qdrant_client import QdrantClient\n",
    "\n",
    "\n",
    "\n",
    "# Initialize Qdrant client\n",
    "client = QdrantClient(url=\"http://localhost:6333\")#, api_key=qdrant_api)\n",
    "\n",
    "# Create a collection named \"financial_data\"\n",
    "client.recreate_collection(\n",
    "    collection_name=\"financial_data\",\n",
    "    vectors_config=VectorParams(\n",
    "        size=sparse_vectors.shape[1],  # Dimensionality of the vector (SMA_20_norm, RSI_norm, MACD_norm)\n",
    "        distance=Distance.COSINE  # Distance metric (can be COSINE, EUCLID, etc.)\n",
    "    )\n",
    ")\n",
    "\n",
    "for i, vector in enumerate(sparse_vectors):\n",
    "    client.upsert(\n",
    "        collection_name=\"financial_data\",\n",
    "        points=[\n",
    "            {\n",
    "                \"id\": i+1,\n",
    "                \"vector\": vector.tolist(),\n",
    "                \"payload\": {\"date\": df['Date'].iloc[i],\n",
    "                            \"RSI\" : df[\"RSI_norm\"].iloc[i]}\n",
    "            }\n",
    "        ]\n",
    "    )"
   ]
  },
  {
   "attachments": {},
   "cell_type": "markdown",
   "metadata": {},
   "source": [
    "Financial News Data"
   ]
  },
  {
   "cell_type": "code",
   "execution_count": 7,
   "metadata": {},
   "outputs": [
    {
     "data": {
      "text/html": [
       "<div>\n",
       "<style scoped>\n",
       "    .dataframe tbody tr th:only-of-type {\n",
       "        vertical-align: middle;\n",
       "    }\n",
       "\n",
       "    .dataframe tbody tr th {\n",
       "        vertical-align: top;\n",
       "    }\n",
       "\n",
       "    .dataframe thead th {\n",
       "        text-align: right;\n",
       "    }\n",
       "</style>\n",
       "<table border=\"1\" class=\"dataframe\">\n",
       "  <thead>\n",
       "    <tr style=\"text-align: right;\">\n",
       "      <th></th>\n",
       "      <th>title</th>\n",
       "      <th>date</th>\n",
       "      <th>text</th>\n",
       "      <th>source</th>\n",
       "    </tr>\n",
       "  </thead>\n",
       "  <tbody>\n",
       "    <tr>\n",
       "      <th>0</th>\n",
       "      <td>Apple announces new MacBook Air laptops with i...</td>\n",
       "      <td>2024-03-04</td>\n",
       "      <td>Apple on Monday announced new versions of its ...</td>\n",
       "      <td>https://www.cnbc.com/technology/</td>\n",
       "    </tr>\n",
       "    <tr>\n",
       "      <th>1</th>\n",
       "      <td>Here's what Meta CEO Mark Zuckerberg has to sa...</td>\n",
       "      <td>2024-02-14</td>\n",
       "      <td>Meta CEO Mark Zuckerberg demonstrates an Oculu...</td>\n",
       "      <td>https://www.cnbc.com/technology/</td>\n",
       "    </tr>\n",
       "    <tr>\n",
       "      <th>2</th>\n",
       "      <td>Apple's Vision Pro virtual reality headset lau...</td>\n",
       "      <td>2024-02-02</td>\n",
       "      <td>The first customer walks out of the Apple Stor...</td>\n",
       "      <td>https://www.cnbc.com/technology/</td>\n",
       "    </tr>\n",
       "    <tr>\n",
       "      <th>3</th>\n",
       "      <td>Apple Vision Pro review: This is the future of...</td>\n",
       "      <td>2024-01-30</td>\n",
       "      <td>In this article AAPL Follow your favorite stoc...</td>\n",
       "      <td>https://www.cnbc.com/technology/</td>\n",
       "    </tr>\n",
       "    <tr>\n",
       "      <th>4</th>\n",
       "      <td>Apple $3,499 Vision Pro headset now available ...</td>\n",
       "      <td>2024-01-19</td>\n",
       "      <td>Preorders for Apple 's $3,499 Vision Pro heads...</td>\n",
       "      <td>https://www.cnbc.com/technology/</td>\n",
       "    </tr>\n",
       "  </tbody>\n",
       "</table>\n",
       "</div>"
      ],
      "text/plain": [
       "                                               title        date  \\\n",
       "0  Apple announces new MacBook Air laptops with i...  2024-03-04   \n",
       "1  Here's what Meta CEO Mark Zuckerberg has to sa...  2024-02-14   \n",
       "2  Apple's Vision Pro virtual reality headset lau...  2024-02-02   \n",
       "3  Apple Vision Pro review: This is the future of...  2024-01-30   \n",
       "4  Apple $3,499 Vision Pro headset now available ...  2024-01-19   \n",
       "\n",
       "                                                text  \\\n",
       "0  Apple on Monday announced new versions of its ...   \n",
       "1  Meta CEO Mark Zuckerberg demonstrates an Oculu...   \n",
       "2  The first customer walks out of the Apple Stor...   \n",
       "3  In this article AAPL Follow your favorite stoc...   \n",
       "4  Preorders for Apple 's $3,499 Vision Pro heads...   \n",
       "\n",
       "                             source  \n",
       "0  https://www.cnbc.com/technology/  \n",
       "1  https://www.cnbc.com/technology/  \n",
       "2  https://www.cnbc.com/technology/  \n",
       "3  https://www.cnbc.com/technology/  \n",
       "4  https://www.cnbc.com/technology/  "
      ]
     },
     "execution_count": 7,
     "metadata": {},
     "output_type": "execute_result"
    }
   ],
   "source": [
    "microsoft_news = pd.read_csv(\"data/microsoft_financial_news.csv\")\n",
    "apple_news = pd.read_csv(\"data/apple_financial_news.csv\")\n",
    "apple_news.head()\n"
   ]
  },
  {
   "cell_type": "code",
   "execution_count": 8,
   "metadata": {},
   "outputs": [
    {
     "name": "stderr",
     "output_type": "stream",
     "text": [
      "[nltk_data] Downloading package punkt to /home/saranath/nltk_data...\n",
      "[nltk_data]   Package punkt is already up-to-date!\n",
      "[nltk_data] Downloading package stopwords to\n",
      "[nltk_data]     /home/saranath/nltk_data...\n",
      "[nltk_data]   Package stopwords is already up-to-date!\n",
      "/lustre/saranath/miniconda3/envs/fin_ana/lib/python3.12/site-packages/transformers/tokenization_utils_base.py:1601: FutureWarning: `clean_up_tokenization_spaces` was not set. It will be set to `True` by default. This behavior will be depracted in transformers v4.45, and will be then set to `False` by default. For more details check this issue: https://github.com/huggingface/transformers/issues/31884\n",
      "  warnings.warn(\n"
     ]
    },
    {
     "data": {
      "text/plain": [
       "(14, 384)"
      ]
     },
     "execution_count": 8,
     "metadata": {},
     "output_type": "execute_result"
    }
   ],
   "source": [
    "## Creating Dense Vectors for News Articles\n",
    "from sentence_transformers import SentenceTransformer\n",
    "import nltk\n",
    "from nltk.corpus import stopwords\n",
    "from nltk.tokenize import word_tokenize\n",
    "\n",
    "nltk.download('punkt')\n",
    "nltk.download('stopwords')\n",
    "\n",
    "# Load the pre-trained model\n",
    "model = SentenceTransformer('paraphrase-MiniLM-L6-v2')\n",
    "\n",
    "news_articles = list(apple_news.text.values)\n",
    "\n",
    "# Generate dense vectors for each article\n",
    "dense_vectors = model.encode(news_articles)\n",
    "\n",
    "dense_vectors.shape\n"
   ]
  },
  {
   "cell_type": "code",
   "execution_count": 9,
   "metadata": {},
   "outputs": [
    {
     "name": "stderr",
     "output_type": "stream",
     "text": [
      "/tmp/ipykernel_46187/4141697682.py:3: DeprecationWarning: `recreate_collection` method is deprecated and will be removed in the future. Use `collection_exists` to check collection existence and `create_collection` instead.\n",
      "  client.recreate_collection(\n"
     ]
    }
   ],
   "source": [
    "from qdrant_client import QdrantClient\n",
    "# Create a collection named \"financial_data\"\n",
    "client.recreate_collection(\n",
    "    collection_name=\"news_sentiment\",\n",
    "    vectors_config=VectorParams(\n",
    "        size=dense_vectors.shape[1],  # Dimensionality of the vector (SMA_20_norm, RSI_norm, MACD_norm)\n",
    "        distance=Distance.COSINE  # Distance metric (can be COSINE, EUCLID, etc.)\n",
    "    )\n",
    ")\n",
    "\n",
    "for i, vector in enumerate(dense_vectors):\n",
    "    client.upsert(\n",
    "        collection_name=\"news_sentiment\",\n",
    "        points=[\n",
    "            {\n",
    "                \"id\": i+1,\n",
    "                \"vector\": vector.tolist(),\n",
    "                \"payload\":{\"title\":apple_news.title.iloc[i],\n",
    "                           \"date\":apple_news.date.iloc[i]}\n",
    "            }\n",
    "        ]\n",
    "    )"
   ]
  },
  {
   "attachments": {},
   "cell_type": "markdown",
   "metadata": {},
   "source": [
    "You can query the sparse vectors to retrieve real-time market indicators.\n",
    "\n"
   ]
  },
  {
   "cell_type": "code",
   "execution_count": 10,
   "metadata": {},
   "outputs": [
    {
     "data": {
      "text/plain": [
       "(333, 4)"
      ]
     },
     "execution_count": 10,
     "metadata": {},
     "output_type": "execute_result"
    }
   ],
   "source": [
    "sparse_vectors.shape"
   ]
  },
  {
   "cell_type": "code",
   "execution_count": 11,
   "metadata": {},
   "outputs": [
    {
     "name": "stdout",
     "output_type": "stream",
     "text": [
      "Market Indicators Results: [ScoredPoint(id=326, version=325, score=2.0630735e-09, payload={'date': '2024-04-19', 'RSI': 0.4106571959163894}, vector=None, shard_key=None, order_value=None), ScoredPoint(id=20, version=19, score=1.9640336e-09, payload={'date': '2023-01-31', 'RSI': 0.8029493541256731}, vector=None, shard_key=None, order_value=None), ScoredPoint(id=327, version=326, score=1.916854e-09, payload={'date': '2024-04-22', 'RSI': 0.44604314177506993}, vector=None, shard_key=None, order_value=None), ScoredPoint(id=325, version=324, score=1.8119324e-09, payload={'date': '2024-04-18', 'RSI': 0.4194484246240115}, vector=None, shard_key=None, order_value=None)]\n"
     ]
    }
   ],
   "source": [
    "query_vector = np.array([1, 1, 0, 0])\n",
    "results_sparse = client.search(\n",
    "    collection_name=\"financial_data\",\n",
    "    query_vector=query_vector.tolist(),\n",
    "    limit=4,  \n",
    ")\n",
    "\n",
    "print(\"Market Indicators Results:\", results_sparse)"
   ]
  },
  {
   "attachments": {},
   "cell_type": "markdown",
   "metadata": {},
   "source": [
    "Similarly, dense vectors can be queried to analyze financial news sentiment."
   ]
  },
  {
   "cell_type": "code",
   "execution_count": 12,
   "metadata": {},
   "outputs": [
    {
     "name": "stdout",
     "output_type": "stream",
     "text": [
      "News Sentiment Results: [ScoredPoint(id=1, version=0, score=0.513553, payload={'title': 'Apple announces new MacBook Air laptops with its latest M3 chip', 'date': '2024-03-04'}, vector=None, shard_key=None, order_value=None), ScoredPoint(id=6, version=5, score=0.46926737, payload={'title': 'Apple reportedly plans big overhaul to iPad family to make it less confusing', 'date': '2023-12-11'}, vector=None, shard_key=None, order_value=None), ScoredPoint(id=8, version=7, score=0.36333683, payload={'title': 'Apple iPhone 14 gets another free year of satellite Emergency SOS', 'date': '2023-11-15'}, vector=None, shard_key=None, order_value=None), ScoredPoint(id=4, version=3, score=0.35279945, payload={'title': 'Apple Vision Pro review: This is the future of computing and entertainment', 'date': '2024-01-30'}, vector=None, shard_key=None, order_value=None)]\n"
     ]
    }
   ],
   "source": [
    "query_vector = model.encode(\"Apple stock rises due to new product launch\")\n",
    "\n",
    "results_dense = client.search(\n",
    "    collection_name=\"news_sentiment\",\n",
    "    query_vector=query_vector.tolist(),\n",
    "    limit=4\n",
    ")\n",
    "\n",
    "print(\"News Sentiment Results:\", results_dense)\n"
   ]
  },
  {
   "cell_type": "code",
   "execution_count": 13,
   "metadata": {},
   "outputs": [],
   "source": [
    "# Combine results based on relevance or score\n",
    "def combine_results(results_sparse,results_dense):\n",
    "    combined_results = {\n",
    "        \"market_indicators\": results_sparse,  # From sparse vector query\n",
    "        \"news_sentiment\": results_dense  # From dense vector query\n",
    "    }\n",
    "\n",
    "    #print(\"Combined Results:\", combined_results)\n",
    "    return combined_results\n",
    "\n",
    "def analyze_combined_results(combined_results):\n",
    "    \"\"\"\n",
    "    Analyzes the combined results from sparse and dense vector queries.\n",
    "\n",
    "    Parameters:\n",
    "        combined_results (dict): Dictionary containing search results from sparse and dense vector queries.\n",
    "                                 Example structure:\n",
    "                                 {\n",
    "                                     \"market_indicators\": [ ... ],\n",
    "                                     \"news_sentiment\": [ ... ]\n",
    "                                 }\n",
    "\n",
    "    Returns:\n",
    "        dict: A summary of the analysis, including key insights.\n",
    "    \"\"\"\n",
    "\n",
    "    # Extract results\n",
    "    market_results = combined_results.get('market_indicators', [])\n",
    "    news_results = combined_results.get('news_sentiment', [])\n",
    "\n",
    "    # Analyze market indicators\n",
    "    market_insights = []\n",
    "    for result in market_results:\n",
    "        market_insights.append({\n",
    "            \"date\": result.payload.get('date',\"N/A\"),\n",
    "            \"score\": result.score,  # Relevance score\n",
    "            \"id\": result.id,\n",
    "            \"indicator_vector\": result.vector,  # The sparse vector itself\n",
    "            \"RSI\": result.payload.get(\"RSI\",\"N/A\")\n",
    "        })\n",
    "\n",
    "    # Analyze news sentiment\n",
    "    news_insights = []\n",
    "    for result in news_results:\n",
    "        news_insights.append({\n",
    "            \"headline\": result.payload.get('title', 'N/A'),\n",
    "            \"score\": result.score,  # Relevance score\n",
    "            \"id\": result.id,\n",
    "            \"date\": result.payload.get('date', 'N/A'),\n",
    "            \"sentiment_vector\": result.vector  # The dense vector itself\n",
    "        })\n",
    "\n",
    "    # Combine insights for a summary\n",
    "    analysis_summary = {\n",
    "        \"market_insights\": market_insights,\n",
    "        \"news_insights\": news_insights,\n",
    "        \"combined_summary\": f\"Top market indicator on {market_insights[0]['date']} with relevance score {market_insights[0]['score']} with an RSI of about {market_insights[0][\"RSI\"]}.\"\n",
    "                            f\" Associated news headline: '{news_insights[0]['headline']}' dated {news_insights[0]['date']} with sentiment score {news_insights[0]['score']}.\"\n",
    "    }\n",
    "\n",
    "    return analysis_summary\n",
    "\n"
   ]
  },
  {
   "attachments": {},
   "cell_type": "markdown",
   "metadata": {},
   "source": [
    "\n",
    "Building a Real-Time Trading Signal Generator Using Qdrant\n",
    "\n",
    "This system can generate real-time trading signals by querying both sparse and dense vectors."
   ]
  },
  {
   "cell_type": "code",
   "execution_count": 14,
   "metadata": {},
   "outputs": [
    {
     "name": "stdout",
     "output_type": "stream",
     "text": [
      "Generated Trading Signal: Top market indicator on 2024-04-19 with relevance score 2.0630735e-09 with an RSI of about 0.4106571959163894. Associated news headline: 'Apple announces new MacBook Air laptops with its latest M3 chip' dated 2024-03-04 with sentiment score 0.513553.\n"
     ]
    }
   ],
   "source": [
    "# Example function to generate a trading signal\n",
    "def generate_trading_signal(stock_query, sentiment_query):\n",
    "    market_results = client.search(collection_name=\"financial_data\", query_vector=stock_query.tolist(), limit=5)\n",
    "    sentiment_results = client.search(collection_name=\"news_sentiment\", query_vector=sentiment_query.tolist(), limit=5)\n",
    "    \n",
    "    # Combine or analyze results to generate a signal\n",
    "    signal = combine_results(market_results, sentiment_results)\n",
    "    analysis_summary = analyze_combined_results(signal)\n",
    "    return analysis_summary\n",
    "\n",
    "# Example use\n",
    "stock_query = np.array([1, 1, 0, 0])\n",
    "sentiment_query = model.encode(\"Apple stock rises due to new product launch\")\n",
    "\n",
    "signal = generate_trading_signal(stock_query, sentiment_query)\n",
    "print(\"Generated Trading Signal:\", signal.get(\"combined_summary\"))\n"
   ]
  },
  {
   "cell_type": "code",
   "execution_count": 15,
   "metadata": {},
   "outputs": [
    {
     "data": {
      "text/plain": [
       "\"Top market indicator on 2024-04-19 with relevance score 2.0630735e-09 with an RSI of about 0.4106571959163894. Associated news headline: 'Apple announces new MacBook Air laptops with its latest M3 chip' dated 2024-03-04 with sentiment score 0.513553.\""
      ]
     },
     "execution_count": 15,
     "metadata": {},
     "output_type": "execute_result"
    }
   ],
   "source": [
    "signal.get(\"combined_summary\")"
   ]
  },
  {
   "attachments": {},
   "cell_type": "markdown",
   "metadata": {},
   "source": [
    "Hybrid Search in Financial Analytics\n",
    "Using Qdrant’s Hybrid Search Capabilities\n",
    "Qdrant supports hybrid search, which combines both sparse and dense vectors for nuanced insights."
   ]
  },
  {
   "cell_type": "markdown",
   "metadata": {},
   "source": [
    "### Hybrid Search by Combining Sparse and Dense Together through Qdrant"
   ]
  },
  {
   "cell_type": "code",
   "execution_count": 16,
   "metadata": {},
   "outputs": [
    {
     "name": "stderr",
     "output_type": "stream",
     "text": [
      "Fetching 5 files: 100%|██████████| 5/5 [00:00<00:00, 68985.26it/s]"
     ]
    },
    {
     "name": "stderr",
     "output_type": "stream",
     "text": [
      "\n",
      "Fetching 5 files: 100%|██████████| 5/5 [00:00<00:00, 77385.68it/s]\n",
      "Fetching 5 files: 100%|██████████| 5/5 [00:00<00:00, 18236.10it/s]\n",
      "Fetching 5 files: 100%|██████████| 5/5 [00:00<00:00, 38339.16it/s]\n",
      "\n",
      "Fetching 5 files: 100%|██████████| 5/5 [00:00<00:00, 13943.83it/s]\n",
      "Fetching 5 files: 100%|██████████| 5/5 [00:00<00:00, 11618.57it/s]\n",
      "Fetching 5 files: 100%|██████████| 5/5 [00:00<00:00, 12242.57it/s]\n",
      "Fetching 5 files: 100%|██████████| 5/5 [00:00<00:00, 57456.22it/s]\n",
      "Fetching 5 files: 100%|██████████| 5/5 [00:00<00:00, 9425.40it/s]\n",
      "Fetching 5 files: 100%|██████████| 5/5 [00:00<00:00, 68089.35it/s]\n",
      "Fetching 5 files: 100%|██████████| 5/5 [00:00<00:00, 45889.54it/s]\n",
      "Fetching 5 files: 100%|██████████| 5/5 [00:00<00:00, 43419.30it/s]\n",
      "Fetching 5 files: 100%|██████████| 5/5 [00:00<00:00, 73326.99it/s]\n",
      "Fetching 5 files: 100%|██████████| 5/5 [00:00<00:00, 45392.90it/s]\n",
      "Fetching 5 files: 100%|██████████| 5/5 [00:00<00:00, 18251.98it/s]\n",
      "Fetching 5 files: 100%|██████████| 5/5 [00:00<00:00, 21076.90it/s]\n",
      "Fetching 5 files: 100%|██████████| 5/5 [00:00<00:00, 8644.48it/s]\n",
      "Fetching 5 files: 100%|██████████| 5/5 [00:00<00:00, 14453.15it/s]\n",
      "Fetching 5 files: 100%|██████████| 5/5 [00:00<00:00, 11644.38it/s]\n",
      "Fetching 5 files: 100%|██████████| 5/5 [00:00<00:00, 47233.15it/s]\n",
      "Fetching 5 files: 100%|██████████| 5/5 [00:00<00:00, 39718.79it/s]\n",
      "Fetching 5 files: 100%|██████████| 5/5 [00:00<00:00, 29248.98it/s]\n",
      "Fetching 5 files: 100%|██████████| 5/5 [00:00<00:00, 26479.19it/s]\n",
      "Fetching 5 files: 100%|██████████| 5/5 [00:00<00:00, 27271.16it/s]\n",
      "Fetching 5 files: 100%|██████████| 5/5 [00:00<00:00, 5843.28it/s]\n",
      "Fetching 5 files: 100%|██████████| 5/5 [00:00<00:00, 9554.22it/s]\n",
      "Fetching 5 files: 100%|██████████| 5/5 [00:00<00:00, 13017.70it/s]\n",
      "Fetching 5 files: 100%|██████████| 5/5 [00:00<00:00, 48210.39it/s]\n",
      "Fetching 5 files: 100%|██████████| 5/5 [00:00<00:00, 52692.26it/s]\n",
      "Fetching 5 files: 100%|██████████| 5/5 [00:00<00:00, 9995.96it/s]\n",
      "Fetching 5 files: 100%|██████████| 5/5 [00:00<00:00, 9713.53it/s]\n",
      "Fetching 5 files: 100%|██████████| 5/5 [00:00<00:00, 62045.92it/s]\n",
      "Fetching 5 files: 100%|██████████| 5/5 [00:00<00:00, 53362.65it/s]\n",
      "Fetching 5 files: 100%|██████████| 5/5 [00:00<00:00, 16269.60it/s]\n",
      "Fetching 5 files: 100%|██████████| 5/5 [00:00<00:00, 40642.48it/s]\n",
      "Fetching 5 files: 100%|██████████| 5/5 [00:00<00:00, 56223.91it/s]\n",
      "Fetching 5 files: 100%|██████████| 5/5 [00:00<00:00, 51909.70it/s]\n",
      "Fetching 5 files: 100%|██████████| 5/5 [00:00<00:00, 76818.75it/s]\n",
      "Fetching 5 files: 100%|██████████| 5/5 [00:00<00:00, 62601.55it/s]\n",
      "Fetching 5 files: 100%|██████████| 5/5 [00:00<00:00, 221.54it/s]\n",
      "Fetching 5 files: 100%|██████████| 5/5 [00:00<00:00, 44715.39it/s]\n",
      "100%|██████████| 14/14 [00:09<00:00,  1.53it/s]\n",
      "Fetching 5 files: 100%|██████████| 5/5 [00:00<00:00, 30218.33it/s]\n"
     ]
    },
    {
     "data": {
      "text/plain": [
       "[0, 1, 2, 3, 4, 5, 6, 7, 8, 9, 10, 11, 12, 13]"
      ]
     },
     "execution_count": 16,
     "metadata": {},
     "output_type": "execute_result"
    }
   ],
   "source": [
    "from tqdm import tqdm\n",
    "\n",
    "client.set_model(\"sentence-transformers/all-MiniLM-L6-v2\")\n",
    "# comment this line to use dense vectors only\n",
    "client.set_sparse_model(\"prithivida/Splade_PP_en_v1\")\n",
    "\n",
    "if not client.collection_exists(\"hybrid_search\"):\n",
    "    client.create_collection(\n",
    "        collection_name=\"hybrid_search\",\n",
    "        vectors_config=client.get_fastembed_vector_params(),\n",
    "        # comment this line to use dense vectors only\n",
    "        sparse_vectors_config=client.get_fastembed_sparse_vector_params(),  \n",
    "    )\n",
    "documents = list(apple_news[\"text\"].values)\n",
    "metadata = list(apple_news[[\"title\",\"text\",\"date\"]])\n",
    "\n",
    "client.add(\n",
    "    collection_name=\"hybrid_search\",\n",
    "    documents=documents,\n",
    "    parallel=0,  # Use all available CPU cores to encode data. \n",
    "    ids=tqdm(range(len(documents)))\n",
    "    # Requires wrapping code into if __name__ == '__main__' block\n",
    ")\n"
   ]
  },
  {
   "cell_type": "code",
   "execution_count": 17,
   "metadata": {},
   "outputs": [
    {
     "data": {
      "text/plain": [
       "[{'document': 'In this article AAPL Follow your favorite stocks CREATE FREE ACCOUNT\\n\\nwatch now\\n\\nIt\\'s night. I\\'m at a lake near Oregon\\'s Mount Hood, sitting on the beach. Jazz music is playing as I write. I\\'m not in the real world. Well, I sort of am. I\\'m wearing Apple\\' s new Vision Pro headset, which looks like a fancy pair of glowing ski goggles. Apple\\'s long-awaited headset, which starts at $3,500, launches in the U.S. on Friday. It\\'s the company\\'s first major new gadget to hit the market since the Apple Watch debuted in April 2015. I\\'ve been testing it for nearly a week. While it has some shortcomings, it\\'s easily the most fun new product I\\'ve tried out in years. Analysts don\\'t expect the Vision Pro to drive massive amounts of revenue initially. UBS anticipates Apple will ship about 400,000 headsets, leading to a \"relatively immaterial\" $1.4 billion in revenue this year. However, I\\'m convinced that if Apple eventually sells cheaper versions, we\\'ll see millions of people using them in the coming years.\\n\\nThe Apple Vision Pro home screen. Todd Haselton | CNBC\\n\\nThe Vision Pro offers a new kind of experience that Apple calls \"spatial computing.\" You sit in your world while looking at a digital one, and then plop different apps around you. You can work, play games, watch movies or surf the web. Thanks to very sharp displays, and a full M2 processor that\\'s usually found in Macs, the Vision Pro has the power to do a lot of what you\\'d expect from an Apple device. There\\'s a dedicated App Store for Vision Pro apps, but you can also install more than a million iPhone or iPad apps. Or pair it with your Mac and work while looking at a 4K display inside the goggles. I\\'m only scratching the surface of the capabilities, but here\\'s the gist: This is an entirely new type of computing, providing a whole new world of experiences. It feels like the future. Here\\'s what you need to know:\\n\\nWhat\\'s good\\n\\nApple Vision Pro Source: Apple\\n\\nI was skeptical when I first met with Apple to see the Vision Pro. Companies have been trying to do virtual reality and augmented reality and mixed reality or gobbledygook reality for years. Sometimes it\\'s cool, but most of the time I\\'m done after an hour or so. With the Vision Pro, there are three key parts that come into play. It has super sharp and colorful screens, it allows you to see the world around you by default using \"passthrough\" technology, and it has a fast processor.\\n\\nText is super crisp on the Apple Vision Pro Todd Haselton | CNBC\\n\\nThe displays help remove the \"screendoor\" effect that\\'s common in lower-cost headsets like the Meta Quest 3. That\\'s where you can see the pixels as you look through a headset. You can easily read text on a website or a book on the Vision Pro. And I was able to watch movies, including in 3D, on screens bigger and nicer than any TV in my house.\\n\\nApple Vision Pro. Source: Apple\\n\\nThe Quest 3 and other headsets also have passthrough. But Apple\\'s works better. It\\'s clearer and sharper, enough so that I can comfortably see the room around me in full color and without any lag, though I still can\\'t read my phone. And I love how you can turn the small digital crown, just like on the Apple Watch or AirPods Max, to adjust the volume or transport yourself into a fully 3D landscape.\\n\\nYou can select different scenes to surround you. Todd Haselton | CNBC\\n\\nVirtual travel is a nice touch. You can work or watch movies in Hawaii, by a lake, in White Sands or at Joshua Tree. They\\'re all relaxing environments with calming sounds and slow animations – like clouds moving across the sky — that help you feel like you\\'re almost there. Navigation is easy once you get the hang of it. This reminds me a bit of the iPhone moment, when Apple launched its multitouch display that changed how we interact with phones that had largely been navigated with a stylus, touchpad or keyboard. There aren\\'t any controllers here. The headset uses sensors to track your eyes (and even verify when you\\'re making purchases online or in the App Store.) Apple has a quick setup process that aligns the headset to your eyes and then has you look at a series of dots, pinching your fingers as you go so you can calibrate. If you wear glasses, Apple also sells inserts that pop into the headset. It\\'s incredibly accurate. You just look where you want to go and then tap your thumb and index finger to select a button or app. There\\'s a white bar at the bottom of every app, for example, that you can grab to pull and push around. You can adjust the size of any app by looking at the corner and then dragging it out or in at a diagonal angle. And you can swipe through photos or scroll websites by holding your index finger and thumb together while pulling up or down. Likewise, you zoom in and out by holding those fingers on both hands and pulling outward or inward. You don\\'t have to flail your hands in front of you. The headset\\'s external cameras can detect your fingers down in your lap. You can be subtle.\\n\\nApple Vision Pro with a bunch of apps open. Todd Haselton | CNBC\\n\\nIt packs a punch. I launched more than a dozen apps around me. There\\'s no point in doing more, because you can\\'t see it all. I loved setting it up with a browser in front of me, music next to me and a TV screen above it all. But the world is yours to customize. You can open mail and a browser or leave Slack open next to a Word document with your calendar on the other side. Put your text messages on the ceiling if you want. It\\'s a completely new way to multitask.\\n\\nMultitasking with the Apple Vision Pro Todd Haselton | CNBC\\n\\nA note: My screenshots show apps askew. But, in the headset, they\\'re all perfectly level. I didn\\'t run into any slowdowns during my time with the Vision Pro. Part of that is due to how Apple renders content. It\\'s technically only sharpening the areas of the screen where you\\'re focusing, leaving the other areas blurry. That\\'s why some of the screenshots here look out of focus around the sides. Inside the headset, it\\'s all super crisp. It\\'s called foveated rendering, and it allows for optimized processing.\\n\\nGaming on the Apple Vision Pro is a lot of fun. Todd Haselton | CNBC\\n\\nI loved watching movies with the headset. I lounged on my couch and put up a huge screen across the wall of my living room and watched an hour of \"Barbie,\" and the two first episodes of \"Masters of the Air\" before the battery was at about 5%. Another night I watched \"Greyhound.\" I used the NBA app, which was updated to work on the Vision Pro, to stream four games at once, with the main game in the middle and others pinned to the sides. It\\'s wild.\\n\\nWith the NBA app I could watch a bunch of games at once. Todd Haselton | CNBC\\n\\nApple also has some specially recorded content that\\'s so sharp you feel like you\\'re standing right there next to a rendered dinosaur or a video of a rhinoceros. There\\'s a slightly terrifying clip with a woman walking on a tightrope between cliffs. Don\\'t watch if you\\'re afraid of heights. The clips show the type of content third parties will eventually be able record and publish to the headset. I imagine sports highlights or even sitting courtside at a live game. The Disney + app is fun. You can watch movies in one of about four different 3D landscapes. I sat in a racer on Tatooine and watched a bit of a Star Wars movie, but then switched over to watch \"Spider-Man: Into the Spider-verse\" in 3D. Unlike 3D TVs and movies, which generally flopped, the effects work well in the headset. It\\'s neat, but I still prefer watching movies in 2D. It feels more natural to me.\\n\\nApple Vision Pro FaceTiming and multitasking. Todd Haselton | CNBC\\n\\nFaceTime works well. You see a clear video of the person you\\'re calling on a screen in front of you. But they don\\'t see you. Or, not the real you. They see a 3D-rendered version of you called a digital Persona. It\\'s still in beta, and mine looked like a much older version of me. My colleague thought I looked like an 80-year-old man. My wife laughed. You create a Persona by selecting an option in the settings menu and then removing the headset and following screens on the external display. It asks you to look up, look down, look left, look right, smile, smile with teeth, and close your eyes. Then, in seconds, it creates a 3D Persona.\\n\\nZoom In Icon Arrows pointing outwards My digital Persona from the Apple Vision Pro. I think I look great!\\n\\nIt looks more human than cartoony like with other headsets. I spoke with people over FaceTime also using Personas, and it\\'s much easier to hold a conversation without feeling like you\\'re two goofy avatars trying to talk. You can hold a real meeting if necessary in your pajamas while your Persona is in work attire. Personas also carry over to other apps like WebEx.\\n\\nYou can see my persona\\'s eyes on the screen here. Jay Yarow | CNBC\\n\\nYour Persona\\'s eyes can appear on the outside display. Someone will see glowing effects on the outside of the headset if you have screens up in front of you. If they begin talking to you and you\\'re in an immersive view – like one of the landscapes I mentioned earlier – they\\'ll start to fade into focus so you can see them. As you look at them, the eyes of your digital Persona become visible on the outside of the headset. It looks like you\\'re wearing a snorkeling mask. In real life, I just removed the headset face when my wife came in to chat. The built-in speakers are great. They get nice and loud and support spatial audio, so if you turn your head away from the movie in front of you, the sound stays in the same place, much like if you were watching a real TV. Music and movies sounded fantastic, with full surround sound. People can hear the audio coming out of the headset, though, so you\\'ll want to use AirPods in public.\\n\\nPhotos in the Apple Vision Pro Todd Haselton | CNBC\\n\\nI love the \"spatial photos\" you can capture using the cameras on the outside of the Vision Pro or with the latest iPhone 15 Pro and iPhone 15 Pro Max. The camera creates a 3D version of a photo or video. I filmed my 4-month-old daughter eating and my dog\\'s 9th birthday, for example, in hopes that I\\'ll be able to come back and relive some of those moments. I wish I had recorded some of these videos when my stepfather was alive because it\\'d feel like he was in the room with me. Some people might see it as a gimmick, but I found it moving.\\n\\nLastly, the build quality is superb. Apple used top-of-the-line glass, screens and metals. It feels like a premium headset and it\\'s comfortable to wear. My only complaint is that I had to be deliberate to hold it by the metal frame. The padded inserts pop off their magnets if you try to grab them. Those could be stronger, but they were designed to be easily removed so people could share the headset by popping in their own inserts.\\n\\nWhat\\'s bad\\n\\nApple Vision Pro Todd Haselton | CNBC\\n\\nApple\\'s apps work well. You\\'ll find Notes, Music, Safari, Podcasts, Photos, Apple TV+, Maps and more. Other apps include SkyGuide and Disney+ and there are Apple Arcade games. Many more are coming, as most apps haven\\'t yet been built specifically for Vision Pro. The Vision Pro supports more than a million iPhone and iPad apps. But you need to search for each app individually and some of them aren\\'t available. Netflix and Spotify haven\\'t been shy about not supporting the Vision Pro, though you can easily access either using the browser. Still, there are lots of others that I couldn\\'t find: 1Password isn\\'t there, which made logging into some apps a bit of a pain. You won\\'t find Uber , DoorDash (but there\\'s GrubHub!) or Amazon . None of Google\\'s apps are here, including YouTube TV, though it works fine in the browser.\\n\\nSkyGuide in the Apple Vision Pro is fantastic. Todd Haselton | CNBC\\n\\nPopular games like Diablo Immortal and Genshin Impact aren\\'t available. Facebook\\'s apps aren\\'t here, so no Instagram. These are just a few I noticed. Some work well, though. I didn\\'t have any issues with the X iPad app, for example. CNBC\\'s app worked fine. Others, like Amazon Prime Video, exist but weren\\'t great during initial tests. A bug showed a big box in the middle of the screen when I was watching a movie. That bug has since been fixed. For some apps that aren\\'t yet available, developers are working to optimize them and eliminate bugs.\\n\\nX on the Apple Vision Pro Todd Haselton | CNBC\\n\\nApple Keychain was sometimes buggy in iPad apps. This is Apple\\'s version of 1Password, and I rely on it to enter my username and passwords. It generally works fine. But if you have two usernames for apps, like my wife and I do for Amazon Prime Video or Peacock, the app locks up when you try to select a different login. I informed Apple of the bug. The floating keyboard is useful for search or typing quick messages, but you won\\'t be able to type very fast at first. You look at each letter on a digital keyboard and select it, or reach out and tap the digital keyboard. I got faster during my time with the Vision Pro, but nowhere near as quick as I am on my iPhone or a real keyboard. You can just use Siri voice-to-text to respond to iMessages or enter URLs in the browser (and launch apps). Still, you\\'re going to want to use a keyboard if you have to do a lot of typing. There\\'s also the battery pack that plugs into the headset with a proprietary plug that you twist in. I don\\'t mind it. I thought the pack worked fine, but it would be a lot easier if it was just embedded into the headset, though that would add weight.\\n\\nShould you buy it?'},\n",
       " {'document': 'In this article AAPL Follow your favorite stocks CREATE FREE ACCOUNT\\n\\nwatch now\\n\\nIt\\'s night. I\\'m at a lake near Oregon\\'s Mount Hood, sitting on the beach. Jazz music is playing as I write. I\\'m not in the real world. Well, I sort of am. I\\'m wearing Apple\\' s new Vision Pro headset, which looks like a fancy pair of glowing ski goggles. Apple\\'s long-awaited headset, which starts at $3,500, launches in the U.S. on Friday. It\\'s the company\\'s first major new gadget to hit the market since the Apple Watch debuted in April 2015. I\\'ve been testing it for nearly a week. While it has some shortcomings, it\\'s easily the most fun new product I\\'ve tried out in years. Analysts don\\'t expect the Vision Pro to drive massive amounts of revenue initially. UBS anticipates Apple will ship about 400,000 headsets, leading to a \"relatively immaterial\" $1.4 billion in revenue this year. However, I\\'m convinced that if Apple eventually sells cheaper versions, we\\'ll see millions of people using them in the coming years.\\n\\nThe Apple Vision Pro home screen. Todd Haselton | CNBC\\n\\nThe Vision Pro offers a new kind of experience that Apple calls \"spatial computing.\" You sit in your world while looking at a digital one, and then plop different apps around you. You can work, play games, watch movies or surf the web. Thanks to very sharp displays, and a full M2 processor that\\'s usually found in Macs, the Vision Pro has the power to do a lot of what you\\'d expect from an Apple device. There\\'s a dedicated App Store for Vision Pro apps, but you can also install more than a million iPhone or iPad apps. Or pair it with your Mac and work while looking at a 4K display inside the goggles. I\\'m only scratching the surface of the capabilities, but here\\'s the gist: This is an entirely new type of computing, providing a whole new world of experiences. It feels like the future. Here\\'s what you need to know:\\n\\nWhat\\'s good\\n\\nApple Vision Pro Source: Apple\\n\\nI was skeptical when I first met with Apple to see the Vision Pro. Companies have been trying to do virtual reality and augmented reality and mixed reality or gobbledygook reality for years. Sometimes it\\'s cool, but most of the time I\\'m done after an hour or so. With the Vision Pro, there are three key parts that come into play. It has super sharp and colorful screens, it allows you to see the world around you by default using \"passthrough\" technology, and it has a fast processor.\\n\\nText is super crisp on the Apple Vision Pro Todd Haselton | CNBC\\n\\nThe displays help remove the \"screendoor\" effect that\\'s common in lower-cost headsets like the Meta Quest 3. That\\'s where you can see the pixels as you look through a headset. You can easily read text on a website or a book on the Vision Pro. And I was able to watch movies, including in 3D, on screens bigger and nicer than any TV in my house.\\n\\nApple Vision Pro. Source: Apple\\n\\nThe Quest 3 and other headsets also have passthrough. But Apple\\'s works better. It\\'s clearer and sharper, enough so that I can comfortably see the room around me in full color and without any lag, though I still can\\'t read my phone. And I love how you can turn the small digital crown, just like on the Apple Watch or AirPods Max, to adjust the volume or transport yourself into a fully 3D landscape.\\n\\nYou can select different scenes to surround you. Todd Haselton | CNBC\\n\\nVirtual travel is a nice touch. You can work or watch movies in Hawaii, by a lake, in White Sands or at Joshua Tree. They\\'re all relaxing environments with calming sounds and slow animations – like clouds moving across the sky — that help you feel like you\\'re almost there. Navigation is easy once you get the hang of it. This reminds me a bit of the iPhone moment, when Apple launched its multitouch display that changed how we interact with phones that had largely been navigated with a stylus, touchpad or keyboard. There aren\\'t any controllers here. The headset uses sensors to track your eyes (and even verify when you\\'re making purchases online or in the App Store.) Apple has a quick setup process that aligns the headset to your eyes and then has you look at a series of dots, pinching your fingers as you go so you can calibrate. If you wear glasses, Apple also sells inserts that pop into the headset. It\\'s incredibly accurate. You just look where you want to go and then tap your thumb and index finger to select a button or app. There\\'s a white bar at the bottom of every app, for example, that you can grab to pull and push around. You can adjust the size of any app by looking at the corner and then dragging it out or in at a diagonal angle. And you can swipe through photos or scroll websites by holding your index finger and thumb together while pulling up or down. Likewise, you zoom in and out by holding those fingers on both hands and pulling outward or inward. You don\\'t have to flail your hands in front of you. The headset\\'s external cameras can detect your fingers down in your lap. You can be subtle.\\n\\nApple Vision Pro with a bunch of apps open. Todd Haselton | CNBC\\n\\nIt packs a punch. I launched more than a dozen apps around me. There\\'s no point in doing more, because you can\\'t see it all. I loved setting it up with a browser in front of me, music next to me and a TV screen above it all. But the world is yours to customize. You can open mail and a browser or leave Slack open next to a Word document with your calendar on the other side. Put your text messages on the ceiling if you want. It\\'s a completely new way to multitask.\\n\\nMultitasking with the Apple Vision Pro Todd Haselton | CNBC\\n\\nA note: My screenshots show apps askew. But, in the headset, they\\'re all perfectly level. I didn\\'t run into any slowdowns during my time with the Vision Pro. Part of that is due to how Apple renders content. It\\'s technically only sharpening the areas of the screen where you\\'re focusing, leaving the other areas blurry. That\\'s why some of the screenshots here look out of focus around the sides. Inside the headset, it\\'s all super crisp. It\\'s called foveated rendering, and it allows for optimized processing.\\n\\nGaming on the Apple Vision Pro is a lot of fun. Todd Haselton | CNBC\\n\\nI loved watching movies with the headset. I lounged on my couch and put up a huge screen across the wall of my living room and watched an hour of \"Barbie,\" and the two first episodes of \"Masters of the Air\" before the battery was at about 5%. Another night I watched \"Greyhound.\" I used the NBA app, which was updated to work on the Vision Pro, to stream four games at once, with the main game in the middle and others pinned to the sides. It\\'s wild.\\n\\nWith the NBA app I could watch a bunch of games at once. Todd Haselton | CNBC\\n\\nApple also has some specially recorded content that\\'s so sharp you feel like you\\'re standing right there next to a rendered dinosaur or a video of a rhinoceros. There\\'s a slightly terrifying clip with a woman walking on a tightrope between cliffs. Don\\'t watch if you\\'re afraid of heights. The clips show the type of content third parties will eventually be able record and publish to the headset. I imagine sports highlights or even sitting courtside at a live game. The Disney + app is fun. You can watch movies in one of about four different 3D landscapes. I sat in a racer on Tatooine and watched a bit of a Star Wars movie, but then switched over to watch \"Spider-Man: Into the Spider-verse\" in 3D. Unlike 3D TVs and movies, which generally flopped, the effects work well in the headset. It\\'s neat, but I still prefer watching movies in 2D. It feels more natural to me.\\n\\nApple Vision Pro FaceTiming and multitasking. Todd Haselton | CNBC\\n\\nFaceTime works well. You see a clear video of the person you\\'re calling on a screen in front of you. But they don\\'t see you. Or, not the real you. They see a 3D-rendered version of you called a digital Persona. It\\'s still in beta, and mine looked like a much older version of me. My colleague thought I looked like an 80-year-old man. My wife laughed. You create a Persona by selecting an option in the settings menu and then removing the headset and following screens on the external display. It asks you to look up, look down, look left, look right, smile, smile with teeth, and close your eyes. Then, in seconds, it creates a 3D Persona.\\n\\nZoom In Icon Arrows pointing outwards My digital Persona from the Apple Vision Pro. I think I look great!\\n\\nIt looks more human than cartoony like with other headsets. I spoke with people over FaceTime also using Personas, and it\\'s much easier to hold a conversation without feeling like you\\'re two goofy avatars trying to talk. You can hold a real meeting if necessary in your pajamas while your Persona is in work attire. Personas also carry over to other apps like WebEx.\\n\\nYou can see my persona\\'s eyes on the screen here. Jay Yarow | CNBC\\n\\nYour Persona\\'s eyes can appear on the outside display. Someone will see glowing effects on the outside of the headset if you have screens up in front of you. If they begin talking to you and you\\'re in an immersive view – like one of the landscapes I mentioned earlier – they\\'ll start to fade into focus so you can see them. As you look at them, the eyes of your digital Persona become visible on the outside of the headset. It looks like you\\'re wearing a snorkeling mask. In real life, I just removed the headset face when my wife came in to chat. The built-in speakers are great. They get nice and loud and support spatial audio, so if you turn your head away from the movie in front of you, the sound stays in the same place, much like if you were watching a real TV. Music and movies sounded fantastic, with full surround sound. People can hear the audio coming out of the headset, though, so you\\'ll want to use AirPods in public.\\n\\nPhotos in the Apple Vision Pro Todd Haselton | CNBC\\n\\nI love the \"spatial photos\" you can capture using the cameras on the outside of the Vision Pro or with the latest iPhone 15 Pro and iPhone 15 Pro Max. The camera creates a 3D version of a photo or video. I filmed my 4-month-old daughter eating and my dog\\'s 9th birthday, for example, in hopes that I\\'ll be able to come back and relive some of those moments. I wish I had recorded some of these videos when my stepfather was alive because it\\'d feel like he was in the room with me. Some people might see it as a gimmick, but I found it moving.\\n\\nLastly, the build quality is superb. Apple used top-of-the-line glass, screens and metals. It feels like a premium headset and it\\'s comfortable to wear. My only complaint is that I had to be deliberate to hold it by the metal frame. The padded inserts pop off their magnets if you try to grab them. Those could be stronger, but they were designed to be easily removed so people could share the headset by popping in their own inserts.\\n\\nWhat\\'s bad\\n\\nApple Vision Pro Todd Haselton | CNBC\\n\\nApple\\'s apps work well. You\\'ll find Notes, Music, Safari, Podcasts, Photos, Apple TV+, Maps and more. Other apps include SkyGuide and Disney+ and there are Apple Arcade games. Many more are coming, as most apps haven\\'t yet been built specifically for Vision Pro. The Vision Pro supports more than a million iPhone and iPad apps. But you need to search for each app individually and some of them aren\\'t available. Netflix and Spotify haven\\'t been shy about not supporting the Vision Pro, though you can easily access either using the browser. Still, there are lots of others that I couldn\\'t find: 1Password isn\\'t there, which made logging into some apps a bit of a pain. You won\\'t find Uber , DoorDash (but there\\'s GrubHub!) or Amazon . None of Google\\'s apps are here, including YouTube TV, though it works fine in the browser.\\n\\nSkyGuide in the Apple Vision Pro is fantastic. Todd Haselton | CNBC\\n\\nPopular games like Diablo Immortal and Genshin Impact aren\\'t available. Facebook\\'s apps aren\\'t here, so no Instagram. These are just a few I noticed. Some work well, though. I didn\\'t have any issues with the X iPad app, for example. CNBC\\'s app worked fine. Others, like Amazon Prime Video, exist but weren\\'t great during initial tests. A bug showed a big box in the middle of the screen when I was watching a movie. That bug has since been fixed. For some apps that aren\\'t yet available, developers are working to optimize them and eliminate bugs.\\n\\nX on the Apple Vision Pro Todd Haselton | CNBC\\n\\nApple Keychain was sometimes buggy in iPad apps. This is Apple\\'s version of 1Password, and I rely on it to enter my username and passwords. It generally works fine. But if you have two usernames for apps, like my wife and I do for Amazon Prime Video or Peacock, the app locks up when you try to select a different login. I informed Apple of the bug. The floating keyboard is useful for search or typing quick messages, but you won\\'t be able to type very fast at first. You look at each letter on a digital keyboard and select it, or reach out and tap the digital keyboard. I got faster during my time with the Vision Pro, but nowhere near as quick as I am on my iPhone or a real keyboard. You can just use Siri voice-to-text to respond to iMessages or enter URLs in the browser (and launch apps). Still, you\\'re going to want to use a keyboard if you have to do a lot of typing. There\\'s also the battery pack that plugs into the headset with a proprietary plug that you twist in. I don\\'t mind it. I thought the pack worked fine, but it would be a lot easier if it was just embedded into the headset, though that would add weight.\\n\\nShould you buy it?'},\n",
       " {'document': \"Apple will overhaul its iPad family next year to make it less confusing for customers and to recharge slumping sales, according to Bloomberg. New versions of the iPad Pro and iPad Air are reportedly coming as soon as March.\\n\\nApple didn't release new iPads in 2023, and sales fell 3% from fiscal 2022 to fiscal 2023, after declining 8% the year before. IPad revenue in the company's fiscal fourth quarter fell 10% year over year after Apple warned of double-digit declines in its iPad and Mac segments.\\n\\nApple reportedly wants to make it easier to differentiate between the iPad models and also plans big upgrades. Apple currently sells two sizes of the iPad Pro, the iPad Air, the 10th generation iPad, the ninth generation iPad and the iPad mini. Accessories, such as keyboards and Apple Pencils, as well as chargers, vary depending on which model you're buying. It makes choosing an iPad more confusing than with any of Apple's other products.\\n\\nThe plan is to make the iPad Pro the clear top-line model, with the Air as a middle tier and the 11th generation iPad at the bottom, according to the report. The upcoming changes to the iPad Pro reportedly include a better screen, the M3 chip, a new design and a new Magic Keyboard attachment that only works with iPad Pros.\\n\\nThe new iPad Air will have two screen sizes and an M2 chip, according to the report.\\n\\nApple will reportedly release an updated iPad mini and the 11th generation iPad, the latter of which will allow the company to phase out the ninth generation version that still has a home button. The report did not specify the timetable on those releases.\\n\\nApple did not immediately respond to a request for comment.\\n\\nRead more from Bloomberg.\"},\n",
       " {'document': \"Apple will overhaul its iPad family next year to make it less confusing for customers and to recharge slumping sales, according to Bloomberg. New versions of the iPad Pro and iPad Air are reportedly coming as soon as March.\\n\\nApple didn't release new iPads in 2023, and sales fell 3% from fiscal 2022 to fiscal 2023, after declining 8% the year before. IPad revenue in the company's fiscal fourth quarter fell 10% year over year after Apple warned of double-digit declines in its iPad and Mac segments.\\n\\nApple reportedly wants to make it easier to differentiate between the iPad models and also plans big upgrades. Apple currently sells two sizes of the iPad Pro, the iPad Air, the 10th generation iPad, the ninth generation iPad and the iPad mini. Accessories, such as keyboards and Apple Pencils, as well as chargers, vary depending on which model you're buying. It makes choosing an iPad more confusing than with any of Apple's other products.\\n\\nThe plan is to make the iPad Pro the clear top-line model, with the Air as a middle tier and the 11th generation iPad at the bottom, according to the report. The upcoming changes to the iPad Pro reportedly include a better screen, the M3 chip, a new design and a new Magic Keyboard attachment that only works with iPad Pros.\\n\\nThe new iPad Air will have two screen sizes and an M2 chip, according to the report.\\n\\nApple will reportedly release an updated iPad mini and the 11th generation iPad, the latter of which will allow the company to phase out the ninth generation version that still has a home button. The report did not specify the timetable on those releases.\\n\\nApple did not immediately respond to a request for comment.\\n\\nRead more from Bloomberg.\"},\n",
       " {'document': 'Apple on Wednesday announced it is granting iPhone 14 users an additional free year of its safety service Emergency SOS via satellite.\\n\\nEmergency SOS via satellite allows users to text emergency services even if they are outside of an area with Wi-Fi or cell coverage. It can be useful if, for example, you\\'re hiking and have an emergency but aren\\'t anywhere near a wireless network. Apple said the feature has \"helped save lives around the world\" in a release Wednesday.\\n\\nEventually, when Apple decides to charge for the feature, it will provide another source of recurring revenue for the company\\'s services business, which generated $22.31 billion in sales during Apple\\'s fiscal fourth quarter. Apple still hasn\\'t said how much it will cost.\\n\\nMeanwhile, on Nov. 9, Qualcomm ended its partnership with satellite communications company Iridium to provide similar satellite-to-phone services for Android phones. Iridium said smartphone makers hadn\\'t included the technology in their devices, suggesting a lack of interest from Apple\\'s competitors.\\n\\nThe free trial of Emergency SOS via satellite applies to iPhone 14 users who activated their device in an eligible country or region before Nov. 15, Apple said. The service is also available to users who purchased one of Apple\\'s iPhone 15 devices, which was announced in September.\\n\\nApple announced additional satellite-based safety features in September like Roadside Assistance via satellite. The feature can connect users to the roadside service company AAA if they experience trouble with their vehicle in an area without cell service or wifi. The feature is free to iPhone 15 users for two years.\\n\\nShares of Apple were up less than 1% Wednesday.'}]"
      ]
     },
     "execution_count": 17,
     "metadata": {},
     "output_type": "execute_result"
    }
   ],
   "source": [
    "from fastapi import FastAPI\n",
    "\n",
    "# The file where HybridSearcher is stored\n",
    "from hybrid_search import HybridSearcher\n",
    "\n",
    "app = FastAPI()\n",
    "\n",
    "# Create a neural searcher instance\n",
    "hybrid_searcher = HybridSearcher(collection_name=\"hybrid_search\")\n",
    "\n",
    "def search_db(q: str):\n",
    "    return {\"result\": hybrid_searcher.search(text=q)}\n",
    "\n",
    "search_db(\"Apple is performing well\")[\"result\"]"
   ]
  },
  {
   "cell_type": "markdown",
   "metadata": {},
   "source": [
    "### Hybrid Search by Individual Collections from Sparse and Dense"
   ]
  },
  {
   "cell_type": "code",
   "execution_count": 18,
   "metadata": {},
   "outputs": [
    {
     "data": {
      "text/plain": [
       "(         date       RSI\n",
       " 0  2024-04-19  0.410657\n",
       " 1  2023-01-31  0.802949\n",
       " 2  2024-04-22  0.446043\n",
       " 3  2024-04-18  0.419448\n",
       " 4  2024-04-23  0.450980,\n",
       "          date                                              title\n",
       " 0  2023-12-11  Apple reportedly plans big overhaul to iPad fa...\n",
       " 1  2024-03-04  Apple announces new MacBook Air laptops with i...\n",
       " 2  2023-11-15  Apple iPhone 14 gets another free year of sate...\n",
       " 3  2024-01-19  Apple $3,499 Vision Pro headset now available ...\n",
       " 4  2024-01-30  Apple Vision Pro review: This is the future of...)"
      ]
     },
     "execution_count": 18,
     "metadata": {},
     "output_type": "execute_result"
    }
   ],
   "source": [
    "from qdrant_client import QdrantClient\n",
    "\n",
    "\n",
    "class HybridSearcher:\n",
    "    def __init__(self, collection_name):\n",
    "        self.collection_name = collection_name\n",
    "        # initialize Qdrant client\n",
    "        self.qdrant_client = client\n",
    "    def search(self, vector):\n",
    "        if type(self.collection_name) == str:\n",
    "            search_result = client.search(collection_name=self.collection_name, query_vector=vector.tolist(), limit=5)\n",
    "        else:\n",
    "            search_result = client.search(collection_name=self.collection_name[0], query_vector=vector[0].tolist(), limit=5)\n",
    "            search_result2 = client.search(collection_name=self.collection_name[1], query_vector=vector[1].tolist(), limit=5)\n",
    "\n",
    "        # `search_result` contains found vector ids with similarity scores \n",
    "        # along with the stored payload\n",
    "        \n",
    "        # Select and return metadata\n",
    "        if self.collection_name == \"news_sentiment\":\n",
    "            metadata = [hit.score for hit in search_result]\n",
    "        elif self.collection_name == \"financial_data\": \n",
    "            metadata = [hit.score for hit in search_result]\n",
    "        else:\n",
    "            metadata1 = [[hit.payload.get(\"date\"), hit.payload.get(\"RSI\")] for hit in search_result2]\n",
    "            metadata2 = [[hit.payload.get(\"date\"), hit.payload.get(\"title\")] for hit in search_result]\n",
    "\n",
    "            metadata = pd.DataFrame(metadata1,columns=[\"date\",\"RSI\"]),pd.DataFrame(metadata2,columns=[\"date\",\"title\"])\n",
    "        return metadata\n",
    "\n",
    "hybrid_searcher = HybridSearcher(collection_name=[\"news_sentiment\",\"financial_data\"])\n",
    "dense_vector = model.encode(\"Apple is performing well\")\n",
    "sparse_vector = np.array([1,1,0,0])\n",
    "vector = [dense_vector,sparse_vector]\n",
    "metadata = hybrid_searcher.search(vector)\n",
    "metadata"
   ]
  },
  {
   "cell_type": "code",
   "execution_count": 19,
   "metadata": {},
   "outputs": [
    {
     "name": "stdout",
     "output_type": "stream",
     "text": [
      "[0.4623789, 0.45850566, 0.45688626, 0.32975656, 0.321362]\n",
      "[2.0630735e-09, 1.9640336e-09, 1.916854e-09, 1.8119324e-09, 1.7531575e-09]\n"
     ]
    }
   ],
   "source": [
    "# Dense Query Result\n",
    "hybrid_searcher = HybridSearcher(collection_name=\"news_sentiment\")\n",
    "dense_vector = model.encode(\"Apple is performing well\")\n",
    "dense_results = hybrid_searcher.search(dense_vector)\n",
    "print(dense_results)\n",
    "\n",
    "hybrid_searcher = HybridSearcher(collection_name=\"financial_data\")\n",
    "sparse_vector = np.array([1,1,0,0])\n",
    "sparse_results = hybrid_searcher.search(sparse_vector)\n",
    "print(sparse_results)\n"
   ]
  },
  {
   "attachments": {},
   "cell_type": "markdown",
   "metadata": {},
   "source": [
    "Implement advanced techniques like Reciprocal Rank Fusion (RRF) for combining results:\n",
    "\n"
   ]
  },
  {
   "cell_type": "code",
   "execution_count": 20,
   "metadata": {},
   "outputs": [
    {
     "name": "stdout",
     "output_type": "stream",
     "text": [
      "1.5\n"
     ]
    }
   ],
   "source": [
    "def reciprocal_rank_fusion(results):\n",
    "    combined_rank = 0\n",
    "    for rank, result in enumerate(results, start=1):\n",
    "        combined_rank += 1 / rank\n",
    "    return combined_rank\n",
    "\n",
    "rrf_score = reciprocal_rank_fusion([sparse_results, dense_results])\n",
    "print(rrf_score)"
   ]
  }
 ],
 "metadata": {
  "kernelspec": {
   "display_name": "fin_ana",
   "language": "python",
   "name": "python3"
  },
  "language_info": {
   "codemirror_mode": {
    "name": "ipython",
    "version": 3
   },
   "file_extension": ".py",
   "mimetype": "text/x-python",
   "name": "python",
   "nbconvert_exporter": "python",
   "pygments_lexer": "ipython3",
   "version": "3.12.5"
  },
  "orig_nbformat": 4,
  "vscode": {
   "interpreter": {
    "hash": "e646c1d0f36d352194803eb1b3bd6a8438ff42a362f7da11dd92f9220eb2998e"
   }
  }
 },
 "nbformat": 4,
 "nbformat_minor": 2
}
